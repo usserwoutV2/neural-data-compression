{
 "cells": [
  {
   "cell_type": "code",
   "execution_count": null,
   "metadata": {},
   "outputs": [
    {
     "data": {
      "application/vnd.plotly.v1+json": {
       "config": {
        "plotlyServerURL": "https://plot.ly"
       },
       "data": [
        {
         "name": "Adaptive",
         "type": "bar",
         "x": [
          "bible",
          "celegchr",
          "mozilla"
         ],
         "y": [
          3.46,
          1.93,
          6.67
         ]
        },
        {
         "name": "Dynamic",
         "type": "bar",
         "x": [
          "bible",
          "celegchr",
          "mozilla"
         ],
         "y": [
          3.53,
          1.92,
          7.03
         ]
        },
        {
         "name": "arithmetic",
         "type": "bar",
         "x": [
          "bible",
          "celegchr",
          "mozilla"
         ],
         "y": [
          4.39,
          1.95,
          7.26
         ]
        }
       ],
       "layout": {
        "barmode": "group",
        "template": {
         "data": {
          "bar": [
           {
            "error_x": {
             "color": "#2a3f5f"
            },
            "error_y": {
             "color": "#2a3f5f"
            },
            "marker": {
             "line": {
              "color": "#E5ECF6",
              "width": 0.5
             },
             "pattern": {
              "fillmode": "overlay",
              "size": 10,
              "solidity": 0.2
             }
            },
            "type": "bar"
           }
          ],
          "barpolar": [
           {
            "marker": {
             "line": {
              "color": "#E5ECF6",
              "width": 0.5
             },
             "pattern": {
              "fillmode": "overlay",
              "size": 10,
              "solidity": 0.2
             }
            },
            "type": "barpolar"
           }
          ],
          "carpet": [
           {
            "aaxis": {
             "endlinecolor": "#2a3f5f",
             "gridcolor": "white",
             "linecolor": "white",
             "minorgridcolor": "white",
             "startlinecolor": "#2a3f5f"
            },
            "baxis": {
             "endlinecolor": "#2a3f5f",
             "gridcolor": "white",
             "linecolor": "white",
             "minorgridcolor": "white",
             "startlinecolor": "#2a3f5f"
            },
            "type": "carpet"
           }
          ],
          "choropleth": [
           {
            "colorbar": {
             "outlinewidth": 0,
             "ticks": ""
            },
            "type": "choropleth"
           }
          ],
          "contour": [
           {
            "colorbar": {
             "outlinewidth": 0,
             "ticks": ""
            },
            "colorscale": [
             [
              0,
              "#0d0887"
             ],
             [
              0.1111111111111111,
              "#46039f"
             ],
             [
              0.2222222222222222,
              "#7201a8"
             ],
             [
              0.3333333333333333,
              "#9c179e"
             ],
             [
              0.4444444444444444,
              "#bd3786"
             ],
             [
              0.5555555555555556,
              "#d8576b"
             ],
             [
              0.6666666666666666,
              "#ed7953"
             ],
             [
              0.7777777777777778,
              "#fb9f3a"
             ],
             [
              0.8888888888888888,
              "#fdca26"
             ],
             [
              1,
              "#f0f921"
             ]
            ],
            "type": "contour"
           }
          ],
          "contourcarpet": [
           {
            "colorbar": {
             "outlinewidth": 0,
             "ticks": ""
            },
            "type": "contourcarpet"
           }
          ],
          "heatmap": [
           {
            "colorbar": {
             "outlinewidth": 0,
             "ticks": ""
            },
            "colorscale": [
             [
              0,
              "#0d0887"
             ],
             [
              0.1111111111111111,
              "#46039f"
             ],
             [
              0.2222222222222222,
              "#7201a8"
             ],
             [
              0.3333333333333333,
              "#9c179e"
             ],
             [
              0.4444444444444444,
              "#bd3786"
             ],
             [
              0.5555555555555556,
              "#d8576b"
             ],
             [
              0.6666666666666666,
              "#ed7953"
             ],
             [
              0.7777777777777778,
              "#fb9f3a"
             ],
             [
              0.8888888888888888,
              "#fdca26"
             ],
             [
              1,
              "#f0f921"
             ]
            ],
            "type": "heatmap"
           }
          ],
          "heatmapgl": [
           {
            "colorbar": {
             "outlinewidth": 0,
             "ticks": ""
            },
            "colorscale": [
             [
              0,
              "#0d0887"
             ],
             [
              0.1111111111111111,
              "#46039f"
             ],
             [
              0.2222222222222222,
              "#7201a8"
             ],
             [
              0.3333333333333333,
              "#9c179e"
             ],
             [
              0.4444444444444444,
              "#bd3786"
             ],
             [
              0.5555555555555556,
              "#d8576b"
             ],
             [
              0.6666666666666666,
              "#ed7953"
             ],
             [
              0.7777777777777778,
              "#fb9f3a"
             ],
             [
              0.8888888888888888,
              "#fdca26"
             ],
             [
              1,
              "#f0f921"
             ]
            ],
            "type": "heatmapgl"
           }
          ],
          "histogram": [
           {
            "marker": {
             "pattern": {
              "fillmode": "overlay",
              "size": 10,
              "solidity": 0.2
             }
            },
            "type": "histogram"
           }
          ],
          "histogram2d": [
           {
            "colorbar": {
             "outlinewidth": 0,
             "ticks": ""
            },
            "colorscale": [
             [
              0,
              "#0d0887"
             ],
             [
              0.1111111111111111,
              "#46039f"
             ],
             [
              0.2222222222222222,
              "#7201a8"
             ],
             [
              0.3333333333333333,
              "#9c179e"
             ],
             [
              0.4444444444444444,
              "#bd3786"
             ],
             [
              0.5555555555555556,
              "#d8576b"
             ],
             [
              0.6666666666666666,
              "#ed7953"
             ],
             [
              0.7777777777777778,
              "#fb9f3a"
             ],
             [
              0.8888888888888888,
              "#fdca26"
             ],
             [
              1,
              "#f0f921"
             ]
            ],
            "type": "histogram2d"
           }
          ],
          "histogram2dcontour": [
           {
            "colorbar": {
             "outlinewidth": 0,
             "ticks": ""
            },
            "colorscale": [
             [
              0,
              "#0d0887"
             ],
             [
              0.1111111111111111,
              "#46039f"
             ],
             [
              0.2222222222222222,
              "#7201a8"
             ],
             [
              0.3333333333333333,
              "#9c179e"
             ],
             [
              0.4444444444444444,
              "#bd3786"
             ],
             [
              0.5555555555555556,
              "#d8576b"
             ],
             [
              0.6666666666666666,
              "#ed7953"
             ],
             [
              0.7777777777777778,
              "#fb9f3a"
             ],
             [
              0.8888888888888888,
              "#fdca26"
             ],
             [
              1,
              "#f0f921"
             ]
            ],
            "type": "histogram2dcontour"
           }
          ],
          "mesh3d": [
           {
            "colorbar": {
             "outlinewidth": 0,
             "ticks": ""
            },
            "type": "mesh3d"
           }
          ],
          "parcoords": [
           {
            "line": {
             "colorbar": {
              "outlinewidth": 0,
              "ticks": ""
             }
            },
            "type": "parcoords"
           }
          ],
          "pie": [
           {
            "automargin": true,
            "type": "pie"
           }
          ],
          "scatter": [
           {
            "fillpattern": {
             "fillmode": "overlay",
             "size": 10,
             "solidity": 0.2
            },
            "type": "scatter"
           }
          ],
          "scatter3d": [
           {
            "line": {
             "colorbar": {
              "outlinewidth": 0,
              "ticks": ""
             }
            },
            "marker": {
             "colorbar": {
              "outlinewidth": 0,
              "ticks": ""
             }
            },
            "type": "scatter3d"
           }
          ],
          "scattercarpet": [
           {
            "marker": {
             "colorbar": {
              "outlinewidth": 0,
              "ticks": ""
             }
            },
            "type": "scattercarpet"
           }
          ],
          "scattergeo": [
           {
            "marker": {
             "colorbar": {
              "outlinewidth": 0,
              "ticks": ""
             }
            },
            "type": "scattergeo"
           }
          ],
          "scattergl": [
           {
            "marker": {
             "colorbar": {
              "outlinewidth": 0,
              "ticks": ""
             }
            },
            "type": "scattergl"
           }
          ],
          "scattermapbox": [
           {
            "marker": {
             "colorbar": {
              "outlinewidth": 0,
              "ticks": ""
             }
            },
            "type": "scattermapbox"
           }
          ],
          "scatterpolar": [
           {
            "marker": {
             "colorbar": {
              "outlinewidth": 0,
              "ticks": ""
             }
            },
            "type": "scatterpolar"
           }
          ],
          "scatterpolargl": [
           {
            "marker": {
             "colorbar": {
              "outlinewidth": 0,
              "ticks": ""
             }
            },
            "type": "scatterpolargl"
           }
          ],
          "scatterternary": [
           {
            "marker": {
             "colorbar": {
              "outlinewidth": 0,
              "ticks": ""
             }
            },
            "type": "scatterternary"
           }
          ],
          "surface": [
           {
            "colorbar": {
             "outlinewidth": 0,
             "ticks": ""
            },
            "colorscale": [
             [
              0,
              "#0d0887"
             ],
             [
              0.1111111111111111,
              "#46039f"
             ],
             [
              0.2222222222222222,
              "#7201a8"
             ],
             [
              0.3333333333333333,
              "#9c179e"
             ],
             [
              0.4444444444444444,
              "#bd3786"
             ],
             [
              0.5555555555555556,
              "#d8576b"
             ],
             [
              0.6666666666666666,
              "#ed7953"
             ],
             [
              0.7777777777777778,
              "#fb9f3a"
             ],
             [
              0.8888888888888888,
              "#fdca26"
             ],
             [
              1,
              "#f0f921"
             ]
            ],
            "type": "surface"
           }
          ],
          "table": [
           {
            "cells": {
             "fill": {
              "color": "#EBF0F8"
             },
             "line": {
              "color": "white"
             }
            },
            "header": {
             "fill": {
              "color": "#C8D4E3"
             },
             "line": {
              "color": "white"
             }
            },
            "type": "table"
           }
          ]
         },
         "layout": {
          "annotationdefaults": {
           "arrowcolor": "#2a3f5f",
           "arrowhead": 0,
           "arrowwidth": 1
          },
          "autotypenumbers": "strict",
          "coloraxis": {
           "colorbar": {
            "outlinewidth": 0,
            "ticks": ""
           }
          },
          "colorscale": {
           "diverging": [
            [
             0,
             "#8e0152"
            ],
            [
             0.1,
             "#c51b7d"
            ],
            [
             0.2,
             "#de77ae"
            ],
            [
             0.3,
             "#f1b6da"
            ],
            [
             0.4,
             "#fde0ef"
            ],
            [
             0.5,
             "#f7f7f7"
            ],
            [
             0.6,
             "#e6f5d0"
            ],
            [
             0.7,
             "#b8e186"
            ],
            [
             0.8,
             "#7fbc41"
            ],
            [
             0.9,
             "#4d9221"
            ],
            [
             1,
             "#276419"
            ]
           ],
           "sequential": [
            [
             0,
             "#0d0887"
            ],
            [
             0.1111111111111111,
             "#46039f"
            ],
            [
             0.2222222222222222,
             "#7201a8"
            ],
            [
             0.3333333333333333,
             "#9c179e"
            ],
            [
             0.4444444444444444,
             "#bd3786"
            ],
            [
             0.5555555555555556,
             "#d8576b"
            ],
            [
             0.6666666666666666,
             "#ed7953"
            ],
            [
             0.7777777777777778,
             "#fb9f3a"
            ],
            [
             0.8888888888888888,
             "#fdca26"
            ],
            [
             1,
             "#f0f921"
            ]
           ],
           "sequentialminus": [
            [
             0,
             "#0d0887"
            ],
            [
             0.1111111111111111,
             "#46039f"
            ],
            [
             0.2222222222222222,
             "#7201a8"
            ],
            [
             0.3333333333333333,
             "#9c179e"
            ],
            [
             0.4444444444444444,
             "#bd3786"
            ],
            [
             0.5555555555555556,
             "#d8576b"
            ],
            [
             0.6666666666666666,
             "#ed7953"
            ],
            [
             0.7777777777777778,
             "#fb9f3a"
            ],
            [
             0.8888888888888888,
             "#fdca26"
            ],
            [
             1,
             "#f0f921"
            ]
           ]
          },
          "colorway": [
           "#636efa",
           "#EF553B",
           "#00cc96",
           "#ab63fa",
           "#FFA15A",
           "#19d3f3",
           "#FF6692",
           "#B6E880",
           "#FF97FF",
           "#FECB52"
          ],
          "font": {
           "color": "#2a3f5f"
          },
          "geo": {
           "bgcolor": "white",
           "lakecolor": "white",
           "landcolor": "#E5ECF6",
           "showlakes": true,
           "showland": true,
           "subunitcolor": "white"
          },
          "hoverlabel": {
           "align": "left"
          },
          "hovermode": "closest",
          "mapbox": {
           "style": "light"
          },
          "paper_bgcolor": "white",
          "plot_bgcolor": "#E5ECF6",
          "polar": {
           "angularaxis": {
            "gridcolor": "white",
            "linecolor": "white",
            "ticks": ""
           },
           "bgcolor": "#E5ECF6",
           "radialaxis": {
            "gridcolor": "white",
            "linecolor": "white",
            "ticks": ""
           }
          },
          "scene": {
           "xaxis": {
            "backgroundcolor": "#E5ECF6",
            "gridcolor": "white",
            "gridwidth": 2,
            "linecolor": "white",
            "showbackground": true,
            "ticks": "",
            "zerolinecolor": "white"
           },
           "yaxis": {
            "backgroundcolor": "#E5ECF6",
            "gridcolor": "white",
            "gridwidth": 2,
            "linecolor": "white",
            "showbackground": true,
            "ticks": "",
            "zerolinecolor": "white"
           },
           "zaxis": {
            "backgroundcolor": "#E5ECF6",
            "gridcolor": "white",
            "gridwidth": 2,
            "linecolor": "white",
            "showbackground": true,
            "ticks": "",
            "zerolinecolor": "white"
           }
          },
          "shapedefaults": {
           "line": {
            "color": "#2a3f5f"
           }
          },
          "ternary": {
           "aaxis": {
            "gridcolor": "white",
            "linecolor": "white",
            "ticks": ""
           },
           "baxis": {
            "gridcolor": "white",
            "linecolor": "white",
            "ticks": ""
           },
           "bgcolor": "#E5ECF6",
           "caxis": {
            "gridcolor": "white",
            "linecolor": "white",
            "ticks": ""
           }
          },
          "title": {
           "x": 0.05
          },
          "xaxis": {
           "automargin": true,
           "gridcolor": "white",
           "linecolor": "white",
           "ticks": "",
           "title": {
            "standoff": 15
           },
           "zerolinecolor": "white",
           "zerolinewidth": 2
          },
          "yaxis": {
           "automargin": true,
           "gridcolor": "white",
           "linecolor": "white",
           "ticks": "",
           "title": {
            "standoff": 15
           },
           "zerolinecolor": "white",
           "zerolinewidth": 2
          }
         }
        },
        "xaxis": {
         "title": {
          "text": "Datasets"
         }
        },
        "yaxis": {
         "title": {
          "text": "Bits per Character (bpc)"
         }
        }
       }
      }
     },
     "metadata": {},
     "output_type": "display_data"
    }
   ],
   "source": [
    "import plotly.graph_objects as go\n",
    "\n",
    "# Data extracted from the LaTeX table\n",
    "methods = [\"Adaptive\", \"Dynamic\", \"arithmetic\"] #, \"gzip\", \"zlib\", \"lzma\"]\n",
    "datasets = [\"bible\", \"celegchr\", \"mozilla\"]\n",
    "data = {\n",
    "    \"Adaptive\": [3.46, 1.93, 6.67],\n",
    "    \"Dynamic\": [3.53, 1.92, 7.03],\n",
    "    \"arithmetic\": [4.39, 1.95, 7.26],\n",
    "    # \"gzip\": [2.24, 2.11, 5.26],\n",
    "    # \"zlib\": [2.27, 2.19, 5.26],\n",
    "    # \"lzma\": [1.8, 1.88, 5.11]\n",
    "}\n",
    "\n",
    "fig = go.Figure()\n",
    "\n",
    "# Add traces for each method\n",
    "for i, method in enumerate(methods):\n",
    "    fig.add_trace(go.Bar(\n",
    "        x=datasets,\n",
    "        y=data[method],\n",
    "        name=method\n",
    "    ))\n",
    "\n",
    "# Update layout\n",
    "fig.update_layout(\n",
    "    xaxis_title='Datasets',\n",
    "    yaxis_title='Bits per Character (bpc)',\n",
    "    barmode='group'\n",
    ")\n",
    "\n",
    "fig.show()"
   ]
  },
  {
   "cell_type": "markdown",
   "metadata": {},
   "source": [
    "# + RNN "
   ]
  },
  {
   "cell_type": "code",
   "execution_count": 6,
   "metadata": {},
   "outputs": [
    {
     "data": {
      "application/vnd.plotly.v1+json": {
       "config": {
        "plotlyServerURL": "https://plot.ly"
       },
       "data": [
        {
         "name": "Adaptive RNN",
         "type": "bar",
         "x": [
          "bible",
          "celegchr",
          "mozilla"
         ],
         "y": [
          2.74,
          1.93,
          6.48
         ]
        },
        {
         "name": "Dynamic RNN",
         "type": "bar",
         "x": [
          "bible",
          "celegchr",
          "mozilla"
         ],
         "y": [
          3.13,
          1.92,
          7.19
         ]
        },
        {
         "name": "arithmetic",
         "type": "bar",
         "x": [
          "bible",
          "celegchr",
          "mozilla"
         ],
         "y": [
          4.39,
          1.95,
          7.26
         ]
        }
       ],
       "layout": {
        "barmode": "group",
        "template": {
         "data": {
          "bar": [
           {
            "error_x": {
             "color": "#2a3f5f"
            },
            "error_y": {
             "color": "#2a3f5f"
            },
            "marker": {
             "line": {
              "color": "#E5ECF6",
              "width": 0.5
             },
             "pattern": {
              "fillmode": "overlay",
              "size": 10,
              "solidity": 0.2
             }
            },
            "type": "bar"
           }
          ],
          "barpolar": [
           {
            "marker": {
             "line": {
              "color": "#E5ECF6",
              "width": 0.5
             },
             "pattern": {
              "fillmode": "overlay",
              "size": 10,
              "solidity": 0.2
             }
            },
            "type": "barpolar"
           }
          ],
          "carpet": [
           {
            "aaxis": {
             "endlinecolor": "#2a3f5f",
             "gridcolor": "white",
             "linecolor": "white",
             "minorgridcolor": "white",
             "startlinecolor": "#2a3f5f"
            },
            "baxis": {
             "endlinecolor": "#2a3f5f",
             "gridcolor": "white",
             "linecolor": "white",
             "minorgridcolor": "white",
             "startlinecolor": "#2a3f5f"
            },
            "type": "carpet"
           }
          ],
          "choropleth": [
           {
            "colorbar": {
             "outlinewidth": 0,
             "ticks": ""
            },
            "type": "choropleth"
           }
          ],
          "contour": [
           {
            "colorbar": {
             "outlinewidth": 0,
             "ticks": ""
            },
            "colorscale": [
             [
              0,
              "#0d0887"
             ],
             [
              0.1111111111111111,
              "#46039f"
             ],
             [
              0.2222222222222222,
              "#7201a8"
             ],
             [
              0.3333333333333333,
              "#9c179e"
             ],
             [
              0.4444444444444444,
              "#bd3786"
             ],
             [
              0.5555555555555556,
              "#d8576b"
             ],
             [
              0.6666666666666666,
              "#ed7953"
             ],
             [
              0.7777777777777778,
              "#fb9f3a"
             ],
             [
              0.8888888888888888,
              "#fdca26"
             ],
             [
              1,
              "#f0f921"
             ]
            ],
            "type": "contour"
           }
          ],
          "contourcarpet": [
           {
            "colorbar": {
             "outlinewidth": 0,
             "ticks": ""
            },
            "type": "contourcarpet"
           }
          ],
          "heatmap": [
           {
            "colorbar": {
             "outlinewidth": 0,
             "ticks": ""
            },
            "colorscale": [
             [
              0,
              "#0d0887"
             ],
             [
              0.1111111111111111,
              "#46039f"
             ],
             [
              0.2222222222222222,
              "#7201a8"
             ],
             [
              0.3333333333333333,
              "#9c179e"
             ],
             [
              0.4444444444444444,
              "#bd3786"
             ],
             [
              0.5555555555555556,
              "#d8576b"
             ],
             [
              0.6666666666666666,
              "#ed7953"
             ],
             [
              0.7777777777777778,
              "#fb9f3a"
             ],
             [
              0.8888888888888888,
              "#fdca26"
             ],
             [
              1,
              "#f0f921"
             ]
            ],
            "type": "heatmap"
           }
          ],
          "heatmapgl": [
           {
            "colorbar": {
             "outlinewidth": 0,
             "ticks": ""
            },
            "colorscale": [
             [
              0,
              "#0d0887"
             ],
             [
              0.1111111111111111,
              "#46039f"
             ],
             [
              0.2222222222222222,
              "#7201a8"
             ],
             [
              0.3333333333333333,
              "#9c179e"
             ],
             [
              0.4444444444444444,
              "#bd3786"
             ],
             [
              0.5555555555555556,
              "#d8576b"
             ],
             [
              0.6666666666666666,
              "#ed7953"
             ],
             [
              0.7777777777777778,
              "#fb9f3a"
             ],
             [
              0.8888888888888888,
              "#fdca26"
             ],
             [
              1,
              "#f0f921"
             ]
            ],
            "type": "heatmapgl"
           }
          ],
          "histogram": [
           {
            "marker": {
             "pattern": {
              "fillmode": "overlay",
              "size": 10,
              "solidity": 0.2
             }
            },
            "type": "histogram"
           }
          ],
          "histogram2d": [
           {
            "colorbar": {
             "outlinewidth": 0,
             "ticks": ""
            },
            "colorscale": [
             [
              0,
              "#0d0887"
             ],
             [
              0.1111111111111111,
              "#46039f"
             ],
             [
              0.2222222222222222,
              "#7201a8"
             ],
             [
              0.3333333333333333,
              "#9c179e"
             ],
             [
              0.4444444444444444,
              "#bd3786"
             ],
             [
              0.5555555555555556,
              "#d8576b"
             ],
             [
              0.6666666666666666,
              "#ed7953"
             ],
             [
              0.7777777777777778,
              "#fb9f3a"
             ],
             [
              0.8888888888888888,
              "#fdca26"
             ],
             [
              1,
              "#f0f921"
             ]
            ],
            "type": "histogram2d"
           }
          ],
          "histogram2dcontour": [
           {
            "colorbar": {
             "outlinewidth": 0,
             "ticks": ""
            },
            "colorscale": [
             [
              0,
              "#0d0887"
             ],
             [
              0.1111111111111111,
              "#46039f"
             ],
             [
              0.2222222222222222,
              "#7201a8"
             ],
             [
              0.3333333333333333,
              "#9c179e"
             ],
             [
              0.4444444444444444,
              "#bd3786"
             ],
             [
              0.5555555555555556,
              "#d8576b"
             ],
             [
              0.6666666666666666,
              "#ed7953"
             ],
             [
              0.7777777777777778,
              "#fb9f3a"
             ],
             [
              0.8888888888888888,
              "#fdca26"
             ],
             [
              1,
              "#f0f921"
             ]
            ],
            "type": "histogram2dcontour"
           }
          ],
          "mesh3d": [
           {
            "colorbar": {
             "outlinewidth": 0,
             "ticks": ""
            },
            "type": "mesh3d"
           }
          ],
          "parcoords": [
           {
            "line": {
             "colorbar": {
              "outlinewidth": 0,
              "ticks": ""
             }
            },
            "type": "parcoords"
           }
          ],
          "pie": [
           {
            "automargin": true,
            "type": "pie"
           }
          ],
          "scatter": [
           {
            "fillpattern": {
             "fillmode": "overlay",
             "size": 10,
             "solidity": 0.2
            },
            "type": "scatter"
           }
          ],
          "scatter3d": [
           {
            "line": {
             "colorbar": {
              "outlinewidth": 0,
              "ticks": ""
             }
            },
            "marker": {
             "colorbar": {
              "outlinewidth": 0,
              "ticks": ""
             }
            },
            "type": "scatter3d"
           }
          ],
          "scattercarpet": [
           {
            "marker": {
             "colorbar": {
              "outlinewidth": 0,
              "ticks": ""
             }
            },
            "type": "scattercarpet"
           }
          ],
          "scattergeo": [
           {
            "marker": {
             "colorbar": {
              "outlinewidth": 0,
              "ticks": ""
             }
            },
            "type": "scattergeo"
           }
          ],
          "scattergl": [
           {
            "marker": {
             "colorbar": {
              "outlinewidth": 0,
              "ticks": ""
             }
            },
            "type": "scattergl"
           }
          ],
          "scattermapbox": [
           {
            "marker": {
             "colorbar": {
              "outlinewidth": 0,
              "ticks": ""
             }
            },
            "type": "scattermapbox"
           }
          ],
          "scatterpolar": [
           {
            "marker": {
             "colorbar": {
              "outlinewidth": 0,
              "ticks": ""
             }
            },
            "type": "scatterpolar"
           }
          ],
          "scatterpolargl": [
           {
            "marker": {
             "colorbar": {
              "outlinewidth": 0,
              "ticks": ""
             }
            },
            "type": "scatterpolargl"
           }
          ],
          "scatterternary": [
           {
            "marker": {
             "colorbar": {
              "outlinewidth": 0,
              "ticks": ""
             }
            },
            "type": "scatterternary"
           }
          ],
          "surface": [
           {
            "colorbar": {
             "outlinewidth": 0,
             "ticks": ""
            },
            "colorscale": [
             [
              0,
              "#0d0887"
             ],
             [
              0.1111111111111111,
              "#46039f"
             ],
             [
              0.2222222222222222,
              "#7201a8"
             ],
             [
              0.3333333333333333,
              "#9c179e"
             ],
             [
              0.4444444444444444,
              "#bd3786"
             ],
             [
              0.5555555555555556,
              "#d8576b"
             ],
             [
              0.6666666666666666,
              "#ed7953"
             ],
             [
              0.7777777777777778,
              "#fb9f3a"
             ],
             [
              0.8888888888888888,
              "#fdca26"
             ],
             [
              1,
              "#f0f921"
             ]
            ],
            "type": "surface"
           }
          ],
          "table": [
           {
            "cells": {
             "fill": {
              "color": "#EBF0F8"
             },
             "line": {
              "color": "white"
             }
            },
            "header": {
             "fill": {
              "color": "#C8D4E3"
             },
             "line": {
              "color": "white"
             }
            },
            "type": "table"
           }
          ]
         },
         "layout": {
          "annotationdefaults": {
           "arrowcolor": "#2a3f5f",
           "arrowhead": 0,
           "arrowwidth": 1
          },
          "autotypenumbers": "strict",
          "coloraxis": {
           "colorbar": {
            "outlinewidth": 0,
            "ticks": ""
           }
          },
          "colorscale": {
           "diverging": [
            [
             0,
             "#8e0152"
            ],
            [
             0.1,
             "#c51b7d"
            ],
            [
             0.2,
             "#de77ae"
            ],
            [
             0.3,
             "#f1b6da"
            ],
            [
             0.4,
             "#fde0ef"
            ],
            [
             0.5,
             "#f7f7f7"
            ],
            [
             0.6,
             "#e6f5d0"
            ],
            [
             0.7,
             "#b8e186"
            ],
            [
             0.8,
             "#7fbc41"
            ],
            [
             0.9,
             "#4d9221"
            ],
            [
             1,
             "#276419"
            ]
           ],
           "sequential": [
            [
             0,
             "#0d0887"
            ],
            [
             0.1111111111111111,
             "#46039f"
            ],
            [
             0.2222222222222222,
             "#7201a8"
            ],
            [
             0.3333333333333333,
             "#9c179e"
            ],
            [
             0.4444444444444444,
             "#bd3786"
            ],
            [
             0.5555555555555556,
             "#d8576b"
            ],
            [
             0.6666666666666666,
             "#ed7953"
            ],
            [
             0.7777777777777778,
             "#fb9f3a"
            ],
            [
             0.8888888888888888,
             "#fdca26"
            ],
            [
             1,
             "#f0f921"
            ]
           ],
           "sequentialminus": [
            [
             0,
             "#0d0887"
            ],
            [
             0.1111111111111111,
             "#46039f"
            ],
            [
             0.2222222222222222,
             "#7201a8"
            ],
            [
             0.3333333333333333,
             "#9c179e"
            ],
            [
             0.4444444444444444,
             "#bd3786"
            ],
            [
             0.5555555555555556,
             "#d8576b"
            ],
            [
             0.6666666666666666,
             "#ed7953"
            ],
            [
             0.7777777777777778,
             "#fb9f3a"
            ],
            [
             0.8888888888888888,
             "#fdca26"
            ],
            [
             1,
             "#f0f921"
            ]
           ]
          },
          "colorway": [
           "#636efa",
           "#EF553B",
           "#00cc96",
           "#ab63fa",
           "#FFA15A",
           "#19d3f3",
           "#FF6692",
           "#B6E880",
           "#FF97FF",
           "#FECB52"
          ],
          "font": {
           "color": "#2a3f5f"
          },
          "geo": {
           "bgcolor": "white",
           "lakecolor": "white",
           "landcolor": "#E5ECF6",
           "showlakes": true,
           "showland": true,
           "subunitcolor": "white"
          },
          "hoverlabel": {
           "align": "left"
          },
          "hovermode": "closest",
          "mapbox": {
           "style": "light"
          },
          "paper_bgcolor": "white",
          "plot_bgcolor": "#E5ECF6",
          "polar": {
           "angularaxis": {
            "gridcolor": "white",
            "linecolor": "white",
            "ticks": ""
           },
           "bgcolor": "#E5ECF6",
           "radialaxis": {
            "gridcolor": "white",
            "linecolor": "white",
            "ticks": ""
           }
          },
          "scene": {
           "xaxis": {
            "backgroundcolor": "#E5ECF6",
            "gridcolor": "white",
            "gridwidth": 2,
            "linecolor": "white",
            "showbackground": true,
            "ticks": "",
            "zerolinecolor": "white"
           },
           "yaxis": {
            "backgroundcolor": "#E5ECF6",
            "gridcolor": "white",
            "gridwidth": 2,
            "linecolor": "white",
            "showbackground": true,
            "ticks": "",
            "zerolinecolor": "white"
           },
           "zaxis": {
            "backgroundcolor": "#E5ECF6",
            "gridcolor": "white",
            "gridwidth": 2,
            "linecolor": "white",
            "showbackground": true,
            "ticks": "",
            "zerolinecolor": "white"
           }
          },
          "shapedefaults": {
           "line": {
            "color": "#2a3f5f"
           }
          },
          "ternary": {
           "aaxis": {
            "gridcolor": "white",
            "linecolor": "white",
            "ticks": ""
           },
           "baxis": {
            "gridcolor": "white",
            "linecolor": "white",
            "ticks": ""
           },
           "bgcolor": "#E5ECF6",
           "caxis": {
            "gridcolor": "white",
            "linecolor": "white",
            "ticks": ""
           }
          },
          "title": {
           "x": 0.05
          },
          "xaxis": {
           "automargin": true,
           "gridcolor": "white",
           "linecolor": "white",
           "ticks": "",
           "title": {
            "standoff": 15
           },
           "zerolinecolor": "white",
           "zerolinewidth": 2
          },
          "yaxis": {
           "automargin": true,
           "gridcolor": "white",
           "linecolor": "white",
           "ticks": "",
           "title": {
            "standoff": 15
           },
           "zerolinecolor": "white",
           "zerolinewidth": 2
          }
         }
        },
        "xaxis": {
         "title": {
          "text": "Datasets"
         }
        },
        "yaxis": {
         "title": {
          "text": "Bits per Character (bpc)"
         }
        }
       }
      }
     },
     "metadata": {},
     "output_type": "display_data"
    }
   ],
   "source": [
    "import plotly.graph_objects as go\n",
    "\n",
    "# Data extracted from the LaTeX table with RNN versions\n",
    "methods = [\"Adaptive RNN\", \"Dynamic RNN\", \"arithmetic\"] # \"gzip\", \"zlib\", \"lzma\"]\n",
    "datasets = [\"bible\", \"celegchr\", \"mozilla\"]\n",
    "data = {\n",
    "    \"Adaptive RNN\": [2.74, 1.93, 6.48],\n",
    "    \"Dynamic RNN\": [3.13, 1.92, 7.19],\n",
    "    \"arithmetic\": [4.39, 1.95, 7.26],\n",
    "    \"gzip\": [2.24, 2.11, 5.26],\n",
    "    \"zlib\": [2.27, 2.19, 5.26],\n",
    "    \"lzma\": [1.8, 1.88, 5.11]\n",
    "}\n",
    "\n",
    "fig = go.Figure()\n",
    "\n",
    "# Add traces for each method\n",
    "for i, method in enumerate(methods):\n",
    "    fig.add_trace(go.Bar(\n",
    "        x=datasets,\n",
    "        y=data[method],\n",
    "        name=method\n",
    "    ))\n",
    "\n",
    "# Update layout\n",
    "fig.update_layout(\n",
    "    xaxis_title='Datasets',\n",
    "    yaxis_title='Bits per Character (bpc)',\n",
    "    barmode='group'\n",
    ")\n",
    "\n",
    "fig.show()"
   ]
  },
  {
   "cell_type": "markdown",
   "metadata": {},
   "source": [
    "## + Tokenized"
   ]
  },
  {
   "cell_type": "code",
   "execution_count": 5,
   "metadata": {},
   "outputs": [
    {
     "data": {
      "application/vnd.plotly.v1+json": {
       "config": {
        "plotlyServerURL": "https://plot.ly"
       },
       "data": [
        {
         "name": "TokenizedAdaptive RNN",
         "type": "bar",
         "x": [
          "bible",
          "celegchr",
          "mozilla"
         ],
         "y": [
          2.07,
          0,
          5.77
         ]
        },
        {
         "name": "TokenizedDynamic RNN",
         "type": "bar",
         "x": [
          "bible",
          "celegchr",
          "mozilla"
         ],
         "y": [
          2.07,
          0,
          6.08
         ]
        },
        {
         "name": "arithmetic",
         "type": "bar",
         "x": [
          "bible",
          "celegchr",
          "mozilla"
         ],
         "y": [
          4.39,
          1.95,
          7.26
         ]
        },
        {
         "name": "gzip",
         "type": "bar",
         "x": [
          "bible",
          "celegchr",
          "mozilla"
         ],
         "y": [
          2.24,
          2.11,
          5.26
         ]
        },
        {
         "name": "lzma",
         "type": "bar",
         "x": [
          "bible",
          "celegchr",
          "mozilla"
         ],
         "y": [
          1.8,
          1.88,
          5.11
         ]
        }
       ],
       "layout": {
        "barmode": "group",
        "template": {
         "data": {
          "bar": [
           {
            "error_x": {
             "color": "#2a3f5f"
            },
            "error_y": {
             "color": "#2a3f5f"
            },
            "marker": {
             "line": {
              "color": "#E5ECF6",
              "width": 0.5
             },
             "pattern": {
              "fillmode": "overlay",
              "size": 10,
              "solidity": 0.2
             }
            },
            "type": "bar"
           }
          ],
          "barpolar": [
           {
            "marker": {
             "line": {
              "color": "#E5ECF6",
              "width": 0.5
             },
             "pattern": {
              "fillmode": "overlay",
              "size": 10,
              "solidity": 0.2
             }
            },
            "type": "barpolar"
           }
          ],
          "carpet": [
           {
            "aaxis": {
             "endlinecolor": "#2a3f5f",
             "gridcolor": "white",
             "linecolor": "white",
             "minorgridcolor": "white",
             "startlinecolor": "#2a3f5f"
            },
            "baxis": {
             "endlinecolor": "#2a3f5f",
             "gridcolor": "white",
             "linecolor": "white",
             "minorgridcolor": "white",
             "startlinecolor": "#2a3f5f"
            },
            "type": "carpet"
           }
          ],
          "choropleth": [
           {
            "colorbar": {
             "outlinewidth": 0,
             "ticks": ""
            },
            "type": "choropleth"
           }
          ],
          "contour": [
           {
            "colorbar": {
             "outlinewidth": 0,
             "ticks": ""
            },
            "colorscale": [
             [
              0,
              "#0d0887"
             ],
             [
              0.1111111111111111,
              "#46039f"
             ],
             [
              0.2222222222222222,
              "#7201a8"
             ],
             [
              0.3333333333333333,
              "#9c179e"
             ],
             [
              0.4444444444444444,
              "#bd3786"
             ],
             [
              0.5555555555555556,
              "#d8576b"
             ],
             [
              0.6666666666666666,
              "#ed7953"
             ],
             [
              0.7777777777777778,
              "#fb9f3a"
             ],
             [
              0.8888888888888888,
              "#fdca26"
             ],
             [
              1,
              "#f0f921"
             ]
            ],
            "type": "contour"
           }
          ],
          "contourcarpet": [
           {
            "colorbar": {
             "outlinewidth": 0,
             "ticks": ""
            },
            "type": "contourcarpet"
           }
          ],
          "heatmap": [
           {
            "colorbar": {
             "outlinewidth": 0,
             "ticks": ""
            },
            "colorscale": [
             [
              0,
              "#0d0887"
             ],
             [
              0.1111111111111111,
              "#46039f"
             ],
             [
              0.2222222222222222,
              "#7201a8"
             ],
             [
              0.3333333333333333,
              "#9c179e"
             ],
             [
              0.4444444444444444,
              "#bd3786"
             ],
             [
              0.5555555555555556,
              "#d8576b"
             ],
             [
              0.6666666666666666,
              "#ed7953"
             ],
             [
              0.7777777777777778,
              "#fb9f3a"
             ],
             [
              0.8888888888888888,
              "#fdca26"
             ],
             [
              1,
              "#f0f921"
             ]
            ],
            "type": "heatmap"
           }
          ],
          "heatmapgl": [
           {
            "colorbar": {
             "outlinewidth": 0,
             "ticks": ""
            },
            "colorscale": [
             [
              0,
              "#0d0887"
             ],
             [
              0.1111111111111111,
              "#46039f"
             ],
             [
              0.2222222222222222,
              "#7201a8"
             ],
             [
              0.3333333333333333,
              "#9c179e"
             ],
             [
              0.4444444444444444,
              "#bd3786"
             ],
             [
              0.5555555555555556,
              "#d8576b"
             ],
             [
              0.6666666666666666,
              "#ed7953"
             ],
             [
              0.7777777777777778,
              "#fb9f3a"
             ],
             [
              0.8888888888888888,
              "#fdca26"
             ],
             [
              1,
              "#f0f921"
             ]
            ],
            "type": "heatmapgl"
           }
          ],
          "histogram": [
           {
            "marker": {
             "pattern": {
              "fillmode": "overlay",
              "size": 10,
              "solidity": 0.2
             }
            },
            "type": "histogram"
           }
          ],
          "histogram2d": [
           {
            "colorbar": {
             "outlinewidth": 0,
             "ticks": ""
            },
            "colorscale": [
             [
              0,
              "#0d0887"
             ],
             [
              0.1111111111111111,
              "#46039f"
             ],
             [
              0.2222222222222222,
              "#7201a8"
             ],
             [
              0.3333333333333333,
              "#9c179e"
             ],
             [
              0.4444444444444444,
              "#bd3786"
             ],
             [
              0.5555555555555556,
              "#d8576b"
             ],
             [
              0.6666666666666666,
              "#ed7953"
             ],
             [
              0.7777777777777778,
              "#fb9f3a"
             ],
             [
              0.8888888888888888,
              "#fdca26"
             ],
             [
              1,
              "#f0f921"
             ]
            ],
            "type": "histogram2d"
           }
          ],
          "histogram2dcontour": [
           {
            "colorbar": {
             "outlinewidth": 0,
             "ticks": ""
            },
            "colorscale": [
             [
              0,
              "#0d0887"
             ],
             [
              0.1111111111111111,
              "#46039f"
             ],
             [
              0.2222222222222222,
              "#7201a8"
             ],
             [
              0.3333333333333333,
              "#9c179e"
             ],
             [
              0.4444444444444444,
              "#bd3786"
             ],
             [
              0.5555555555555556,
              "#d8576b"
             ],
             [
              0.6666666666666666,
              "#ed7953"
             ],
             [
              0.7777777777777778,
              "#fb9f3a"
             ],
             [
              0.8888888888888888,
              "#fdca26"
             ],
             [
              1,
              "#f0f921"
             ]
            ],
            "type": "histogram2dcontour"
           }
          ],
          "mesh3d": [
           {
            "colorbar": {
             "outlinewidth": 0,
             "ticks": ""
            },
            "type": "mesh3d"
           }
          ],
          "parcoords": [
           {
            "line": {
             "colorbar": {
              "outlinewidth": 0,
              "ticks": ""
             }
            },
            "type": "parcoords"
           }
          ],
          "pie": [
           {
            "automargin": true,
            "type": "pie"
           }
          ],
          "scatter": [
           {
            "fillpattern": {
             "fillmode": "overlay",
             "size": 10,
             "solidity": 0.2
            },
            "type": "scatter"
           }
          ],
          "scatter3d": [
           {
            "line": {
             "colorbar": {
              "outlinewidth": 0,
              "ticks": ""
             }
            },
            "marker": {
             "colorbar": {
              "outlinewidth": 0,
              "ticks": ""
             }
            },
            "type": "scatter3d"
           }
          ],
          "scattercarpet": [
           {
            "marker": {
             "colorbar": {
              "outlinewidth": 0,
              "ticks": ""
             }
            },
            "type": "scattercarpet"
           }
          ],
          "scattergeo": [
           {
            "marker": {
             "colorbar": {
              "outlinewidth": 0,
              "ticks": ""
             }
            },
            "type": "scattergeo"
           }
          ],
          "scattergl": [
           {
            "marker": {
             "colorbar": {
              "outlinewidth": 0,
              "ticks": ""
             }
            },
            "type": "scattergl"
           }
          ],
          "scattermapbox": [
           {
            "marker": {
             "colorbar": {
              "outlinewidth": 0,
              "ticks": ""
             }
            },
            "type": "scattermapbox"
           }
          ],
          "scatterpolar": [
           {
            "marker": {
             "colorbar": {
              "outlinewidth": 0,
              "ticks": ""
             }
            },
            "type": "scatterpolar"
           }
          ],
          "scatterpolargl": [
           {
            "marker": {
             "colorbar": {
              "outlinewidth": 0,
              "ticks": ""
             }
            },
            "type": "scatterpolargl"
           }
          ],
          "scatterternary": [
           {
            "marker": {
             "colorbar": {
              "outlinewidth": 0,
              "ticks": ""
             }
            },
            "type": "scatterternary"
           }
          ],
          "surface": [
           {
            "colorbar": {
             "outlinewidth": 0,
             "ticks": ""
            },
            "colorscale": [
             [
              0,
              "#0d0887"
             ],
             [
              0.1111111111111111,
              "#46039f"
             ],
             [
              0.2222222222222222,
              "#7201a8"
             ],
             [
              0.3333333333333333,
              "#9c179e"
             ],
             [
              0.4444444444444444,
              "#bd3786"
             ],
             [
              0.5555555555555556,
              "#d8576b"
             ],
             [
              0.6666666666666666,
              "#ed7953"
             ],
             [
              0.7777777777777778,
              "#fb9f3a"
             ],
             [
              0.8888888888888888,
              "#fdca26"
             ],
             [
              1,
              "#f0f921"
             ]
            ],
            "type": "surface"
           }
          ],
          "table": [
           {
            "cells": {
             "fill": {
              "color": "#EBF0F8"
             },
             "line": {
              "color": "white"
             }
            },
            "header": {
             "fill": {
              "color": "#C8D4E3"
             },
             "line": {
              "color": "white"
             }
            },
            "type": "table"
           }
          ]
         },
         "layout": {
          "annotationdefaults": {
           "arrowcolor": "#2a3f5f",
           "arrowhead": 0,
           "arrowwidth": 1
          },
          "autotypenumbers": "strict",
          "coloraxis": {
           "colorbar": {
            "outlinewidth": 0,
            "ticks": ""
           }
          },
          "colorscale": {
           "diverging": [
            [
             0,
             "#8e0152"
            ],
            [
             0.1,
             "#c51b7d"
            ],
            [
             0.2,
             "#de77ae"
            ],
            [
             0.3,
             "#f1b6da"
            ],
            [
             0.4,
             "#fde0ef"
            ],
            [
             0.5,
             "#f7f7f7"
            ],
            [
             0.6,
             "#e6f5d0"
            ],
            [
             0.7,
             "#b8e186"
            ],
            [
             0.8,
             "#7fbc41"
            ],
            [
             0.9,
             "#4d9221"
            ],
            [
             1,
             "#276419"
            ]
           ],
           "sequential": [
            [
             0,
             "#0d0887"
            ],
            [
             0.1111111111111111,
             "#46039f"
            ],
            [
             0.2222222222222222,
             "#7201a8"
            ],
            [
             0.3333333333333333,
             "#9c179e"
            ],
            [
             0.4444444444444444,
             "#bd3786"
            ],
            [
             0.5555555555555556,
             "#d8576b"
            ],
            [
             0.6666666666666666,
             "#ed7953"
            ],
            [
             0.7777777777777778,
             "#fb9f3a"
            ],
            [
             0.8888888888888888,
             "#fdca26"
            ],
            [
             1,
             "#f0f921"
            ]
           ],
           "sequentialminus": [
            [
             0,
             "#0d0887"
            ],
            [
             0.1111111111111111,
             "#46039f"
            ],
            [
             0.2222222222222222,
             "#7201a8"
            ],
            [
             0.3333333333333333,
             "#9c179e"
            ],
            [
             0.4444444444444444,
             "#bd3786"
            ],
            [
             0.5555555555555556,
             "#d8576b"
            ],
            [
             0.6666666666666666,
             "#ed7953"
            ],
            [
             0.7777777777777778,
             "#fb9f3a"
            ],
            [
             0.8888888888888888,
             "#fdca26"
            ],
            [
             1,
             "#f0f921"
            ]
           ]
          },
          "colorway": [
           "#636efa",
           "#EF553B",
           "#00cc96",
           "#ab63fa",
           "#FFA15A",
           "#19d3f3",
           "#FF6692",
           "#B6E880",
           "#FF97FF",
           "#FECB52"
          ],
          "font": {
           "color": "#2a3f5f"
          },
          "geo": {
           "bgcolor": "white",
           "lakecolor": "white",
           "landcolor": "#E5ECF6",
           "showlakes": true,
           "showland": true,
           "subunitcolor": "white"
          },
          "hoverlabel": {
           "align": "left"
          },
          "hovermode": "closest",
          "mapbox": {
           "style": "light"
          },
          "paper_bgcolor": "white",
          "plot_bgcolor": "#E5ECF6",
          "polar": {
           "angularaxis": {
            "gridcolor": "white",
            "linecolor": "white",
            "ticks": ""
           },
           "bgcolor": "#E5ECF6",
           "radialaxis": {
            "gridcolor": "white",
            "linecolor": "white",
            "ticks": ""
           }
          },
          "scene": {
           "xaxis": {
            "backgroundcolor": "#E5ECF6",
            "gridcolor": "white",
            "gridwidth": 2,
            "linecolor": "white",
            "showbackground": true,
            "ticks": "",
            "zerolinecolor": "white"
           },
           "yaxis": {
            "backgroundcolor": "#E5ECF6",
            "gridcolor": "white",
            "gridwidth": 2,
            "linecolor": "white",
            "showbackground": true,
            "ticks": "",
            "zerolinecolor": "white"
           },
           "zaxis": {
            "backgroundcolor": "#E5ECF6",
            "gridcolor": "white",
            "gridwidth": 2,
            "linecolor": "white",
            "showbackground": true,
            "ticks": "",
            "zerolinecolor": "white"
           }
          },
          "shapedefaults": {
           "line": {
            "color": "#2a3f5f"
           }
          },
          "ternary": {
           "aaxis": {
            "gridcolor": "white",
            "linecolor": "white",
            "ticks": ""
           },
           "baxis": {
            "gridcolor": "white",
            "linecolor": "white",
            "ticks": ""
           },
           "bgcolor": "#E5ECF6",
           "caxis": {
            "gridcolor": "white",
            "linecolor": "white",
            "ticks": ""
           }
          },
          "title": {
           "x": 0.05
          },
          "xaxis": {
           "automargin": true,
           "gridcolor": "white",
           "linecolor": "white",
           "ticks": "",
           "title": {
            "standoff": 15
           },
           "zerolinecolor": "white",
           "zerolinewidth": 2
          },
          "yaxis": {
           "automargin": true,
           "gridcolor": "white",
           "linecolor": "white",
           "ticks": "",
           "title": {
            "standoff": 15
           },
           "zerolinecolor": "white",
           "zerolinewidth": 2
          }
         }
        },
        "xaxis": {
         "title": {
          "text": "Datasets"
         }
        },
        "yaxis": {
         "title": {
          "text": "Bits per Character (bpc)"
         }
        }
       }
      }
     },
     "metadata": {},
     "output_type": "display_data"
    }
   ],
   "source": [
    "import plotly.graph_objects as go\n",
    "\n",
    "# Data extracted from the LaTeX table with tokenized RNN versions\n",
    "methods = [\"TokenizedAdaptive RNN\", \"TokenizedDynamic RNN\", \"arithmetic\", \"gzip\", \"lzma\"]\n",
    "datasets = [\"bible\", \"celegchr\", \"mozilla\"]\n",
    "data = {\n",
    "    \"TokenizedAdaptive RNN\": [2.07, 0, 5.77],\n",
    "    \"TokenizedDynamic RNN\": [2.07, 0, 6.08],\n",
    "    \"arithmetic\": [4.39, 1.95, 7.26],\n",
    "    \"gzip\": [2.24, 2.11, 5.26],\n",
    "    \"zlib\": [2.27, 2.19, 5.26],\n",
    "    \"lzma\": [1.8, 1.88, 5.11]\n",
    "}\n",
    "\n",
    "fig = go.Figure()\n",
    "\n",
    "# Add traces for each method\n",
    "for i, method in enumerate(methods):\n",
    "    fig.add_trace(go.Bar(\n",
    "        x=datasets,\n",
    "        y=data[method],\n",
    "        name=method\n",
    "    ))\n",
    "\n",
    "# Update layout\n",
    "fig.update_layout(\n",
    "    xaxis_title='Datasets',\n",
    "    yaxis_title='Bits per Character (bpc)',\n",
    "    barmode='group'\n",
    ")\n",
    "\n",
    "fig.show()"
   ]
  },
  {
   "cell_type": "code",
   "execution_count": 15,
   "metadata": {},
   "outputs": [
    {
     "data": {
      "application/vnd.plotly.v1+json": {
       "config": {
        "plotlyServerURL": "https://plot.ly"
       },
       "data": [
        {
         "name": "Compression",
         "text": [
          "76",
          "66",
          "29",
          "21"
         ],
         "textposition": "outside",
         "type": "bar",
         "x": [
          "TokenizedAdaptive",
          "Adaptive",
          "TokenizedDynamic",
          "Dynamic"
         ],
         "y": [
          76,
          66,
          29,
          21
         ]
        },
        {
         "name": "Decompression",
         "text": [
          "150",
          "232",
          "55",
          "128"
         ],
         "textposition": "outside",
         "type": "bar",
         "x": [
          "TokenizedAdaptive",
          "Adaptive",
          "TokenizedDynamic",
          "Dynamic"
         ],
         "y": [
          150,
          232,
          55,
          128
         ]
        },
        {
         "name": "Compression with RNN",
         "text": [
          "90",
          "64",
          "212",
          "328"
         ],
         "textposition": "outside",
         "type": "bar",
         "x": [
          "TokenizedAdaptive",
          "Adaptive",
          "TokenizedDynamic",
          "Dynamic"
         ],
         "y": [
          90,
          64,
          212,
          328
         ]
        },
        {
         "name": "Decompression with RNN",
         "text": [
          "174",
          "314",
          "179",
          "406"
         ],
         "textposition": "outside",
         "type": "bar",
         "x": [
          "TokenizedAdaptive",
          "Adaptive",
          "TokenizedDynamic",
          "Dynamic"
         ],
         "y": [
          174,
          314,
          179,
          406
         ]
        }
       ],
       "layout": {
        "barmode": "group",
        "template": {
         "data": {
          "bar": [
           {
            "error_x": {
             "color": "#2a3f5f"
            },
            "error_y": {
             "color": "#2a3f5f"
            },
            "marker": {
             "line": {
              "color": "#E5ECF6",
              "width": 0.5
             },
             "pattern": {
              "fillmode": "overlay",
              "size": 10,
              "solidity": 0.2
             }
            },
            "type": "bar"
           }
          ],
          "barpolar": [
           {
            "marker": {
             "line": {
              "color": "#E5ECF6",
              "width": 0.5
             },
             "pattern": {
              "fillmode": "overlay",
              "size": 10,
              "solidity": 0.2
             }
            },
            "type": "barpolar"
           }
          ],
          "carpet": [
           {
            "aaxis": {
             "endlinecolor": "#2a3f5f",
             "gridcolor": "white",
             "linecolor": "white",
             "minorgridcolor": "white",
             "startlinecolor": "#2a3f5f"
            },
            "baxis": {
             "endlinecolor": "#2a3f5f",
             "gridcolor": "white",
             "linecolor": "white",
             "minorgridcolor": "white",
             "startlinecolor": "#2a3f5f"
            },
            "type": "carpet"
           }
          ],
          "choropleth": [
           {
            "colorbar": {
             "outlinewidth": 0,
             "ticks": ""
            },
            "type": "choropleth"
           }
          ],
          "contour": [
           {
            "colorbar": {
             "outlinewidth": 0,
             "ticks": ""
            },
            "colorscale": [
             [
              0,
              "#0d0887"
             ],
             [
              0.1111111111111111,
              "#46039f"
             ],
             [
              0.2222222222222222,
              "#7201a8"
             ],
             [
              0.3333333333333333,
              "#9c179e"
             ],
             [
              0.4444444444444444,
              "#bd3786"
             ],
             [
              0.5555555555555556,
              "#d8576b"
             ],
             [
              0.6666666666666666,
              "#ed7953"
             ],
             [
              0.7777777777777778,
              "#fb9f3a"
             ],
             [
              0.8888888888888888,
              "#fdca26"
             ],
             [
              1,
              "#f0f921"
             ]
            ],
            "type": "contour"
           }
          ],
          "contourcarpet": [
           {
            "colorbar": {
             "outlinewidth": 0,
             "ticks": ""
            },
            "type": "contourcarpet"
           }
          ],
          "heatmap": [
           {
            "colorbar": {
             "outlinewidth": 0,
             "ticks": ""
            },
            "colorscale": [
             [
              0,
              "#0d0887"
             ],
             [
              0.1111111111111111,
              "#46039f"
             ],
             [
              0.2222222222222222,
              "#7201a8"
             ],
             [
              0.3333333333333333,
              "#9c179e"
             ],
             [
              0.4444444444444444,
              "#bd3786"
             ],
             [
              0.5555555555555556,
              "#d8576b"
             ],
             [
              0.6666666666666666,
              "#ed7953"
             ],
             [
              0.7777777777777778,
              "#fb9f3a"
             ],
             [
              0.8888888888888888,
              "#fdca26"
             ],
             [
              1,
              "#f0f921"
             ]
            ],
            "type": "heatmap"
           }
          ],
          "heatmapgl": [
           {
            "colorbar": {
             "outlinewidth": 0,
             "ticks": ""
            },
            "colorscale": [
             [
              0,
              "#0d0887"
             ],
             [
              0.1111111111111111,
              "#46039f"
             ],
             [
              0.2222222222222222,
              "#7201a8"
             ],
             [
              0.3333333333333333,
              "#9c179e"
             ],
             [
              0.4444444444444444,
              "#bd3786"
             ],
             [
              0.5555555555555556,
              "#d8576b"
             ],
             [
              0.6666666666666666,
              "#ed7953"
             ],
             [
              0.7777777777777778,
              "#fb9f3a"
             ],
             [
              0.8888888888888888,
              "#fdca26"
             ],
             [
              1,
              "#f0f921"
             ]
            ],
            "type": "heatmapgl"
           }
          ],
          "histogram": [
           {
            "marker": {
             "pattern": {
              "fillmode": "overlay",
              "size": 10,
              "solidity": 0.2
             }
            },
            "type": "histogram"
           }
          ],
          "histogram2d": [
           {
            "colorbar": {
             "outlinewidth": 0,
             "ticks": ""
            },
            "colorscale": [
             [
              0,
              "#0d0887"
             ],
             [
              0.1111111111111111,
              "#46039f"
             ],
             [
              0.2222222222222222,
              "#7201a8"
             ],
             [
              0.3333333333333333,
              "#9c179e"
             ],
             [
              0.4444444444444444,
              "#bd3786"
             ],
             [
              0.5555555555555556,
              "#d8576b"
             ],
             [
              0.6666666666666666,
              "#ed7953"
             ],
             [
              0.7777777777777778,
              "#fb9f3a"
             ],
             [
              0.8888888888888888,
              "#fdca26"
             ],
             [
              1,
              "#f0f921"
             ]
            ],
            "type": "histogram2d"
           }
          ],
          "histogram2dcontour": [
           {
            "colorbar": {
             "outlinewidth": 0,
             "ticks": ""
            },
            "colorscale": [
             [
              0,
              "#0d0887"
             ],
             [
              0.1111111111111111,
              "#46039f"
             ],
             [
              0.2222222222222222,
              "#7201a8"
             ],
             [
              0.3333333333333333,
              "#9c179e"
             ],
             [
              0.4444444444444444,
              "#bd3786"
             ],
             [
              0.5555555555555556,
              "#d8576b"
             ],
             [
              0.6666666666666666,
              "#ed7953"
             ],
             [
              0.7777777777777778,
              "#fb9f3a"
             ],
             [
              0.8888888888888888,
              "#fdca26"
             ],
             [
              1,
              "#f0f921"
             ]
            ],
            "type": "histogram2dcontour"
           }
          ],
          "mesh3d": [
           {
            "colorbar": {
             "outlinewidth": 0,
             "ticks": ""
            },
            "type": "mesh3d"
           }
          ],
          "parcoords": [
           {
            "line": {
             "colorbar": {
              "outlinewidth": 0,
              "ticks": ""
             }
            },
            "type": "parcoords"
           }
          ],
          "pie": [
           {
            "automargin": true,
            "type": "pie"
           }
          ],
          "scatter": [
           {
            "fillpattern": {
             "fillmode": "overlay",
             "size": 10,
             "solidity": 0.2
            },
            "type": "scatter"
           }
          ],
          "scatter3d": [
           {
            "line": {
             "colorbar": {
              "outlinewidth": 0,
              "ticks": ""
             }
            },
            "marker": {
             "colorbar": {
              "outlinewidth": 0,
              "ticks": ""
             }
            },
            "type": "scatter3d"
           }
          ],
          "scattercarpet": [
           {
            "marker": {
             "colorbar": {
              "outlinewidth": 0,
              "ticks": ""
             }
            },
            "type": "scattercarpet"
           }
          ],
          "scattergeo": [
           {
            "marker": {
             "colorbar": {
              "outlinewidth": 0,
              "ticks": ""
             }
            },
            "type": "scattergeo"
           }
          ],
          "scattergl": [
           {
            "marker": {
             "colorbar": {
              "outlinewidth": 0,
              "ticks": ""
             }
            },
            "type": "scattergl"
           }
          ],
          "scattermapbox": [
           {
            "marker": {
             "colorbar": {
              "outlinewidth": 0,
              "ticks": ""
             }
            },
            "type": "scattermapbox"
           }
          ],
          "scatterpolar": [
           {
            "marker": {
             "colorbar": {
              "outlinewidth": 0,
              "ticks": ""
             }
            },
            "type": "scatterpolar"
           }
          ],
          "scatterpolargl": [
           {
            "marker": {
             "colorbar": {
              "outlinewidth": 0,
              "ticks": ""
             }
            },
            "type": "scatterpolargl"
           }
          ],
          "scatterternary": [
           {
            "marker": {
             "colorbar": {
              "outlinewidth": 0,
              "ticks": ""
             }
            },
            "type": "scatterternary"
           }
          ],
          "surface": [
           {
            "colorbar": {
             "outlinewidth": 0,
             "ticks": ""
            },
            "colorscale": [
             [
              0,
              "#0d0887"
             ],
             [
              0.1111111111111111,
              "#46039f"
             ],
             [
              0.2222222222222222,
              "#7201a8"
             ],
             [
              0.3333333333333333,
              "#9c179e"
             ],
             [
              0.4444444444444444,
              "#bd3786"
             ],
             [
              0.5555555555555556,
              "#d8576b"
             ],
             [
              0.6666666666666666,
              "#ed7953"
             ],
             [
              0.7777777777777778,
              "#fb9f3a"
             ],
             [
              0.8888888888888888,
              "#fdca26"
             ],
             [
              1,
              "#f0f921"
             ]
            ],
            "type": "surface"
           }
          ],
          "table": [
           {
            "cells": {
             "fill": {
              "color": "#EBF0F8"
             },
             "line": {
              "color": "white"
             }
            },
            "header": {
             "fill": {
              "color": "#C8D4E3"
             },
             "line": {
              "color": "white"
             }
            },
            "type": "table"
           }
          ]
         },
         "layout": {
          "annotationdefaults": {
           "arrowcolor": "#2a3f5f",
           "arrowhead": 0,
           "arrowwidth": 1
          },
          "autotypenumbers": "strict",
          "coloraxis": {
           "colorbar": {
            "outlinewidth": 0,
            "ticks": ""
           }
          },
          "colorscale": {
           "diverging": [
            [
             0,
             "#8e0152"
            ],
            [
             0.1,
             "#c51b7d"
            ],
            [
             0.2,
             "#de77ae"
            ],
            [
             0.3,
             "#f1b6da"
            ],
            [
             0.4,
             "#fde0ef"
            ],
            [
             0.5,
             "#f7f7f7"
            ],
            [
             0.6,
             "#e6f5d0"
            ],
            [
             0.7,
             "#b8e186"
            ],
            [
             0.8,
             "#7fbc41"
            ],
            [
             0.9,
             "#4d9221"
            ],
            [
             1,
             "#276419"
            ]
           ],
           "sequential": [
            [
             0,
             "#0d0887"
            ],
            [
             0.1111111111111111,
             "#46039f"
            ],
            [
             0.2222222222222222,
             "#7201a8"
            ],
            [
             0.3333333333333333,
             "#9c179e"
            ],
            [
             0.4444444444444444,
             "#bd3786"
            ],
            [
             0.5555555555555556,
             "#d8576b"
            ],
            [
             0.6666666666666666,
             "#ed7953"
            ],
            [
             0.7777777777777778,
             "#fb9f3a"
            ],
            [
             0.8888888888888888,
             "#fdca26"
            ],
            [
             1,
             "#f0f921"
            ]
           ],
           "sequentialminus": [
            [
             0,
             "#0d0887"
            ],
            [
             0.1111111111111111,
             "#46039f"
            ],
            [
             0.2222222222222222,
             "#7201a8"
            ],
            [
             0.3333333333333333,
             "#9c179e"
            ],
            [
             0.4444444444444444,
             "#bd3786"
            ],
            [
             0.5555555555555556,
             "#d8576b"
            ],
            [
             0.6666666666666666,
             "#ed7953"
            ],
            [
             0.7777777777777778,
             "#fb9f3a"
            ],
            [
             0.8888888888888888,
             "#fdca26"
            ],
            [
             1,
             "#f0f921"
            ]
           ]
          },
          "colorway": [
           "#636efa",
           "#EF553B",
           "#00cc96",
           "#ab63fa",
           "#FFA15A",
           "#19d3f3",
           "#FF6692",
           "#B6E880",
           "#FF97FF",
           "#FECB52"
          ],
          "font": {
           "color": "#2a3f5f"
          },
          "geo": {
           "bgcolor": "white",
           "lakecolor": "white",
           "landcolor": "#E5ECF6",
           "showlakes": true,
           "showland": true,
           "subunitcolor": "white"
          },
          "hoverlabel": {
           "align": "left"
          },
          "hovermode": "closest",
          "mapbox": {
           "style": "light"
          },
          "paper_bgcolor": "white",
          "plot_bgcolor": "#E5ECF6",
          "polar": {
           "angularaxis": {
            "gridcolor": "white",
            "linecolor": "white",
            "ticks": ""
           },
           "bgcolor": "#E5ECF6",
           "radialaxis": {
            "gridcolor": "white",
            "linecolor": "white",
            "ticks": ""
           }
          },
          "scene": {
           "xaxis": {
            "backgroundcolor": "#E5ECF6",
            "gridcolor": "white",
            "gridwidth": 2,
            "linecolor": "white",
            "showbackground": true,
            "ticks": "",
            "zerolinecolor": "white"
           },
           "yaxis": {
            "backgroundcolor": "#E5ECF6",
            "gridcolor": "white",
            "gridwidth": 2,
            "linecolor": "white",
            "showbackground": true,
            "ticks": "",
            "zerolinecolor": "white"
           },
           "zaxis": {
            "backgroundcolor": "#E5ECF6",
            "gridcolor": "white",
            "gridwidth": 2,
            "linecolor": "white",
            "showbackground": true,
            "ticks": "",
            "zerolinecolor": "white"
           }
          },
          "shapedefaults": {
           "line": {
            "color": "#2a3f5f"
           }
          },
          "ternary": {
           "aaxis": {
            "gridcolor": "white",
            "linecolor": "white",
            "ticks": ""
           },
           "baxis": {
            "gridcolor": "white",
            "linecolor": "white",
            "ticks": ""
           },
           "bgcolor": "#E5ECF6",
           "caxis": {
            "gridcolor": "white",
            "linecolor": "white",
            "ticks": ""
           }
          },
          "title": {
           "x": 0.05
          },
          "xaxis": {
           "automargin": true,
           "gridcolor": "white",
           "linecolor": "white",
           "ticks": "",
           "title": {
            "standoff": 15
           },
           "zerolinecolor": "white",
           "zerolinewidth": 2
          },
          "yaxis": {
           "automargin": true,
           "gridcolor": "white",
           "linecolor": "white",
           "ticks": "",
           "title": {
            "standoff": 15
           },
           "zerolinecolor": "white",
           "zerolinewidth": 2
          }
         }
        },
        "xaxis": {
         "title": {
          "text": "Methods"
         }
        },
        "yaxis": {
         "title": {
          "text": "Runtime (seconds)"
         }
        }
       }
      }
     },
     "metadata": {},
     "output_type": "display_data"
    }
   ],
   "source": [
    "import plotly.graph_objects as go\n",
    "\n",
    "# Data extracted from the LaTeX figure\n",
    "methods = [\"TokenizedAdaptive\", \"Adaptive\", \"TokenizedDynamic\", \"Dynamic\"]\n",
    "categories = [\"Compression\", \"Decompression\", \"Compression with RNN\", \"Decompression with RNN\"]\n",
    "data = {\n",
    "    \"Decompression\": [150, 232, 55, 128],\n",
    "    \"Compression\": [76, 66, 29, 21],\n",
    "    \"Compression with RNN\": [90, 64, 212, 328],\n",
    "    \"Decompression with RNN\": [174, 314, 179, 406]\n",
    "}\n",
    "\n",
    "fig = go.Figure()\n",
    "\n",
    "# Add traces for each category\n",
    "for category in categories:\n",
    "    fig.add_trace(go.Bar(\n",
    "        x=methods,\n",
    "        y=data[category],\n",
    "        name=category,\n",
    "        text=data[category],\n",
    "        textposition='outside'\n",
    "    ))\n",
    "\n",
    "# Update layout\n",
    "fig.update_layout(\n",
    "    xaxis_title='Methods',\n",
    "    yaxis_title='Runtime (seconds)',\n",
    "    barmode='group'\n",
    ")\n",
    "\n",
    "fig.show()"
   ]
  },
  {
   "cell_type": "code",
   "execution_count": 16,
   "metadata": {},
   "outputs": [],
   "source": [
    "entropy_list = [6.05571858249517, 6.514724867225086, 6.5882080412636705, 6.525166280820062, 6.374384222210729, 6.286473195897572, 6.1993771551573005, 6.112649693567667, 6.051221533024012, 6.0162377331632, 5.927776728447822, 5.833837932549673, 5.767981898518538, 5.694659399777778, 5.609248722678921, 5.5266373422008, 5.4673970607364115, 5.416236035863915, 5.369095410135741, 5.335980266154669, 5.259970197917616, 5.21155646614996, 5.155426627034092, 5.1281781318992605, 5.077127681353194, 5.03779231842914, 5.0137693617786985, 4.967334578762744, 4.943693253151311, 4.91497154224081, 4.8835236318389805, 4.852389212938622, 4.824108504081828, 4.803697922731026, 4.779346792138987, 4.751009213404041, 4.727694886553803, 4.706445818016978, 4.691077485658955, 4.672637319779806, 4.6540173593430625, 4.634216847987434, 4.622523662004578, 4.604272757094789, 4.591337939049358, 4.5787720802929455, 4.565381275222009, 4.549550990352598, 4.541505840600719, 4.5288336136203045, 4.516810978177089, 4.500901022198491, 4.490904748641607, 4.481607708691736, 4.474189175104905, 4.458083817899775, 4.448910476231962, 4.436879297095106, 4.41851014421496, 4.411324761001257, 4.405407444462089, 4.387004193095714, 4.374316067111561, 4.363668654236892, 4.351766864940846, 4.34162397592138, 4.338069316590003, 4.327911484735778, 4.316091055710028, 4.306631729770801, 4.3006898527313, 4.293599132225066, 4.286827936445693, 4.282045218638478, 4.272695127458307, 4.266856733710918, 4.259228609178422, 4.252149960364049, 4.246319704649948, 4.236904658365536, 4.230527676586362, 4.223578035028273, 4.217362284123902, 4.211236027436823, 4.206132201039435, 4.197841271321957, 4.189935541334801, 4.183374821447088, 4.1819065887514535, 4.174824370568398, 4.168068309314415, 4.167939281874463, 4.1639078245313, 4.16028042469333, 4.155152169296326, 4.148838257123365, 4.143361721873657, 4.140415321726397, 4.133867697806647, 4.129232234470642, 4.131646986035846, 4.124979719048902, 4.1204405981509336, 4.115644622577867, 4.116625793826781, 4.113530103488753, 4.110374315287314, 4.1054335784722245, 4.09930889006329, 4.094358167675105, 4.089225831160057, 4.08711206216503, 4.08084062491544, 4.077905062283836, 4.075093309456063, 4.0712489588864536, 4.0681254055891385, 4.062807325020147, 4.061393794233079, 4.056277124809403, 4.051671727183222, 4.04703575286991, 4.045209173184758, 4.0416269014239505, 4.037475327142829, 4.033098585893539, 4.027676906853545, 4.025533162497769, 4.020248170153885, 4.015648910794268, 4.012731513869282, 4.009535994959157, 4.006130769379547, 4.002420395962918, 3.9997913531633706, 3.9964284473888725, 3.9936873708012235, 3.990097250296318, 3.9894356443142174, 3.987815863369427, 3.986346438797601, 3.9840614217076173, 3.982242031249122, 3.979300836361659, 3.9764368554562473, 3.9734968475793893, 3.972396418692298, 3.9682145307700507, 3.964404140419486, 3.9603622871869497, 3.957780905439764, 3.9522073173314003, 3.948940599738958, 3.94542304384606, 3.941693440408492, 3.9377107929887973, 3.9343477885072637, 3.932319757696679, 3.928405438640975, 3.924124334106866, 3.9197149606697583, 3.915723489674161, 3.9118840748102577, 3.9074618117365807, 3.9049545018657703, 3.900053228194044, 3.896368725171005, 3.8916665658584852, 3.8878866078009633, 3.8833681569013, 3.879953202789308, 3.8776678279766195, 3.8737101027987406, 3.870689568754735, 3.8678981197293814, 3.8640673950674667, 3.859821625322563, 3.8551567203975967, 3.85212048491593, 3.8484434706803015, 3.8452503639428306, 3.8416566567977983, 3.839027601899671, 3.836108393681896, 3.8340494967890653, 3.829778095866866, 3.8261368538300164, 3.824474229781533, 3.8221430364012, 3.818681914501653, 3.815279613807795, 3.811366892209473, 3.8071587405162592, 3.804252778696098, 3.8010111893822685, 3.7992103010700267, 3.7966254838393123, 3.795512555755115, 3.795328399012346, 3.7937528119730874, 3.7925907720510246, 3.7877571787933255, 3.783738692627521, 3.78252965153811, 3.7825728470158277, 3.7818482917491423, 3.7814456524662896, 3.7799244945450563, 3.7778195873537066, 3.7744509091688583, 3.773148209460531, 3.7711695328842727, 3.771322917798086, 3.768533275164778, 3.7667586584098682, 3.765125614447143, 3.762841579258879, 3.760084468328675, 3.7582953086994766, 3.756906665268496, 3.7553340504268826, 3.754559445229171, 3.754063468448534, 3.753460809488528, 3.7522747240607845, 3.7499748178383934, 3.7479263808522476, 3.747040278241013, 3.7454378827169825, 3.7448763632585513, 3.744074259421698, 3.744286251107827, 3.744181790552819, 3.742712387551496, 3.7430193495557584, 3.743571439723536, 3.743670544016971, 3.742169547307111, 3.741020852878483, 3.740469601399211, 3.739393348577448, 3.7387371811464134, 3.7382494525616035, 3.737143651573965, 3.7369313590046844, 3.7356151102261688, 3.7345901503350665, 3.733047692604693, 3.731200393307628, 3.7302012948700685, 3.730384379761198, 3.7311712156983927, 3.7291066539263995, 3.7281050800223534, 3.728272472050632, 3.7271488253495377, 3.725415705135296, 3.7224425013356814, 3.72211220458579, 3.7223565891715267, 3.721203456087152, 3.7200819192625456, 3.718936423689779, 3.7186955673100206, 3.7176835293382218, 3.7166350456513952, 3.71603129366003, 3.7143000398903903, 3.7133547639544413, 3.712274486996934, 3.711734571539426, 3.711208957963024, 3.7109181093737855, 3.7085904979156252, 3.7071349393852917, 3.707333594593124, 3.706186985690851, 3.705173934967971, 3.704159418721086, 3.701721322385137, 3.7003060619059, 3.6980783850108345, 3.697341363578703, 3.694844113316342, 3.694085886495855, 3.6929531836210954, 3.6933536822393247, 3.6927347966088178, 3.691532971000578, 3.691595149228453, 3.691254784480942, 3.690006523126116, 3.6896576545568522, 3.6914243411616297, 3.690977164543497, 3.6889997137110715, 3.6876352599545426, 3.6867921704147752, 3.684519723876631, 3.6830741224815764, 3.682024213524074, 3.6810676147264103, 3.680407546119446, 3.6794905597376513, 3.6779571670528477, 3.6769284576639194, 3.676555450545798, 3.6747456040825788, 3.673444199994493, 3.673355677762454, 3.671453262103699, 3.6706632050464014, 3.6692023811133434, 3.6673566169879934, 3.6682829836687234, 3.668970425468347, 3.668770772468579, 3.667211399495838, 3.667509950120418, 3.6673777906689535, 3.666129168800474, 3.6654557655250217, 3.665328166017297, 3.6649005180173537, 3.66354393972406, 3.6630126622115395, 3.661537908573459, 3.6600321003695577, 3.659808272559184, 3.659518361098209, 3.658664373021146, 3.6574780696269737, 3.6563489079827405, 3.6555769939435607, 3.654761285969391, 3.6526475666366016, 3.6517699908404944, 3.651251586727168, 3.6505520160274534, 3.649444537529434, 3.6490568730778365, 3.6490557175272573, 3.647715363274415, 3.6467674353433095, 3.6454154274079014, 3.644062830655147, 3.6433961596194866, 3.642860769711382, 3.6417439723918434, 3.6414599252853233, 3.640590218913068, 3.6395155480255967, 3.6391181125320786, 3.638633126037277, 3.638618990381365, 3.638411592881469, 3.6384332305312586, 3.6379311632980933, 3.638243191428735, 3.6377872706275984, 3.6374797551171643, 3.636310007134349, 3.635829052759153, 3.6353198917197225, 3.6344546274664458, 3.6332382219527495, 3.631817777317187, 3.630759701880517, 3.6297431519464354, 3.628616833807414, 3.6279966512714745, 3.6269505703826015, 3.6260290284055707, 3.6261596661270095, 3.62585835058511, 3.6249262241484046, 3.62424094441349, 3.6240990106099336, 3.6235091657153915, 3.6223915690803663, 3.6219321111088285, 3.619702902929635, 3.618860750902184, 3.6182892338293686, 3.617657107005271, 3.6170192189200963, 3.616596435050613, 3.6157507696800315, 3.616135394747866, 3.6156619924893003, 3.6147826630448643, 3.6135193156766334, 3.612868929522069, 3.61279932891301, 3.611694682222717, 3.6115073076866206, 3.6118953958282187, 3.6107442938121324, 3.6093730966443216, 3.6084588462190306, 3.6079463398071137, 3.607731878070548, 3.6058230698801723, 3.604755921000111, 3.604530323612176, 3.6048877941218507, 3.6045630486041764, 3.6042688137511734, 3.604066478455023, 3.603116138707898, 3.601869162553432, 3.600643982957403, 3.6000455170060257, 3.5994047961345874, 3.599136900719685, 3.5993982796010475, 3.5987908681982748, 3.5984073162774584, 3.5970255734569787, 3.5966953158187542, 3.595922853151461, 3.5950114206837673, 3.594469587582312, 3.594188890059101, 3.5929229575534896, 3.5931066048525384, 3.5928509199143592, 3.5917653528573115, 3.591173425800257, 3.5898506319777925, 3.590589891067033, 3.5898268890402707, 3.588598183947026, 3.5875120018591207, 3.586354242474504, 3.585347754530467, 3.584296220701316, 3.5839507918251003, 3.5832696478102406, 3.5829934709082027, 3.582456425414593, 3.581604630217401, 3.580849265779947, 3.5798280169911343, 3.578657031682485, 3.5790963394308033, 3.5782192881550325, 3.5775359001113696, 3.576895913551293, 3.5753556491536753, 3.574145844502521, 3.5731296358647633, 3.5726135051193633, 3.5715478537290704, 3.5710527593455645, 3.5704499602462683, 3.569477571165904, 3.5683092989883636, 3.5673383218251224, 3.566490942214748, 3.5663041245913805, 3.566910619696132, 3.567649101737275, 3.566813445869761, 3.5663153220588018, 3.565881165220397, 3.5655064136269963, 3.564809681875826, 3.5641877215349225, 3.5629864275356002, 3.5622238407712867, 3.56125180059054, 3.560768804013418, 3.559853436137168, 3.559427534086983, 3.5589585369600765, 3.5582801509194297, 3.557775795334918, 3.5570147389555724, 3.556147329333375, 3.5555196009521914, 3.5547317129210523, 3.554402370987444, 3.554081064591611, 3.553473078966052, 3.5536990535404533, 3.5533547765740106, 3.5528119880767512, 3.5518381168537907, 3.551099520808173, 3.549643159135528, 3.54877553812812, 3.548418270578634, 3.5476166449468534, 3.546809271702598, 3.545933837568667, 3.545410833499533, 3.5447253055534516, 3.5441132262862616, 3.5433467677351587, 3.5429565878454223, 3.542396356922351, 3.541495823432656, 3.540383678458421, 3.5403265426726698, 3.5396631736133553, 3.538524341774074, 3.537893774622709, 3.5376961289112936, 3.537069871423704, 3.5363762258455576, 3.535514600698893, 3.5347385926903248, 3.5345515983444677, 3.5337616863281216, 3.533374325910022, 3.53286244763084, 3.531772400565282, 3.531331026318876, 3.530719503399147, 3.52968363289452, 3.5291763968674053, 3.5288054201620622, 3.5279992194933554, 3.526953507586601, 3.526657134988897, 3.5262078578932052, 3.5253477017374193, 3.5250848104594867, 3.5249659502245825, 3.5243716708908313, 3.5241248305730175, 3.523204792852424, 3.5223205200392154, 3.5215642979268225, 3.520896402804782, 3.520375738171953, 3.5195308944387858, 3.5186681351705755, 3.5179480903855094, 3.5168179908946566, 3.516217618841401, 3.5160018794283885, 3.5146976363132985, 3.5133652277322205, 3.5117082030774966, 3.51105637774729, 3.5106869692927547, 3.509415114928525, 3.508814819262437, 3.507867633337171, 3.507451732482936, 3.506563400900271, 3.506420603865151, 3.505893193357244, 3.50555851353868, 3.5060753126010904, 3.5064526516425643, 3.506142522690144, 3.5055490543458876, 3.5046310334080792, 3.5050438708399714, 3.5051550913011598, 3.5050744899651805, 3.504191490918306, 3.5040846756751325, 3.503932510623662, 3.504294125674216, 3.503651158670788, 3.5030424892498124, 3.5025007801276895, 3.5021089316201377, 3.5015585498471284, 3.5009885782172345, 3.50035961413029, 3.500182754437305, 3.4994019574874775, 3.49837169391397, 3.4976709564897543, 3.4966165461939274, 3.4953251833539687, 3.495320548385322, 3.494171825143327, 3.493986611185682, 3.493425445460831, 3.4927118170557656, 3.491719435495447, 3.4910399556531866, 3.490235119888919, 3.4892725940195186, 3.4883111805650326, 3.487917985553105, 3.4872261912458167, 3.486702367883554, 3.4860349685472554, 3.485950981359443, 3.4856034252197827, 3.4855000454500003, 3.4849989004220117, 3.4847127956176243, 3.4843307669418104, 3.484012157498804, 3.483523563467666, 3.4824054805652693, 3.4821310248213546, 3.4820773814734296, 3.481902925912172, 3.481746976678059, 3.4808811664971584, 3.4804387479950294, 3.4798021138459867, 3.4791118303221644, 3.478329222838285, 3.4776565016881467, 3.4764974628615217, 3.4754709082590876, 3.4747014151533597, 3.4741381717560893, 3.4734756677224823, 3.4725718259657175, 3.471859684660626, 3.471110179833106, 3.4704251101419685, 3.4698329205424883, 3.4690344209429274, 3.4693923728719223, 3.4688875081998956, 3.4681808695012672, 3.467931758660338, 3.46707165813104, 3.4664930068828155, 3.4660579041573496, 3.4654377140919737, 3.4644569162948238, 3.4639050691020605, 3.4637130654043067, 3.463081828725264, 3.462441987073979, 3.462127680173363, 3.4613501188533764, 3.460680956122312, 3.459969631341121, 3.4594661069742654, 3.4587034963741305, 3.4578528244362503, 3.457281281293733, 3.4566541400888298, 3.4563747176003856, 3.4561518803419142, 3.4554603956131302, 3.454970192123071, 3.4544248134257995, 3.454236776127668, 3.4547287051960587, 3.454667125076508, 3.453960478199952, 3.4534973381214265, 3.4531766317466417, 3.4530237706877855, 3.4531455005775404, 3.4521144583489716, 3.452107764187455, 3.452013249606127, 3.4525666083444286, 3.4531752887125795, 3.4528274841557396, 3.4525006011337562, 3.452427468818828, 3.452185989450497, 3.4519856277431598, 3.4515177996434927, 3.450840112982788, 3.4508704099960408, 3.45066907425678, 3.450258704275838, 3.449888582126414, 3.449906587512459, 3.450429370015567, 3.4506942619980228, 3.4507032358475476, 3.4504518933804587, 3.4505507209320654, 3.4499070155610707, 3.4497087134319284, 3.4487399273772135, 3.448105635283347, 3.44737100473076, 3.4477650155804347, 3.4470288671893496, 3.4469752410906764, 3.4468289737642905, 3.446369054444394, 3.4460747118541, 3.4459781140243155, 3.4454698450211794, 3.4446062668197706, 3.4448830155531436, 3.4443542398475926, 3.4437965386115135, 3.4432856813222585, 3.4427332406999267, 3.4419288013627, 3.441513476495272, 3.4408055531001103, 3.440265620454313, 3.4401759289895906, 3.4391756033508973, 3.4384030780647135, 3.4375725908294363, 3.437461286830126, 3.43743315955993, 3.437377936457825, 3.4369367914491757, 3.436212292104257, 3.4356893500544494, 3.434868390295223, 3.4344630226595574, 3.434566914654631, 3.4341944730800327, 3.43355548491908, 3.433576440624197, 3.433653754147915, 3.4335963232651405, 3.433479754845935, 3.433097242530454, 3.4328434081086545, 3.4325781950769443, 3.4320738078419977, 3.4321919857037515, 3.431942190872746, 3.4312556290500336, 3.431063259451401, 3.430514824049963, 3.4297523101943597, 3.429492726412403, 3.42898013069948, 3.428562202320347, 3.428123671059262, 3.427555496552948, 3.427191016285533, 3.4264597642285226, 3.425632262639735, 3.4248060340356683, 3.424425574955166, 3.4242846389829893, 3.424022549472347, 3.4238828600202535, 3.4231117726704205, 3.4221679855706384, 3.4216971686879996, 3.421020732994321, 3.420647469511838, 3.4199556919554994, 3.4197554190339505, 3.419510049426459, 3.418907313022282, 3.418474244307331, 3.4180849923097996, 3.417640649978156, 3.4171460488101, 3.4163830340457424, 3.4160058309496963, 3.4153509177322765, 3.4155295358103945, 3.415237712060078, 3.4150022472213166, 3.414991463464253, 3.4146909968290884, 3.414423130537086, 3.4136195538759666, 3.4135778296471915, 3.4128848802775726, 3.412693509834782, 3.4124818690753167, 3.4119962552784977, 3.4118165725483403, 3.411517013054507, 3.411198273217161, 3.410842250757725, 3.4106010670186424, 3.4103625110010674, 3.4093770250435633, 3.4084134595434996, 3.407602545245172, 3.407161738639286, 3.406590951611328, 3.406447262731816, 3.4059447750829572, 3.405449969564652, 3.4053051669581382, 3.4047969927962742, 3.404400646374833, 3.4035301787899153, 3.4033931015327377, 3.4027733755945615, 3.402121848367318, 3.401865100585817, 3.401246405792961, 3.401003478166075, 3.4004192156961284, 3.399820332288189, 3.399307647477066, 3.3986014184472007, 3.398116273889074, 3.3976264118237567, 3.3971012731672476, 3.3966966178035505, 3.3964668281383745, 3.3964256467595986, 3.3959784731773146, 3.3954436489430253, 3.3950926303291578, 3.3946798856350417, 3.393906984174486, 3.393875722282659, 3.393291916116341, 3.3933799795685773, 3.392944884125658, 3.3926139494156295, 3.3921853566877314, 3.3917489406264165, 3.391858074798894, 3.39130023995113, 3.3911217809840313, 3.390913532374554, 3.3904644995052826, 3.3903247005911963, 3.390108965275625, 3.389839101584552, 3.3895125193607103, 3.389301035019391, 3.3891106152884767, 3.388886980839608, 3.388669789757233, 3.388193243389389, 3.387752311188994, 3.3871954263686526, 3.387000038423597, 3.38652578410035, 3.3858962392282685, 3.3852367313000964, 3.3844206546416467, 3.3845319940105885, 3.3840591309810577, 3.3836199275448107, 3.3831476661889353, 3.3828298011752524, 3.3824464038119038, 3.3823172566507185, 3.3816635495166176, 3.38167149248393, 3.3816212683106714, 3.381343932715455, 3.381276962648386, 3.38118832171194, 3.3810174696336803, 3.3804712120682026, 3.380054065404815, 3.3796245057701677, 3.379462735925589, 3.3791748388946417, 3.378796339184964, 3.37848373155435, 3.3782489081051734, 3.378081005061361, 3.3778363788610744, 3.3774562617050448, 3.3772131767372935, 3.3768144519431833, 3.376325922495022, 3.375413158491578, 3.375053268423321, 3.374586321989519, 3.374251893108603, 3.3737851656815376, 3.373084568937118, 3.372985757182736, 3.3726103780001484, 3.3721620196619857, 3.371926295071636, 3.371310280307528, 3.371391372854404, 3.371273588662175, 3.3709664004261115, 3.370806565365797, 3.3704772208063725, 3.36996917865681, 3.369675392343916, 3.3694829507737247, 3.369110328360717, 3.3690091609488966, 3.3685716444665474, 3.3688223274199065, 3.368527167733758, 3.3686396249510078, 3.368310462865433, 3.3682445269667554, 3.3681357404489716, 3.3681732026960405, 3.3675129495660454, 3.3673671151711524, 3.3667851785186778, 3.3663851309267514, 3.3658630422807456, 3.365966742203434, 3.366000411014854, 3.3656863345202868, 3.36550327201188, 3.3652555154849444, 3.3650898763065533, 3.3645838039558433, 3.3645830107700316, 3.364142898032639, 3.363552811633173, 3.363393431089659, 3.363039583447701, 3.3628058280995945, 3.3623763156814794, 3.362267492690089, 3.3623187754719677, 3.36199280343016, 3.36163173828667, 3.36144318147567, 3.3609456868780905, 3.3605629814043687, 3.3599257518580194, 3.3594583085834318, 3.3591744257802922, 3.3590075766848058, 3.3587630512708664, 3.3584227803356455, 3.3578098448943368, 3.357754200907254, 3.3572552752549027, 3.3566155309582415, 3.3564040128983095, 3.3559300741895157, 3.355220026165101, 3.354924582521165, 3.355122376444498, 3.354859507508625, 3.3546422489544834, 3.3544151494583434, 3.354111558212904, 3.353582476835321, 3.353490999476045, 3.353318559531331, 3.3528708709807384, 3.352269733989776, 3.3516960317463145, 3.3514678998417744, 3.3510944858646323, 3.350345705170792, 3.349879844975055, 3.349309777818195, 3.3493069235696136, 3.3487711044319965, 3.348309459553079, 3.3478518789666625, 3.347454548393288, 3.3470454637425338, 3.346621270757964, 3.345944636824129, 3.3456841181827794, 3.3453068098003467, 3.344743742934718, 3.344511803771412, 3.3441045268474383, 3.3439832234328835, 3.343646761949128, 3.342965111399378, 3.3427883701784262, 3.3425808152322833, 3.342200310112423, 3.3419745931105256, 3.341773333281098, 3.34160851814029, 3.341454683934094, 3.3413366032386707, 3.3409557863088155, 3.3404584838735434, 3.340102640313305, 3.3398893075537677, 3.339247997138365, 3.33901954308834, 3.3389360166549134, 3.338780315095881, 3.3385071580267964, 3.337991695636137, 3.337968584092857, 3.3379145956044476, 3.337622407318339, 3.3377418947691306, 3.337376402103384, 3.337147045429956, 3.336855607038525, 3.336470635273802, 3.335995523595139, 3.3356589918755857, 3.335613502088334, 3.335655977629266, 3.3349009943448236, 3.3345719069532427, 3.334505516469265, 3.3342292937229705, 3.3337267770327705, 3.333124583888696, 3.332633897375927, 3.332652894755692, 3.332893625794494, 3.3326167093558854, 3.3321945546753384, 3.3316827977587846, 3.3315683934065756, 3.3309873294883143, 3.33055176053781, 3.3301564080528268, 3.3296198075074477, 3.3291923072542113, 3.3293180239741615, 3.3288847953670095, 3.328563986443649, 3.3287974406776364, 3.328296655609811, 3.327735689864309, 3.3273680555594707, 3.327089618289256, 3.326806487795413, 3.3266565134493002, 3.3265538658156717, 3.3263824825887243, 3.326256830538385, 3.3262519792270075, 3.3265363823318097, 3.3265218605460767, 3.326258904362714, 3.3259195048169046, 3.3256501235352736, 3.325777613719148, 3.3262125384780257, 3.3262502312492304, 3.3255564444797607, 3.3252232546883835, 3.324719062550078, 3.3246537954695983, 3.3246051183891256, 3.324755445705335, 3.32457983696911, 3.3243943980322364, 3.3241842309825267, 3.3246822941603447, 3.3246153228293958, 3.324635215268103, 3.3242279561690493, 3.3240373883533385, 3.323719202226436, 3.3235089722354934, 3.3234048996926315, 3.323284741581594, 3.3229579699225456, 3.322580479178469, 3.322284309046324, 3.3224288113807656, 3.3221251459716545, 3.32214995585645, 3.3221274455225136, 3.3225589046728796, 3.322678170295803, 3.3229501673733406, 3.3230607740828706, 3.3223755015079224, 3.322491793504194, 3.3226184381444805, 3.3223229471142566, 3.322291266165977, 3.3218809029950784, 3.3218925151523826, 3.3218587696658917, 3.32181027708593, 3.3216659199309557, 3.32205577329047, 3.32204152740264, 3.3215730937027734, 3.321173116297379, 3.3206080002955956, 3.3204700338978252, 3.320275654859128, 3.3199321883652813, 3.3199226429571325, 3.3195721667763753, 3.3198389838676916, 3.3197883743642858, 3.319528761481617, 3.3191940792994483, 3.3190880169207566, 3.3188956047796716, 3.318538709130456, 3.3183923158024733, 3.318255894234737, 3.3182626448922687, 3.3183062478072767, 3.3184081112133743, 3.318252071049415, 3.3182106158872466, 3.3181486893037255, 3.3178928564462975, 3.317515207293476, 3.317360896570379, 3.3174562954732223, 3.3172020777623494, 3.316977994084565, 3.3170287670898304, 3.3170472151965504, 3.316795698511843, 3.3164908347161974, 3.3164360984420216, 3.316203220588979, 3.316017618592837, 3.3154393333667427, 3.315119333375882, 3.3152934355471064, 3.315097041428912, 3.3150888051661123, 3.315261002588593, 3.3150953707448485, 3.3148544348251656, 3.314598711220643, 3.314075308809147, 3.314304872995079, 3.3138430501207896, 3.313387670803892, 3.313432233914678, 3.313078045714715, 3.312648925844573, 3.3122712093089905, 3.3118802303694457, 3.311695803287772, 3.311189330832152, 3.3109748314840326, 3.310894064559863, 3.3106258795502983, 3.3103811610806373, 3.3099756408327994, 3.309612941026253, 3.3097538032043277, 3.309415776073143, 3.3088777715763436, 3.3084096459183985, 3.307868476082429, 3.3075390043073294, 3.3069920467738774, 3.3067630256256986, 3.3063716485448738, 3.3060136503893314, 3.305819519852917, 3.30583609480997, 3.3053679718431392, 3.3048525192791067, 3.3044520125024803, 3.3039445312456386, 3.3038354998561292, 3.3036980720706057, 3.303448515044355, 3.303320840062503, 3.3028804009737085, 3.3025354301825924, 3.3019852793788167, 3.301673117182432, 3.3014197389152873, 3.3007001772318794, 3.3003076967145435, 3.300264975288073, 3.299742992192143, 3.29948937008671, 3.299351483268951, 3.29882191589564, 3.29869756309207, 3.2984362167490824, 3.298300667328075, 3.2981700173855293, 3.298225429172019, 3.2981319256143933, 3.298230836171593, 3.298097094417632, 3.2977310973806016, 3.2975909120131597, 3.2973254346928886, 3.297375409232264, 3.2971718836653556, 3.29714848900153, 3.2971172174928665, 3.296778539459557, 3.2966351845651194, 3.2964551749046693, 3.2962697801320764, 3.296237947162976, 3.2961250482087907, 3.2961452060268788, 3.2960758552282905, 3.295804873114017, 3.295455950427939, 3.295055479643127, 3.295101145891079, 3.2950022443236975, 3.294667079168743, 3.2943516778744732, 3.2942170354596882, 3.293868069882264, 3.2934187145317666, 3.293403213715976, 3.2931334264871035, 3.293015089466805, 3.292940653319211, 3.2928456486673374, 3.2926524230153427, 3.2924655556507503, 3.2920839180624504, 3.2918317328267057, 3.2912926246468968, 3.290953143186754, 3.290649480012852, 3.290364695896394, 3.290020932585763, 3.2897639897555004, 3.289780083264856, 3.289530097901951, 3.2891719993088575, 3.288700153561798, 3.2881123296446693, 3.287829896875185, 3.2877988813952763, 3.2876525400166954, 3.287313115076484, 3.2871044413609667, 3.2870932977917287, 3.2866766719585723, 3.2865795460513114, 3.2863259542480963, 3.285905448515773, 3.285523213466844, 3.285032350058058, 3.2849163117220765, 3.284683313876885, 3.2846568027489047, 3.28447555882407, 3.2841022225289414, 3.2838171782816628, 3.283458817183946, 3.2831069802298223, 3.282672158918811, 3.2826287331354065, 3.2826089355026697, 3.2825986967492446, 3.282516529517383, 3.2820357300015743, 3.2815208581913566, 3.2812398761747397, 3.280760649060707, 3.2804227284372898, 3.2801820030837003, 3.2799705042864438, 3.2796421879391864, 3.279341694045584, 3.279511966519489, 3.2794955254805616, 3.27939982276416, 3.2792863812605444, 3.27936588251304, 3.279390997707699, 3.2792334972515294, 3.27926347339063, 3.279043657270301, 3.2787086260543226, 3.2785900517346085, 3.278176400120201, 3.2781127967978616, 3.277862496241052, 3.277733337190506, 3.277330400392858, 3.27717245659918, 3.2766830641621, 3.276404776636453, 3.276270321346434, 3.2760142624011164, 3.2757762801357995, 3.2754716134765465, 3.2753437128057725, 3.2751535379895307, 3.274948865788614, 3.274634858036848, 3.2744309191014027, 3.2744193177223817, 3.274062182659511, 3.273743446781554, 3.2735878803694214, 3.2733065249022477, 3.273216225096378, 3.2730397321989915, 3.2727304855661705, 3.2726562299456226, 3.2726725445470253, 3.272633920857927, 3.272652629725062, 3.27255444130811, 3.2724178416017127, 3.2721108240270063, 3.27181430992087, 3.271355919476691, 3.2710247070724257, 3.2708300148160685, 3.270554032142667, 3.2702746376386456, 3.270112899739052, 3.2698577171423566, 3.2694111029063535, 3.26908059885102, 3.2686833848808114, 3.268221364713435, 3.2680487463243866, 3.2678761718088816, 3.2676707942768033, 3.267341277311363, 3.2669551643013586, 3.2667309757094536, 3.2666186034696527, 3.2663328024480265, 3.266297896635831, 3.2659704799968936, 3.2658856071896682, 3.2655519516495937, 3.2653541970727646, 3.2651987200805452, 3.2651200747024447, 3.264777834244504, 3.2645544425584085, 3.264674343428477, 3.2645937978913, 3.2643157183964067, 3.2641346197394974, 3.2637389301879076, 3.2631600416246553, 3.2632184125093535, 3.263265978418943, 3.2630062801557203, 3.262687244348265, 3.2626536454229838, 3.2626795204395327, 3.2624624147938794, 3.2619963709615427, 3.26163707747401, 3.2614251499932676, 3.2609393506709194, 3.2607607480874843, 3.2604448266063364, 3.260404474555842, 3.2601761072552256, 3.259925972290274, 3.2594616924057966, 3.2589901199798614, 3.258777269454789, 3.2584652032716215, 3.2582777825250195, 3.258025088149727, 3.257739752932176, 3.257391546884273, 3.257101788905264, 3.256955309377622, 3.2565432322544337, 3.2564873512235004, 3.2562050365911777, 3.255870054377618, 3.255527320662702, 3.2553982179284944, 3.255077581048375, 3.2547119022516617, 3.2543004121194334, 3.25419250218808, 3.253816086753137, 3.2536315898495247, 3.2532377590125034, 3.2529556271306963, 3.2527123856298314, 3.2524432881411696, 3.252503149155205, 3.2524231291805648, 3.2520040560208496, 3.251561698134117, 3.251320452738252, 3.251074319220117, 3.2509578827127683, 3.250916762893826, 3.250819939282855, 3.2504835498351485, 3.250243456591743, 3.2501409730297732, 3.249937943684388, 3.2496220196711083, 3.249355842571895, 3.2491362337632284, 3.249164421355382, 3.2492338643456726, 3.2493244439310414, 3.249189486987018, 3.249043233230555, 3.249096283598435, 3.2491094449880262, 3.2490504646857206, 3.248753287686899, 3.248633090583486, 3.248487696860156, 3.2483731520881376, 3.2479092122009106, 3.2475114676999555, 3.246969721591517, 3.2466816343709746, 3.2465605825276596, 3.2464916008132336, 3.246137879959545, 3.2456614545944262, 3.245503623817401, 3.2454483549737976, 3.245491524031843, 3.2452621035068705, 3.244808125893652, 3.2444025077983234, 3.244208482404525, 3.2439543592381397, 3.2436837484267125, 3.243133392920688, 3.242839765287311, 3.2425430105429145, 3.242156960059998, 3.242250333892659, 3.241911528203789, 3.2414268601150003, 3.2409513562016428, 3.240658677392132, 3.2401650320410296, 3.239597218271015, 3.239001845678731, 3.238789835392428, 3.238560479055295, 3.238188223198601, 3.2378158305589273, 3.2377325498850835, 3.237508135118933, 3.2372013406208584, 3.236801197048986, 3.2365569334488224, 3.2364998522418293, 3.236231592565205, 3.2358531111720916, 3.235626440234223, 3.2351353780005856, 3.2347814666935117, 3.234508563521362, 3.234414149549198, 3.2341080928410175, 3.2339546654922318, 3.2338890079530196, 3.233679363781769, 3.233477376317502, 3.233386363839517, 3.2332042161386334, 3.2330054135621578, 3.232943835878322, 3.2328838720307695, 3.232647039772085, 3.232301298329583, 3.2322009102103126, 3.23198454794121, 3.231796507642358, 3.231511967008744, 3.2311710425111366, 3.2307937786439327, 3.2308357144175495, 3.230677622720716, 3.230695663251015, 3.2305372900668945, 3.230513424553705, 3.2302944726678122, 3.2302635793924686, 3.229955035352725, 3.2298799390231867, 3.229623906871379, 3.2296267300730026, 3.2292995248819385, 3.22921115934996, 3.2288993234111767, 3.228827670342806, 3.229271551058667, 3.2293235207247433, 3.229498531672934, 3.229580647980872, 3.2293650082227563, 3.2292410624974086, 3.2293108860210604, 3.2295504825390795, 3.229309863640941, 3.229302513994548, 3.2291069508278722, 3.2290140462033814, 3.2290078007037164, 3.228924684338919, 3.228927436404998, 3.2291494579933677, 3.229472681142271, 3.2292609461892057, 3.228922629933925, 3.2287828274121253, 3.2287575915523536, 3.228284126441751, 3.2280898566499108, 3.2277311965551725, 3.227363516866714, 3.227097355166529, 3.227105903071962, 3.227175710922853, 3.2268863866059294, 3.2266429151370244, 3.2264333506096214, 3.226585502451447, 3.226296347217967, 3.2262229471154975, 3.226232491076579, 3.2260109999603204, 3.225629327180001, 3.224970498917545, 3.2247204095643167, 3.2247348888199143, 3.224584987371357, 3.224498850542565, 3.2244067029754384, 3.2242333293401924, 3.224144290989891, 3.2235758871874642, 3.223521820260842, 3.2231768914868315, 3.2229355108052835, 3.222397217890027, 3.2220162922696374, 3.2220835149519487, 3.2220890606312453, 3.22164532197927, 3.221471574535976, 3.2211312497905173, 3.2207672877062614, 3.220612489636325, 3.2208757624409246, 3.220870378266516, 3.220823243140134, 3.220349035569693, 3.2203564366649204, 3.2201185701960373, 3.220043382614424, 3.219963517165414, 3.219954128726443, 3.2198057701813765, 3.2195592612462796, 3.2194177752034285, 3.2191284158428455, 3.2191303837747878, 3.218960123971641, 3.2185141309130874, 3.2183916009822986, 3.2181224626989398, 3.218005110748111, 3.217829744519363, 3.2175744093314402, 3.2173713720474115, 3.2172128775521056, 3.2170009471521173, 3.2169204636650175, 3.2167398479818043, 3.216632991123823, 3.216525026985116, 3.216175602751837, 3.215742908610501, 3.215418205429697, 3.2151864252602773, 3.214903081524546, 3.2146176533691975, 3.2144582467769744, 3.214494938586521, 3.2142590454889075, 3.214066922280744, 3.2138520926157947, 3.213533333597726, 3.2132145120161937, 3.2129468103460357, 3.212655413599533, 3.2123661737094813, 3.2122147415636086, 3.2120790906883587, 3.2120009388497137, 3.2116899181374707, 3.21155836105005, 3.211373944039919, 3.210969113074083, 3.211049862906824, 3.2106544559142205, 3.21050250753899, 3.210468396846368, 3.2101721192173454, 3.2100649891145077, 3.2098407117908105, 3.2096374760650885, 3.209287513339322, 3.208903034689124, 3.2085312517127753, 3.20812043808961, 3.2082068740973106, 3.2079574295950053, 3.2074331137328627, 3.207470023046737, 3.207085285032436, 3.2070123047551378, 3.206723638072891, 3.2064331560313493, 3.206192228174424, 3.2060685561502624, 3.2060380162251594, 3.205797507722279, 3.205802638553914, 3.2057468930873823, 3.205607608162873, 3.2052434097142433, 3.205046845981217, 3.2047533492790996, 3.204501965884738, 3.204131630827989, 3.204073055190984, 3.2040587638775726, 3.203926252991462, 3.203833749043262, 3.2035730005713683, 3.203236731349495, 3.2033719967199037, 3.2032844173805723, 3.202915824668934, 3.2025795709432554, 3.2024315762240465, 3.2020135722335907, 3.2016732886795434, 3.201245625269293, 3.2010209021965554, 3.2007931768592255, 3.200633463626329, 3.200221959049034, 3.200022154290826, 3.199623963121621, 3.199561272248765, 3.199357994908507, 3.199290131158492, 3.1994779880117066, 3.1991307433069087, 3.198747959449671, 3.1985148558146426, 3.198115142741369, 3.1980180710039487, 3.197935446323629, 3.1977482297204722, 3.19757182293396, 3.197482892988317, 3.197296669546159, 3.197057039014867, 3.196973632403556, 3.1968739380413744, 3.1968955737479274, 3.1967179106320014, 3.196458004146812, 3.1965992425033054, 3.1965623061086372, 3.1964741593885866, 3.1964885424252283, 3.196246306673453, 3.1960393033242678, 3.1960636510974036, 3.1957987780615347, 3.195599019428357, 3.1953353884055646, 3.19519710621336, 3.194849926263082, 3.1947531783327543, 3.194516613995932, 3.1943464119006153, 3.194179907244655, 3.194520985996085, 3.1943241835985954, 3.1941924308879956, 3.1938159208307284, 3.1937932432085856, 3.1934512850372325, 3.193173822898182, 3.1929400713732745, 3.1927748295298217, 3.192415403676643, 3.192434573848632, 3.1920053983371246, 3.1917977300722704, 3.191982492933099, 3.19197911945525, 3.1920233675067102, 3.192092728682429, 3.1920742155821102, 3.1921607606245614, 3.191933777388002, 3.192142552809796, 3.192364712285811, 3.192471334806806, 3.192253089258124, 3.191789896767259, 3.1913271662829827, 3.1908408065021248, 3.190296489212092, 3.1901797762590385, 3.1899149213195503, 3.1894560003469272, 3.189224731479103, 3.188915784315381, 3.188506065570872, 3.1882014241547516, 3.1877060698858606, 3.1875468492244803, 3.187344288031342, 3.1871997618757852, 3.1872453656045203, 3.1872533111496293, 3.1869304658675, 3.1867428457256364, 3.186456242736417, 3.186361069926479, 3.1860084175342585, 3.185673374958211, 3.185339214153393, 3.1851390252926794, 3.184844383749261, 3.184736586299956, 3.1843359120886485, 3.1840747048220033, 3.1837235345723744, 3.1833875745394633, 3.1832013776009234, 3.1829886549189395, 3.18255313703651, 3.1823555027963413, 3.1822648210500977, 3.182053318255358, 3.181715970774759, 3.1813837664473548, 3.181026736658709, 3.1807398864031744, 3.1805619679810104, 3.1801592772366787, 3.1800525095514263, 3.1798211237753544, 3.179449619591512, 3.179138548464995, 3.1788473831347486, 3.1785574377876165, 3.1781489027975907, 3.1778758879027866, 3.1776375363062708, 3.177427545009647, 3.177129080865245, 3.1767178945785073, 3.1763651051468633, 3.176193635071591, 3.175876362335247, 3.175675751890413, 3.175486064140156, 3.175349418827928, 3.1750215527941954, 3.174753736363272, 3.174801275316727, 3.1747179669512366, 3.1743733133696614, 3.174277851576956, 3.174052612668078, 3.1738501955154432, 3.1734556366233653, 3.173274855829776, 3.172857257015276, 3.172685435018005, 3.1725486930819686, 3.1723355062125163, 3.1720629268914102, 3.1715640794713895, 3.171289590809305, 3.1708315335776276, 3.1706550583150914, 3.1703737341199276, 3.170128975694337, 3.170038399607927, 3.1695949233117875, 3.1691669419036237, 3.168787208756626, 3.168499146650703, 3.1682819557448783, 3.1681212390016724, 3.168084378216367, 3.1683329304300782, 3.1681193533022163, 3.167726029587205, 3.1673676800829558, 3.1669279846379226, 3.1666020102847825, 3.166286114493903, 3.165885968663792, 3.165719432460718, 3.1654459537806763, 3.165225923816679, 3.1648510252875464, 3.164707032855165, 3.1645992532740053, 3.164231618843519, 3.1639327859844153, 3.1638052795836735, 3.1635047138063426, 3.163115448320864, 3.1627983472623087, 3.162377287325486, 3.1621278280799436, 3.1619552103068913, 3.1615681421135053, 3.1615791687158743, 3.161475800447112, 3.1612750849215865, 3.160863691773028, 3.160527485197708, 3.1601736406278107, 3.159956536516555, 3.1596639128388073, 3.1595443485450003, 3.1592687301238525, 3.159192081714516, 3.1589053593852463, 3.1585025948156247, 3.1580860390257026, 3.157825669734366, 3.157582578614579, 3.15728963699343, 3.1571290185317373, 3.156800889902836, 3.1566188959495536, 3.156301955851265, 3.156134816082558, 3.15579430616997, 3.155445631726872, 3.155327855392601, 3.1551379251974456, 3.1548737614239113, 3.1549145277812576, 3.154820471252017, 3.1545334881986493, 3.154206448479074, 3.153981160099447, 3.15383619559078, 3.1537086036558164, 3.1537987377771177, 3.153408199984325, 3.152962897583442, 3.1526650079859975, 3.152473806074142, 3.1523171778287944, 3.152264052666968, 3.1521401559500157, 3.1518068209950174, 3.1514538225817685, 3.1509827565376085, 3.1505121606092104, 3.150390085800836, 3.1500971427367714, 3.150110612650702, 3.149997904011887, 3.1500033537367367, 3.1498056362473688, 3.149584570154453, 3.1494320009221917, 3.1494612457966165, 3.1492378977996176, 3.1491503490618458, 3.1489582858657332, 3.1486991443937034, 3.1485709176646357, 3.1482476263447916, 3.148331689648967, 3.148358076130779, 3.1481396874977206, 3.148034298443073, 3.1479359835764886, 3.1477691243432186, 3.147546100988313, 3.147418425975841, 3.1472488542898467, 3.1470678291953784, 3.1469318539356412, 3.146863497070673, 3.1466476064183007, 3.146426152293049, 3.1462501405542223, 3.145976051208558, 3.145785185572463, 3.145588690300351, 3.1453857513340293, 3.1452619795964125, 3.144881608155193, 3.1446787973372583, 3.1444357690935245, 3.1442826641505666, 3.1440370054065103, 3.1437392939211097, 3.143672437362599, 3.1433572436618933, 3.143078826674254, 3.1429752054041304, 3.1429829990742957, 3.1427869517262557, 3.1427720934295715, 3.1425184997896696, 3.142273534995384, 3.141922127031084, 3.1414840150645023, 3.14129130592193, 3.1412125828976545, 3.1411028608807374, 3.140925436951413, 3.140768631919453, 3.1407150702203257, 3.140419696141175, 3.1399509347051135, 3.1398225308217103, 3.1395877016737472, 3.139308074526465, 3.1389913069974265, 3.1389168031499834, 3.1386449227359603, 3.138344425867548, 3.1381419384016183, 3.137702359663562, 3.1375127555060547, 3.137109704361511, 3.1368287237017984, 3.1364929503679164, 3.136440133356658, 3.1361392327827446, 3.1358012026519657, 3.1355891845713106, 3.1354105773737513, 3.1352768204789774, 3.1349403923068535, 3.1347714674545895, 3.134562701894745, 3.1342163133805716, 3.1341899877072197, 3.1340819110220948, 3.1340553506642257, 3.1339195261246235, 3.133859760432279, 3.13377517719959, 3.1335874183965733, 3.1333148579966696, 3.132944502075212, 3.132827455881072, 3.1326968989070734, 3.1321967303189626, 3.1319987902660675, 3.1320777323731344, 3.1317826827221715, 3.131486766777325, 3.131377804084013, 3.131259868464247, 3.1310913811414633, 3.130854174600015, 3.1305115529692245, 3.130290715046247, 3.1299638216452603, 3.12970177589031, 3.1294493687002247, 3.129203521198218, 3.128957926403367, 3.128865679596156, 3.128660974696452, 3.128280768663091, 3.1281008320916324, 3.1278066060292224, 3.127488954204444, 3.1273340994073497, 3.1270236299784284, 3.126783890836248, 3.126423465472849, 3.1261654239761336, 3.1258878612116634, 3.1254776140539753, 3.1250786167409355, 3.124651040119567, 3.124214549688167, 3.1241040873631762, 3.1241713516203307, 3.1240145971727906, 3.1240239183227327, 3.1241620790316587, 3.124181493461096, 3.1240709555825683, 3.123940425985392, 3.1238863089758784, 3.1239997441375014, 3.124063303400577, 3.123848277341927, 3.123872004463329, 3.123838390127052, 3.123668892539673, 3.1235376725457646, 3.123462555746316, 3.123105700501682, 3.1227212370566395, 3.1227526810983472, 3.122767595696024, 3.1224516183822058, 3.1223433076688942, 3.1222471421388587, 3.1219756532378664, 3.1218278540384037, 3.121700126781574, 3.121436880412205, 3.1212499626270676, 3.121054411242138, 3.1209851592923474, 3.1206583372365304, 3.120426379343475, 3.1202758698171666, 3.1201109877666053, 3.119963017608408, 3.1195902811014666, 3.11926894355658, 3.119116570290095, 3.1188408095803157, 3.1188249639028136, 3.1184984711279182, 3.1182960840290663, 3.118018024031617, 3.1177761714863146, 3.1174195002635745, 3.1172977127941532, 3.1171283168933535, 3.1168322639881896, 3.11659142942013, 3.1164903029822124, 3.1163311701685847, 3.116123737966145, 3.11595680270222, 3.115746245614401, 3.1155440762082605, 3.115341395564103, 3.115094829925711, 3.11493375518801, 3.1147389228079443, 3.1144853526670877, 3.1141377455580916, 3.1139434048689876, 3.1138939751882133, 3.113685223422085, 3.113675241601067, 3.1134809656312172, 3.113231988629973, 3.113163954284539, 3.1129957184533246, 3.1128715523650676, 3.1127492151364824, 3.1126085806234003, 3.112267174387282, 3.112144514270217, 3.1118662943004565, 3.1116677741027177, 3.1113345299601565, 3.111170246999048, 3.1107926016242264, 3.110608925055802, 3.1105400843250615, 3.11052772381513, 3.110353514636974, 3.110303558181605, 3.110228134463408, 3.1101238802154514, 3.1100388569042763, 3.110058005033777, 3.110058683139988, 3.110095840786803, 3.1098993431477986, 3.1098918999606378, 3.109934538045112, 3.1097235424867766, 3.1095686636197346, 3.1093750521332817, 3.109052439767663, 3.108816903957443, 3.108622821277332, 3.108288380979403, 3.1080091763021542, 3.1079852225758025, 3.107695505589158, 3.107452110579261, 3.107218753273845, 3.1070494120134, 3.106943500768635, 3.1067348698988444, 3.1065520622302367, 3.1065425763291765, 3.1063904281212444, 3.1062367121977936, 3.1063099966105163, 3.1062911540232863, 3.1061333735030363, 3.105846673008736, 3.1056276620548924, 3.1054714373078127, 3.105293850838808, 3.1052045672801416, 3.104827990854749, 3.104817797646732, 3.104536885869671, 3.1042791622571, 3.104349227294772, 3.104296055813738, 3.103972693942224, 3.1036254173658073, 3.1032503978078827, 3.1030274234342827, 3.1025275426045265, 3.1023938767750736, 3.10211715528303, 3.1020604575114996, 3.1020049128145963, 3.101678358006895, 3.1014156278388643, 3.101185990063281, 3.1009660572543845, 3.1006375613560975, 3.1006834719173093, 3.1006005072320453, 3.1004138292361394, 3.10007619967239, 3.099971419619602, 3.099679494399072, 3.099428730520225, 3.0991455262295378, 3.09879733787268, 3.0985681753581904, 3.0985379887098388, 3.0983334855388605, 3.0982907701960607, 3.098091269856021, 3.098217056794167, 3.098039015434295, 3.0980532997413657, 3.097813950983146, 3.097685523061575, 3.097453181502586, 3.097490809954847, 3.097496378877987, 3.0972129397201758, 3.097033174194366, 3.096808698076369, 3.096632254132459, 3.096294425878571, 3.09610073074766, 3.0960443450395245, 3.0958246509081757, 3.095860774555956, 3.0957948286241206, 3.095702661322611, 3.095791616790508, 3.0956738185330868, 3.095617525218139, 3.095490683864088, 3.0953856369354473, 3.0954478354090016, 3.095407714284719, 3.095340079362979, 3.095281922979044, 3.095283896880266, 3.095322049883065, 3.0951010812376185, 3.094922648648791, 3.0947634900256626, 3.094786648293654, 3.094597510040016, 3.094532755485968, 3.0944688185672153, 3.094469677607966, 3.0945264806323602, 3.0945010079514765, 3.0943186886493237, 3.094187720951432, 3.0940353867650594, 3.093919282532383, 3.093680195625453, 3.093592081450422, 3.0934379340001463, 3.0933769249077674, 3.0932120151613898, 3.092984752679296, 3.092902986171976, 3.092792348646233, 3.092769520103116, 3.0925787759175294, 3.092504408744862, 3.0925608277770036, 3.092369660781997, 3.0922829838451316, 3.0921860770267617, 3.092143383370476, 3.0919581504764313, 3.0919408630997847, 3.0919182653735904, 3.0919705296240156, 3.0919043942667828, 3.0917083568071386, 3.091589272271486, 3.091428591906727, 3.091185175929674, 3.0910332431402923, 3.0910166733569175, 3.09095219148784, 3.0909289219257854, 3.0908950183074384, 3.0908472741960704, 3.090712874764592, 3.0907200606993563, 3.0906204646906263, 3.090566014411282, 3.090533269617483, 3.0903467508569995, 3.0902241906115524, 3.0900955856108725, 3.0901696359908515, 3.090233046708684, 3.0900227970722107, 3.0898836704363872, 3.0898829633286735, 3.0897459905175584, 3.0895428080247496, 3.0892818263472805, 3.089119184458398, 3.088949713882136, 3.0888594812181727, 3.0887247033514393, 3.088651268604634, 3.088649583128247, 3.088457052491615, 3.08828209905047, 3.0880863074844713, 3.0878075832084533, 3.0876664868826307, 3.087784345790144, 3.087679181858578, 3.0876445052303034, 3.0876177567719925, 3.0875783133189536, 3.0873733224763282, 3.087216554106995, 3.0870053491561302, 3.0868776028065965, 3.0866056756518767, 3.0865396866791364, 3.0863382285409906, 3.086083702357012, 3.085819145840491, 3.0857302678738097, 3.085476101872144, 3.0851496301406818, 3.0849579880869866, 3.0847588092299207, 3.084605264754811, 3.084421635246374, 3.0841356561632773, 3.0839790022897633, 3.0839199813565843, 3.083730813222254, 3.0835490162928267, 3.0832451873409488, 3.0830759280833124, 3.0829330770457286, 3.082868757944047, 3.082672055619702, 3.0823650481688527, 3.0820482628259964, 3.0817895181752357, 3.0816391240369554, 3.0814729331293265, 3.08169662152447, 3.08176714005581, 3.081682606690584, 3.081617279749036, 3.081622172132285, 3.081484412776769, 3.0813699954406673, 3.0812012983798525, 3.0809353044003407, 3.080683722570242, 3.0806012050575715, 3.0804694129541375, 3.0803827447230283, 3.0803190021749676, 3.0801304797178766, 3.0799061746994707, 3.079811160898793, 3.079525944604997, 3.0794339004541076, 3.0791936669565856, 3.0789086106530594, 3.078741853060988, 3.0784918656260474, 3.078207875363243, 3.0780095036080133, 3.0779102045704527, 3.077869878485777, 3.0777684541482935, 3.0778148097677986, 3.077738129027353, 3.077566405906747, 3.077363526629293, 3.0770981423569466, 3.076861547359736, 3.076822837293616, 3.076669929739901, 3.076629401850675, 3.0765408148498663, 3.0763981692400977, 3.076255474343056, 3.0761799473394684, 3.0760233202056853, 3.075728844292768, 3.0756295074093307, 3.0755259092073013, 3.075361889286978, 3.0752613531627655, 3.0750565093771343, 3.0748355708900057, 3.074600546199749, 3.0743658560652847, 3.074142459788121, 3.074136957343982, 3.074012933895376, 3.073792396736082, 3.0737573660934863, 3.073773963090914, 3.0737527818209953, 3.073601986754729, 3.0732940841795338, 3.073036714843995, 3.07298863752724, 3.07274523946267, 3.072427739708134, 3.0721904941476597, 3.071906973428702, 3.0717370396313344, 3.0716571899890535, 3.0715428532030136, 3.071351035169241, 3.0712223429836722, 3.070978228550264, 3.0706240576402086, 3.0705272474014924, 3.070361578319321, 3.0701952388299447, 3.0699978742757805, 3.0697924343007776, 3.069643074046369, 3.0694572457865164, 3.0691954773085146, 3.0689755702353865, 3.0687709070017446, 3.068410872673297, 3.068309832643328, 3.0681894301044217, 3.068125010272661, 3.0679108313628065, 3.0677589652199897, 3.0675186994685943, 3.0673760833985715, 3.0673278910121016, 3.0671376969749695, 3.0669657746798378, 3.066751068371207, 3.0664128317405064, 3.066413716220828, 3.0663124176105985, 3.0661308876272853, 3.0660658723757725, 3.066184296960901, 3.0660825992228493, 3.0661038060137096, 3.0661946344484328, 3.0660228500482503, 3.065890762118199, 3.06589345394482, 3.06579874253809, 3.0656871119322875, 3.0654573987791425, 3.0654265914466747, 3.0650797709623174, 3.064882735434254, 3.0647980908538206, 3.064638574917111, 3.0645209930422537, 3.0644175436103795, 3.064248951102342, 3.0643009628805737, 3.0643746674406107, 3.064074770362671, 3.0638917043686065, 3.063729571575802, 3.0634368975860693, 3.0632302758255108, 3.062909198683053, 3.0627289642717557, 3.062512809321419, 3.062345083890361, 3.0622420783125786, 3.0620748842853214, 3.0619838233350083, 3.0618535874025175, 3.061608654053989, 3.061453376795076, 3.061357666545666, 3.0612616825456787, 3.0612561378599876, 3.0611112176633206, 3.061244359605026, 3.0610522218254674, 3.060893535431801, 3.060783131639656, 3.0606067068301863, 3.0603892002668323, 3.0601408051513546, 3.059999337915539, 3.0598621589382646, 3.0597486551528266, 3.059627841218283, 3.059615430106139, 3.059704298852741, 3.0594451983659323, 3.0591391715680567, 3.058921843907697, 3.0587243037899516, 3.05844704326951, 3.0581708358887063, 3.0581213027122276, 3.057838347943891, 3.057579398095675, 3.057409367361911, 3.0571873204193682, 3.056985325814391, 3.05674455935017, 3.0563998110578545, 3.056191147023634, 3.0561433992643323, 3.0557517470688107, 3.0554593758676494, 3.05524853085778, 3.0549726803537958, 3.054634446995906, 3.0543623146910006, 3.054156099284615, 3.054153907372125, 3.0537879749182824, 3.0535315000874363, 3.0532838805672866, 3.0530324208737776, 3.052856731453198, 3.0525788186973672, 3.0523785247191815, 3.052117187251105, 3.0519287125253713, 3.051762144853378, 3.051521963812767, 3.0512686576705, 3.0513431207237387, 3.0511343892748166, 3.050960260607979, 3.0508434799083317, 3.0506839676749196, 3.0507103380289027, 3.0505469963932588, 3.050399350764075, 3.0503710275718503, 3.050113095933221, 3.0499431302391593, 3.0498053382928605, 3.049639879942925, 3.049531386554572, 3.0493338860147787, 3.049209179894979, 3.049048656239954, 3.0489390075459033, 3.048671546943069, 3.0484548645231793, 3.048146124727455, 3.0478524235229827, 3.047726779127729, 3.0476406992547918, 3.0476094552906896, 3.047561508325519, 3.0474006887330103, 3.04729411038733, 3.0471314296939775, 3.046955697745684, 3.047110383319504, 3.0470489893627786, 3.0468724785377543, 3.0466376494348326, 3.0464100654432698, 3.0461274700015757, 3.0459889860379903, 3.045723398818421, 3.0455326088104115, 3.045352477134781, 3.0452183622275886, 3.0452894960300263, 3.045442563230761, 3.045387964399113, 3.045254241022626, 3.0451643288503436, 3.044900397837232, 3.044733608598142, 3.0444554620523405, 3.0443957671712276, 3.0443563660871873, 3.0442699742189308, 3.0443581433880906, 3.044377654972785, 3.0441190937422737, 3.0439803228532387, 3.04379599188423, 3.043741903024308, 3.0437991272639344, 3.0438663189626705, 3.0438504764095944, 3.0438309879492857, 3.0435954842329696, 3.0434322820936948, 3.0431858805284975, 3.0430540163093345, 3.042902502915101, 3.042790784715441, 3.0428294320408744, 3.042729728675034, 3.042774810538662, 3.042730984865036, 3.042741497385798, 3.042585206511601, 3.042575688974048, 3.042497057467382, 3.042341997783506, 3.042215287416519, 3.0420609909351763, 3.041855370664973, 3.0418253749527624, 3.041753923261686, 3.0417161695346877, 3.041499801479828, 3.0414086951296677, 3.0414352406604985, 3.041245054182227, 3.0412397372158413, 3.041001980180225, 3.04089672369715, 3.040853963911503, 3.0408043328082597, 3.0407484635210436, 3.0406052581954084, 3.0404233463831893, 3.040329721669148, 3.0401338805271734, 3.039978447750463, 3.039839532410336, 3.03975043974774, 3.03953221136868, 3.039369455916823, 3.0390402215040244, 3.0390323761623006, 3.038788256351577, 3.03867122091928, 3.038458552857612, 3.03831242852157, 3.0381077214085184, 3.0378969241378657, 3.0377559675438905, 3.0376413582678934, 3.037456659799662, 3.0373159433408525, 3.037144609442542, 3.037176998566391, 3.0370548924680962, 3.036979337900887, 3.0368116445909403, 3.0365057006191267, 3.036419980133889, 3.036442472142398, 3.0364996461811127, 3.036369710461207, 3.036148319724209, 3.036086378365096, 3.0359005404695143, 3.035767863347436, 3.0355078388728822, 3.035292328928897, 3.0351811472715156, 3.0349807462850666, 3.0348078187398655, 3.0348175005709837, 3.0345888420910008, 3.0345018323755997, 3.0344165326156776, 3.034252529430743, 3.03417261127165, 3.034085990502331, 3.0336770663845694, 3.0335621533741595, 3.0333224845574818, 3.0333548630742198, 3.0331791352432407, 3.0330932716282852, 3.033026762836691, 3.032781565205275, 3.0326206887266935, 3.032472376559624, 3.0324277814235354, 3.032300660518996, 3.0320153097683518, 3.032103169742297, 3.032234973297582, 3.0321022142747847, 3.0319824159948956, 3.0320554443917, 3.0319699700190306, 3.0317938776876634, 3.031682822516429, 3.03168657402416, 3.0316031326963677, 3.0315642906546865, 3.0316394978720576, 3.0314543258114375, 3.031307043232517, 3.0313305754601965, 3.0312611410087276, 3.031237051918874, 3.0311943402474406, 3.0311019555838175, 3.030985987019496, 3.030830846051746, 3.0307053964525004, 3.0304743201898714, 3.0302402125332417, 3.0300184507167267, 3.0297587670294948, 3.029749045869311, 3.0296529160649945, 3.0294604674160257, 3.0292862604618174, 3.0290919477360894, 3.0289500550574644, 3.028781415586585, 3.0285055121497426, 3.028337810150081, 3.02801258843776, 3.0278045899036714, 3.027765094481805, 3.027561771094897, 3.027406237271927, 3.027306982921667, 3.027429982262936, 3.027340871702421, 3.027159170713843, 3.0270978205355554, 3.026967070090996, 3.026784905193002, 3.0266041714275533, 3.026646396007107, 3.0264215782607726, 3.0263056084827866, 3.02603464371967, 3.0258880903487446, 3.0256426404013497, 3.0255600183956393, 3.0254034406024637, 3.0253676260769384, 3.0252696993896184, 3.0251489192782404, 3.025203561880293, 3.0251158624449688, 3.024816314867923, 3.024642292550166, 3.0244989362523924, 3.024552716420274, 3.024493518858695, 3.024367786082199, 3.0243667212192626, 3.0243307797324896, 3.0243028900578333, 3.0241623897581023, 3.0240694334694678, 3.0240423234824307, 3.023766001909162, 3.0235073242152124, 3.0233816117426695, 3.023139918892178, 3.0230936242818967, 3.023037476381927, 3.0228938344108416, 3.0229456672937807, 3.022918959070548, 3.0229022472363063, 3.0229712835758686, 3.0229594174480794, 3.022839886542767, 3.022780708169017, 3.0227766695021314, 3.022799227904649, 3.022693576961158, 3.022555790992564, 3.0225732292391254, 3.0226965034657995, 3.0225930774241, 3.022591755356905, 3.0224519954077196, 3.0224345992916097, 3.0222191714917073, 3.02208721625027, 3.022030073199043, 3.021865684857314, 3.0216609046606866, 3.0215203782561773, 3.0214266906059715, 3.021410539316344, 3.0212219608075275, 3.0212521614437917, 3.0211929588175006, 3.021172659203545, 3.0210559826713013, 3.020853428779956, 3.020691808385437, 3.020557403534291, 3.0205048501388165, 3.0203731029724046, 3.020191380310299, 3.020038212097482, 3.019915653658973, 3.019855757941566, 3.0196491693158296, 3.019466043554156, 3.019227850182679, 3.0190823216592464, 3.0191387169917268, 3.0189904818171267, 3.0189408938418025, 3.0190172143834015, 3.019003220693348, 3.0188621844684875, 3.0187334105715755, 3.018688815301208, 3.018549033399379, 3.018414369310416, 3.0182078257408085, 3.0178949399040054, 3.017649289552476, 3.0175245841003644, 3.0174264412472716, 3.017176700310079, 3.017052966606938, 3.0169443476444338, 3.016802378396022, 3.016546718446481, 3.016354614870569, 3.0162862387403644, 3.0161963459021357, 3.0161162125974186, 3.016017193290236, 3.015914768131629, 3.0157731689122027, 3.015595187542828, 3.0154459868452816, 3.0152621381070626, 3.015100748779808, 3.0150309853946196, 3.0148041155499405, 3.0146102474612575, 3.0143098740926804, 3.0141494920941523, 3.0142155609321364, 3.0142782528478604, 3.0142293949203056, 3.014121678447953, 3.0139940862255696, 3.014078178862426, 3.0140952481002588, 3.0139660430369997, 3.0138412927939706, 3.0137374728172093, 3.013543325813694, 3.013339374795963, 3.0129994699060925, 3.0128752682005744, 3.0127449716266423, 3.012695454799986, 3.01257307371096, 3.0125246929214793, 3.012331437517565, 3.012258112622866, 3.0121204015222567, 3.012005087281707, 3.0119927894264404, 3.01204947959282, 3.0120795627880126, 3.012090601643989, 3.011928543870489, 3.0118250525962154, 3.011578326530589, 3.0114017014764833, 3.011319756665293, 3.0111276781911553, 3.010993566101546, 3.010922200865679, 3.010888127891557, 3.0107167634468555, 3.010662450094421, 3.0104944278217776, 3.010490023931486, 3.0104223766559297, 3.0103690161685406, 3.0102884739694726, 3.0100465131466856, 3.0102659807133545, 3.009943971380595, 3.00967561034072, 3.0096630741454855, 3.0095178645169214, 3.0095451530800497, 3.009426132307665, 3.009295814309549, 3.009129167756275, 3.0089159437947566, 3.0088465475941857, 3.0085799392395782, 3.008474819334004, 3.008270896694874, 3.0080343430745233, 3.0078126699381422, 3.0075924986190032, 3.0072826228367684, 3.0070074774330697, 3.0068043745455815, 3.0065883358301115, 3.0064422179516295, 3.006262044233865, 3.0060081658545728, 3.0058730787592114, 3.005847481389432, 3.005776267748135, 3.005604838060311, 3.005420977526012, 3.005160651937325, 3.0049351895645, 3.004817096251003, 3.004504090002528, 3.00428871639579, 3.0040132256648926, 3.0037419200557367, 3.0035083722814293, 3.003136560125173, 3.0027925234451125, 3.0025375469256197, 3.0023255671278677, 3.0020518659528377, 3.0018562995173075, 3.001605229899903, 3.0013042550950213, 3.0012953024795697, 3.0010611905083477, 3.001089563087581, 3.0008734832957575, 3.000701114749056, 3.0007222105239513, 3.0003481923771753, 3.000241048329133, 3.000042955253461, 2.999830124471133, 2.999711559482887, 2.999608533382627, 2.99949443904849, 2.999399635439971, 2.9992612418498967, 2.9991340780323483, 2.9989564458294637, 2.9988016118832777, 2.998558502209689, 2.9984399542730418, 2.998336647624997, 2.998196194330197, 2.998049433207781, 2.9978263307489703, 2.997620272641321, 2.997416516295974, 2.9972235571463095, 2.9970268860781326, 2.996912632729102, 2.9969262128523066, 2.996873551407618, 2.996639391716499, 2.9963492849567097, 2.9961444850519716, 2.9959504152975462, 2.9956826154909564, 2.9955866335517243, 2.9953448631578947, 2.9951953889373466, 2.9949195684075502, 2.994798514610556, 2.9945975801766482, 2.9944398097803013, 2.9942662406870295, 2.9940123508426133, 2.9937923191582025, 2.9934827991277353, 2.9933603285548918, 2.9932170509533504, 2.9930108990134334, 2.9927763450002667, 2.9925615761107474, 2.992281598261778, 2.9919532379797995, 2.991833089624562, 2.9917974946977295, 2.9915855492234806, 2.991255019276809, 2.99094642228239, 2.990633027390098, 2.990487316142735, 2.990299068931547, 2.9901747089266997, 2.9901351612562572, 2.9901060014969527, 2.9900255081508686, 2.989954249581697, 2.9896186269495235, 2.9893981010355315, 2.9891878201988185, 2.9889647608922134, 2.988684116864876, 2.9884046021902995, 2.9881501452354384, 2.9879375303885456, 2.9877791544821193, 2.987514704905949, 2.9875068857985423, 2.9873896334940775, 2.9873165273376543, 2.987257861230911, 2.987070591668433, 2.9867305600634877, 2.9863924165096076, 2.986177043848153, 2.985858721756337, 2.985489928677651, 2.9851523162726084, 2.98487936127683, 2.98467907800767, 2.9845336512836282, 2.984528449498276, 2.9844578955964365, 2.9841623683186493, 2.983835764663521, 2.9834580747530275, 2.9832555823095492, 2.983228452971304, 2.983114872124801, 2.9830029402415494, 2.982681391559509, 2.9823062631685175, 2.981991982194333, 2.9818016980777133, 2.9816332146040154, 2.981355817792289, 2.9809782104819815, 2.9806127743519437, 2.980412952102845, 2.9800872222549564, 2.9799184931194898, 2.9799357654704757, 2.980105821586767, 2.980190610137823, 2.980201806189441, 2.9802964429062158, 2.980212949950973, 2.9800231462642093, 2.979903429462531, 2.9796926955059586, 2.979647958548846, 2.9792625696840656, 2.9791240111705486, 2.9788846438749155, 2.978572853788499, 2.978378632402709, 2.9782530715909, 2.9780941759184287, 2.9778666150367266, 2.9776193091586682, 2.977347086095023, 2.9772425356822807, 2.9771604038303865, 2.9770283840296954, 2.9768397436836214, 2.9766869300278787, 2.9765745060170525, 2.976387728425688, 2.976301436809817, 2.97620337669157, 2.976299341060896, 2.9763767513629125, 2.9763647012768684, 2.976373762291866, 2.9763288047073098, 2.976355391232105, 2.9761231386000206, 2.9757986699874883, 2.9756058178687086, 2.975407142142436, 2.9751320525401805, 2.9750037192621135, 2.9748424694831175, 2.974637860009835, 2.9743679445945452, 2.9741975156870692, 2.9739267317621714, 2.973640182065899, 2.9735106496808363, 2.9733633176824408, 2.973321860798724, 2.9731255357575916, 2.9729885275085164, 2.9726522357135505, 2.972603639664261, 2.972502002338223, 2.9721950494533376, 2.9719387410987954, 2.971745254567002, 2.97150355118194, 2.9713106795365167, 2.971127635797103, 2.971073060099168, 2.971035800871183, 2.9709212645874974, 2.970787389775079, 2.9706225694694193, 2.9703523087396606, 2.9701963568297747, 2.970008231184313, 2.969777014435754, 2.969648218358501, 2.9694203796946312, 2.9691242213751345, 2.968907615788802, 2.9687927188077867, 2.96863848917148, 2.9686890338529417, 2.968559591691897, 2.968290826709973, 2.9681029235155836, 2.967929137503856, 2.967906831396016, 2.967728201625692, 2.9675994745962146, 2.967463293830546, 2.9673446423227317, 2.9671331008723634, 2.9670826072780567, 2.9670079563527034, 2.9667979354393106, 2.966716762574533, 2.9666502564077053, 2.966474837645228, 2.9663885929285225, 2.9663170919757333, 2.966071400029617, 2.9658122160721705, 2.9655905240997416, 2.9653041739892463, 2.965091531052011, 2.964852293883434, 2.964612894242078, 2.964425147785142, 2.96415549211225, 2.9639476839052636, 2.9638453572780734, 2.963499548122061, 2.9632964633711842, 2.963100251454988, 2.962919526908328, 2.9628052531148676, 2.96260287257199, 2.96231959715723, 2.9622205424053094, 2.9621136153034735, 2.96211034950473, 2.962029014509843, 2.9618251529798463, 2.961769930492668, 2.9616567251420856, 2.961477812113864, 2.9612524466719186, 2.96111541948703, 2.9610816809111578, 2.960916710364042, 2.960740231338898, 2.9604977401215136, 2.9603253471342477, 2.960259448319932, 2.9600374604067143, 2.959832769571126, 2.959711764441955, 2.959522479306732, 2.959307286750447, 2.959110976178574, 2.9590267465790845, 2.9588539068637547, 2.958597983526005, 2.958446390824872, 2.9583103272440914, 2.9580319882419244, 2.957851870207321, 2.957617021190283, 2.9574330310582218, 2.9572487812752466, 2.9571589531700826, 2.957112120952625, 2.9569989354220327, 2.956798210343209, 2.956585265064008, 2.9563636946435987, 2.9561938774835532, 2.9561030827611177, 2.9558776716284814, 2.955562128160148, 2.9553292162122915, 2.955112753664902, 2.954861015081659, 2.9546368849898044, 2.9544485240848224, 2.9542178608829808, 2.953972058729058, 2.9537560925473927, 2.9535427605490265, 2.953228480357718, 2.95300226523378, 2.952796978835223, 2.9526353983788565, 2.952416320441923, 2.952241166001197, 2.9520075009170457, 2.9517938145427745, 2.9514264051716226, 2.9512379759781435, 2.951000132802777, 2.950941234591918, 2.950681440084739, 2.950498045931639, 2.9504343841352347, 2.9504787281201375, 2.95032094776135, 2.9504491946481983, 2.9503335434742337, 2.950168593617731, 2.950071285829823, 2.949987507559384, 2.950033176102081, 2.9498180741724154, 2.9496935587293893, 2.9496847116156073, 2.9495661881117483, 2.9494684120621995, 2.9492778859780033, 2.949043228929641, 2.948899490597337, 2.948819035553145, 2.9487942878055673, 2.9486658117253692, 2.9485823113328595, 2.9483865716718176, 2.9482963538531735, 2.948024648672177, 2.9480007228792497, 2.947948958606868, 2.9479916982064243, 2.9481081831504587, 2.948133635640585, 2.9481015396885497, 2.948001977091104, 2.947855982835393, 2.947751451708856, 2.947714375454974, 2.947601367808524, 2.9476855502599735, 2.947765336745514, 2.947726865394299, 2.9476891246403474, 2.9476839058893862, 2.947653444042642, 2.947653561653628, 2.94757815899381, 2.9474761399173857, 2.9474385579924895, 2.9474644514580195, 2.947313084943883, 2.9471956358971876, 2.9471041127512265, 2.9470023109585197, 2.946946186359839, 2.9470845548113824, 2.9470204238871323, 2.9468569257293393, 2.9468702102580537, 2.9467237061978135, 2.946687878580465, 2.946596786815936, 2.9464424174267525, 2.9462450561822493, 2.946033009946083, 2.9458587386335524, 2.9458701367346314, 2.945804836875913, 2.9457471257813004, 2.9457615226027447, 2.9456825243601523, 2.9455914545460726, 2.945507284432238, 2.9452927491397274, 2.9452410073748156, 2.945194013335798, 2.945226529701629, 2.9452890390846447, 2.9452868868483386, 2.945300102203857, 2.945189728120287, 2.944987376103252, 2.9450205874360793, 2.9448538478627895, 2.9446406425826144, 2.9446595949017977, 2.944511208842398, 2.944459967828972, 2.9444731669315285, 2.9443418083560005, 2.9443221079023525, 2.944203958274858, 2.944209293586541, 2.9441589458169353, 2.9439375755434285, 2.9438307776228463, 2.943677566451419, 2.943685305103334, 2.9435026702145457, 2.9434165763362907, 2.9433413651445512, 2.943295816315714, 2.943184964462475, 2.943015868574287, 2.9428814603618276, 2.9428084621445287, 2.9427386070896704, 2.942618146060563, 2.942545363891535, 2.942465428968291, 2.942322735805858, 2.9421572137931213, 2.9421458658140414, 2.942026425936676, 2.941819695836076, 2.9417097726329677, 2.94166819733462, 2.941453627472176, 2.941260138411524, 2.941208555567653, 2.941087354860579, 2.940961525009926, 2.94079606687438, 2.9406469890968867, 2.94053714770087, 2.940352502982607, 2.9401549896284624, 2.9399667129325593, 2.939744078607361, 2.9396411431329414, 2.93948341164604, 2.9393168290763394, 2.939338110791529, 2.939391274224244, 2.939399118482282, 2.9393454733551128, 2.9392633314471355, 2.9391651840236634, 2.9390279892048685, 2.9389477637416688, 2.9390167202351316, 2.939079337011021, 2.938987383761424, 2.9388081159522987, 2.9386849727398983, 2.938587971750644, 2.938573929064229, 2.938331751004451, 2.938150223275732, 2.937959890216314, 2.937817341484119, 2.9376643393845243, 2.937581194961552, 2.937415140664307, 2.9373080232241993, 2.9371543458476315, 2.937093679968855, 2.9368818376322507, 2.936601433072488, 2.9365377388923064, 2.9365142934118125, 2.936437064054898, 2.9363138098997728, 2.9362724960176902, 2.9362080135328767, 2.9360143168219186, 2.9359674340019186, 2.9357749482581643, 2.935822403680533, 2.9357087972266704, 2.935452427876165, 2.935280112569639, 2.935062046493413, 2.934921587063335, 2.9347000774972605, 2.9345423725423223, 2.9344911762949146, 2.9343205052879844, 2.934171278843106, 2.9340571911981552, 2.9337675771540814, 2.9335953408294824, 2.9332537940309087, 2.933166403629175, 2.9331033006071077, 2.933094880689211, 2.93282002218499, 2.9325507353245075, 2.932246318461684, 2.932011519374069, 2.9317977437908382, 2.9316774733401667, 2.9314083488795215, 2.931190554853339, 2.9309287589850435, 2.9308148686031243, 2.9307329809853493, 2.930498176667504, 2.930385703276942, 2.930371674350965, 2.930310971475163, 2.9301967835161875, 2.930028444670645, 2.929949877080581, 2.9297757513480214, 2.9295589146950824, 2.9293315149325085, 2.9292336301827904, 2.9291406721557065, 2.9289614835130555, 2.9288740487175, 2.9287211691065553, 2.9284894147973084, 2.928452969433375, 2.9282565397341798, 2.9280338820892307, 2.9278280011074704, 2.9277599586029357, 2.927654376456635, 2.92742588386946, 2.927306997092373, 2.927199553589708, 2.927050572971964, 2.9269456084748384, 2.9267785248736486, 2.9267242156176545, 2.92679574842038, 2.9267061685627698, 2.926600417470119, 2.9264820615318587, 2.92636790536508, 2.9262608768300993, 2.926163839464952, 2.9260229420248027, 2.925886308030297, 2.925728667419439, 2.9256351043248956, 2.9255067217163635, 2.9254428782508537, 2.925259331004727, 2.9250322522328323, 2.924951242968542, 2.9248259699039276, 2.924785859879617, 2.9246664793205492, 2.924584224711099, 2.924444736892015, 2.924262581940892, 2.924112332803315, 2.923969265550606, 2.9238245617431753, 2.9238717283174136, 2.9237876854995495, 2.9236657330529066, 2.9234822721835587, 2.92330706598345, 2.9231596536136544, 2.922910135141297, 2.922685586225425, 2.922610558605814, 2.922565219103351, 2.9224358433333966, 2.9221827648602456, 2.9221227267334453, 2.922068946807859, 2.92195887129619, 2.921954002602935, 2.921887739281838, 2.92174621801024, 2.921581339760227, 2.921368109390272, 2.9212617661191542, 2.9211845738679063, 2.9211251470272352, 2.920919825634603, 2.9207638203806234, 2.9207129917782884, 2.920531883397391, 2.9204305083993174, 2.9203097181778395, 2.9201296255777365, 2.9199972667931466, 2.919915307968922, 2.91973979521002, 2.9196052099866745, 2.91941536063138, 2.919151995762724, 2.9190247137791725, 2.918892094502144, 2.918686457339142, 2.918617015614228, 2.9184952818701992, 2.9184286665948527, 2.9181916226934703, 2.9180580879703193, 2.9178021833713452, 2.917582322982233, 2.917390199236961, 2.9172497040109877, 2.917052600947752, 2.916866069171252, 2.916866459126772, 2.9168560524509712, 2.9167648283557903, 2.9167328202413714, 2.916600805127044, 2.916327560323518, 2.9159962874323804, 2.9159049282034006, 2.9156472186558458, 2.9154558232106984, 2.9153806247961733, 2.9151111628957977, 2.9150024185946615, 2.914853524995595, 2.914528506557174, 2.914290948425302, 2.914200301980584, 2.914054397859605, 2.913995485084173, 2.913777617076418, 2.9137155182231647, 2.913692846053941, 2.913583080324386, 2.913443672933194, 2.9133503656540887, 2.9133121292587325, 2.913207098262941, 2.9131042293223586, 2.913008918836411, 2.912885770510881, 2.912777354756204, 2.9125598117686273, 2.9126042934183958, 2.912638018393399, 2.91263457611027, 2.91258561017754, 2.912595806291951, 2.9125479631422664, 2.9125579086092697, 2.9125128286475572, 2.9124803072292664, 2.9124538098657613, 2.912411862939453, 2.912361442815828, 2.912328157778211, 2.9122865084916625, 2.9123605225800477, 2.912330728786652, 2.9123878707971165, 2.9124692869140545, 2.9124684413908497, 2.912494655907018, 2.91257455688015, 2.9125760006134884, 2.9126796003555184, 2.912742645353512, 2.912772175357386, 2.9126956553519103, 2.9126967235055745, 2.912650765286627, 2.912456085762838, 2.9124603981323407, 2.9125158212644573, 2.9124295061807404, 2.912388272908521, 2.912400613552733, 2.9122973917667996, 2.9122436811715655, 2.9121754432232, 2.9121646567316337, 2.912186215407574, 2.9121428271507073, 2.9121467422019096, 2.9121803234378967, 2.912123119009268, 2.912071611795799, 2.9120350330688014, 2.91204467736304, 2.912077417183926, 2.9121625971496083, 2.911992197396527, 2.9118219184081515, 2.9116494681929272, 2.911593842696092, 2.911565137044195, 2.9115037678280977, 2.911415640769671, 2.9112217794399378, 2.9112390775594803, 2.911226907576465, 2.9113514068871345, 2.9112613925572925, 2.911119709375602, 2.911046953769661, 2.9112035970240657, 2.911141348270893, 2.9110858517219835, 2.910942994940487, 2.9108328232982603, 2.9108378170102465, 2.9108590756007513, 2.9108386356944007, 2.910791651753142, 2.910854770721459, 2.9107804042674963, 2.9106892903748727, 2.9105399355269586, 2.9106693971169384, 2.910582503758, 2.9104310107362044, 2.9103657348458163, 2.9102690685128616, 2.9101496785929903, 2.9100064219204964, 2.909916331394788, 2.9097495107784836, 2.9096153681206354, 2.909512319187108, 2.909476402211606, 2.9093258031150797, 2.909233192875345, 2.9091061769781352, 2.908999725157129, 2.90890314080687, 2.908780813737481, 2.9087148399440417, 2.9086876734881217, 2.9086395701303003, 2.9085707766736038, 2.9084874873878834, 2.908366430132334, 2.9081661849795273, 2.908003706224987, 2.907894614231295, 2.907873864119547, 2.907768563999105, 2.907587922019876, 2.907484235827598, 2.907382535726111, 2.9072050806181307, 2.907154845890371, 2.907147112383086, 2.9071805643339945, 2.9071524816952268, 2.9071337890618034, 2.9070806068291786, 2.906983969153492, 2.9069870265624314, 2.906975803174014, 2.9071972043460086, 2.9071988969494793, 2.9070683957493086, 2.9069528944872154, 2.906972809799985, 2.906739441019141, 2.9066096166422937, 2.906603154441084, 2.9064469675251288, 2.9063941185629285, 2.9062845500196066, 2.906321757732297, 2.9062051219243954, 2.9060760750617476, 2.906035373662815, 2.9059263266041957, 2.905822509814797, 2.905651158060938, 2.9055489875437166, 2.9054709995602046, 2.905316896774646, 2.9051864624690467, 2.9049603922804037, 2.904812233155888, 2.904601856408689, 2.9044909906109937, 2.904380131406017, 2.904310906395715, 2.9043449730806516, 2.9043684666470404, 2.904222019412058, 2.9042848278463693, 2.904227932500911, 2.904068752525593, 2.9039793159150755, 2.9038983886459824, 2.903815453478666, 2.903736499396032, 2.9036589082162427, 2.9035920574371206, 2.9035719687228387, 2.9033220876206958, 2.9033185178697622, 2.9033089819177844, 2.9032861511993135, 2.9032326933168693, 2.9032120222039897, 2.9031035334515587, 2.9029298789113502, 2.902811647551083, 2.9027214948078512, 2.902644268604746, 2.9024529570760644, 2.9023017231772545, 2.902325614357255, 2.902211039866655, 2.9021096135365165, 2.9021095243763275, 2.90202605063744, 2.9018618632944433, 2.9016842383167716, 2.9015231739961287, 2.9013613997214476, 2.901202233439009, 2.9011307936855406, 2.9010691840599185, 2.9009697159375474, 2.9007687728485583, 2.900566793483996, 2.9005720855063175, 2.900369040696496, 2.9002365445210967, 2.900075369792332, 2.89993292453865, 2.8998949522883275, 2.899769917859952, 2.8996832736598543, 2.8995363182668497, 2.8993325197319213, 2.899191934664376, 2.899102789562227, 2.8990158118108185, 2.8988084082255257, 2.8988040354626006, 2.8986301419064273, 2.898423775684098, 2.8983662801397645, 2.8981849445957395, 2.8980895364145085, 2.8981402887274315, 2.898032924089528, 2.8977800352183105, 2.8978272123049758, 2.8976590252591703, 2.89757519249137, 2.8975045000361357, 2.897480316584932, 2.8973706561721286, 2.897271983234145, 2.8971441670616116, 2.8971329777963986, 2.897149275163155, 2.897173524789048, 2.89707716595454, 2.897056167492629, 2.8968991536796, 2.8967409085433005, 2.89664082134206, 2.896514754038464, 2.8965682809259885, 2.896535025791672, 2.8964513076668528, 2.8962678032965266, 2.8960637565675884, 2.8958863534757717, 2.8957610726709317, 2.895663991766335, 2.89562357611937, 2.895509510962142, 2.895376307595382, 2.8952672872683705, 2.895161503435694, 2.895094897282621, 2.8950013731399933, 2.894997298686333, 2.8950067779086766, 2.8949827951920017, 2.8948989999998056, 2.8949142749016388, 2.8949301723500374, 2.894847790439272, 2.894732546028848, 2.8946466195265, 2.894559155247208, 2.8944625128413732, 2.8944382606398014, 2.8943334652765227, 2.894240981533153, 2.8941744745320395, 2.894207220956627, 2.894288223733445, 2.8942265395036935, 2.8941455767754785, 2.8940844103782477, 2.894157058268978, 2.8941178398705403, 2.894070664463408, 2.89401186114005, 2.894010676229492, 2.893932488718942, 2.8938079139952877, 2.8938603611543634, 2.893847559635936, 2.8938178358037225, 2.893801770593892, 2.8937339314999155, 2.8936879367627135, 2.8935792691483746, 2.8935113570340727, 2.893441370080089, 2.893326188204763, 2.893305090619985, 2.893176879314063, 2.8931684680308907, 2.8931015242548215, 2.893005748036384, 2.8932234586628383, 2.893277054012735, 2.893151531473979, 2.893024472435237, 2.8929124747740382, 2.892799468012209, 2.892712192872357, 2.8925883550466973, 2.892489896367987, 2.892470824988018, 2.8924259923647693, 2.8924703810494314, 2.892428829913688, 2.892292753543236, 2.892212474715079, 2.8921477857016407, 2.892070199834496, 2.892039510456354, 2.892073361647593, 2.8920330588559753, 2.89184752522279, 2.891796139654082, 2.8918225983124, 2.891875405128904, 2.8918632445341985, 2.8917898938428426, 2.8917274069649683, 2.891626732922191, 2.8915438270619847, 2.8915239955855485, 2.8914353956898253, 2.8914045014169316, 2.8914139192111694, 2.891394159695541, 2.8913162698220214, 2.8912076717067743, 2.8912067489537323, 2.8911024736668116, 2.891048298609729, 2.8909653992289392, 2.8909019871187787, 2.8908701243556374, 2.8909267871776763, 2.89099023875396, 2.8909944381525072, 2.890979206493557, 2.89093792834363, 2.8908585327763827, 2.890837902429349, 2.8907989258547, 2.8907862927224524, 2.8907420608942074, 2.8908088967982972, 2.8908309665159817, 2.8908291844219107, 2.890874269947533, 2.8907882403908483, 2.8906591140865547, 2.890540055294373, 2.8904789033287246, 2.890280863643433, 2.8902253247731733, 2.890195705027399, 2.8901344187333504, 2.890070393593371, 2.8899950260233442, 2.8899952830748226, 2.8898973128974146, 2.8899064805538677, 2.889780542455918, 2.8897908035632156, 2.8896705922187933, 2.8896672102676657, 2.8896050879552706, 2.8895204739702995, 2.889472420806641, 2.8893648459232306, 2.8893143539017703, 2.8892089211488376, 2.8890862369667305, 2.888945791319441, 2.888820508744666, 2.8887711412273913, 2.888613089709529, 2.8885450549346223, 2.888378206898895, 2.8882398086950802, 2.888173203474357, 2.888131368615911, 2.8880156432960358, 2.8879870320771013, 2.8878584811687906, 2.887853314706164, 2.8877188235593714, 2.887612140713337, 2.8876121790594973, 2.8875271191003336, 2.887384023429707, 2.8874622300512165, 2.8873795676775655, 2.88723059808363, 2.8872191916049186, 2.8871763825040655, 2.8870263266762404, 2.887348898126527, 2.887580739102971, 2.887960405898232, 2.8883459448436857, 2.888319860876367, 2.888279277834437, 2.8882152972854547, 2.8881611546169355, 2.888133926810484, 2.8880438829560244, 2.8880660068550967, 2.887983478567998, 2.887901977848357, 2.8879045692415524, 2.8877797641138416, 2.8877118872861613, 2.887672289135882, 2.887524975200307, 2.88749534548463, 2.8873825980025924, 2.8872532431794204, 2.8871384776298674, 2.8869995595496505, 2.8869143737957, 2.886856998611395, 2.8866726210324263, 2.88659092424594, 2.8864337452825315, 2.8862795292542147, 2.886200702242875, 2.8859807491718246, 2.8858835587317726, 2.8857126723076054, 2.8855332280356087, 2.88538513959373, 2.885163280451919, 2.8850269739284493, 2.8849381481827923, 2.8846990662400325, 2.8846160208468774, 2.8845241279028015, 2.8842639613473984, 2.884136223802934, 2.8840228670428125, 2.883966437724086, 2.8838997587222077, 2.8838096075945123, 2.8838167257007967, 2.883774035034379, 2.8836808129406872, 2.8836384830937543, 2.883484195533324, 2.8833490614727935, 2.883247909010075, 2.8831438168636145, 2.883203778500808, 2.8831096754905765, 2.883070787129715, 2.882955283517395, 2.882873933924984, 2.882725372956369, 2.882664620530212, 2.882635672954438, 2.882488213217553, 2.8824539370329494, 2.882293087505389, 2.8822030361588733, 2.882047329794874, 2.8818928473263052, 2.881794163386992, 2.881687885961368, 2.8816398310276266, 2.8814731254311527, 2.881407556869704, 2.8813431394216273, 2.8810951382633805, 2.8809777599587614, 2.880850727836568, 2.880735190548945, 2.8805599488123206, 2.8804131223551863, 2.8803348354205323, 2.8800839398172067, 2.879940034033561, 2.8796638071826735, 2.879487808924774, 2.879274664941744, 2.8791738606051904, 2.879048538046365, 2.8790333373727375, 2.879053696643591, 2.8789706449356194, 2.8788057724900344, 2.8787320563949184, 2.8785871607480087, 2.8783946192832754, 2.878269339434508, 2.878086153774933, 2.8779908982747266, 2.877860614562733, 2.877852876043943, 2.8777496109134075, 2.8776674909577333, 2.877496506932645, 2.877417774201242, 2.8775818062501304, 2.8774758336701836, 2.8774467088350644, 2.877251264429061, 2.8771275823686246, 2.8770000046046507, 2.8767716200110036, 2.8766053789810493, 2.8765323438952874, 2.876516651505042, 2.8764167356131876, 2.8763258734457957, 2.8762098697808214, 2.8761098201725894, 2.8759199912269118, 2.8758846815389454, 2.8756730260932652, 2.8754755950312565, 2.875401108730587, 2.8752605877890973, 2.8751519207969105, 2.8750418697526614, 2.8748656170785343, 2.8746803159806884, 2.874529597854594, 2.8743341572281778, 2.8742016405608957, 2.874061410287011, 2.8738692155776544, 2.873696298806449, 2.8735829129177315, 2.8734032231293924, 2.8732889731267717, 2.8732102742605705, 2.873229815416755, 2.8731580855750574, 2.8730376089454452, 2.873072188787915, 2.872814008489249, 2.8726656948924094, 2.872574544519937, 2.872405118508758, 2.8722825992279537, 2.872335371127259, 2.8722993371453986, 2.8722301274704347, 2.8722171493642983, 2.8722022431805136, 2.8721221215173234, 2.8720997455953428, 2.872026371101468, 2.871977498646959, 2.871871565957623, 2.8718095985676877, 2.8717176779212465, 2.871621037842438, 2.8715731056935176, 2.8713727254976824, 2.8712785141014288, 2.8711217980792987, 2.8710157991336573, 2.8709356747023675, 2.870873439820231, 2.870701834125339, 2.8706319646611838, 2.8704835660631436, 2.870281990130867, 2.8700824930941433, 2.8698827622775096, 2.8697689950718868, 2.8696182848478577, 2.8694766517897023, 2.8692518460528222, 2.8691093629331403, 2.8689853979923616, 2.8687337412282408, 2.8685432156157247, 2.8684437852484423, 2.8683142681489713, 2.86808873050712, 2.8678797734792725, 2.8677505749179275, 2.8675125827148507, 2.8673874081530975, 2.8671493393190177, 2.8669431792849602, 2.866801887916248, 2.8665862713044916, 2.8664073007914825, 2.866206437891034, 2.8659789762273626, 2.8658999391864732, 2.865666231784569, 2.865437641343379, 2.8652042220361436, 2.865009953709072, 2.864783769475961, 2.864610654313757, 2.8643883952508182, 2.86419654776494, 2.8642310108840254, 2.864145200758836, 2.86396876705335, 2.8639338896750197, 2.8639198549666984, 2.8639601877699867, 2.8639856996237887, 2.86390592413952, 2.86374328029153, 2.863603071646967, 2.863684371376663, 2.8637352687775732, 2.8637649025554763, 2.8637658590249404, 2.8638277907231844, 2.8638620065978646, 2.863802472796225, 2.863634863329935, 2.863545123465743, 2.863556765215186, 2.8635819630283392, 2.863623817651304, 2.8636156018986108, 2.8635256215768146, 2.8635503468034753, 2.8635152222365945, 2.8634834138102945, 2.863374250882839, 2.863170615781069, 2.8631008589810034, 2.863067121442138, 2.8630180050792813, 2.862943466284719, 2.8629662296428533, 2.862944566274492, 2.8628875418341746, 2.8627145253872177, 2.862804053479632, 2.8628952360999675, 2.862928895984437, 2.862892939952933, 2.862833342772927, 2.862781315081811, 2.8627310826439696, 2.8626648351680486, 2.8625341896928944, 2.8624493210498008, 2.8622382271244793, 2.862144318629273, 2.862007657677345, 2.861945295149736, 2.861736314809322, 2.861736780048666, 2.8617926031325154, 2.8616726883402475, 2.861456482272314, 2.8613538302065775, 2.861148959515459, 2.8609633179114566, 2.8609053170432186, 2.860742454329682, 2.8606243138370817, 2.86055767677218, 2.860494631933428, 2.8603163257356052, 2.8602243008891364, 2.8601141999515414, 2.8600644730500755, 2.8599925674734483, 2.859817071822701, 2.8597513216870034, 2.859561700970904, 2.8593718755204494, 2.859309646572677, 2.8592469218303487, 2.859096771811396, 2.8589628713894197, 2.8588146913415597, 2.858653684953707, 2.8586359224107376, 2.858664493292489, 2.8587150016559146, 2.858701242205268, 2.858732178028697, 2.858766857730004, 2.858797257868892, 2.8588002030580033, 2.858791287901361, 2.8587742907880287, 2.8588410031963907, 2.8588193289842336, 2.858794935364865, 2.858783962025663, 2.8587395859583893, 2.8587196417573346, 2.858658327079438, 2.858602189842613, 2.858566942994683, 2.858503045726353, 2.858490915844689, 2.858448468702783, 2.858331376369164, 2.8582465635980903, 2.8581819154333608, 2.8581973959338947, 2.858120368872125, 2.857994449473279, 2.8578932206557806, 2.857800119690956, 2.8577844600065183, 2.8577147053596823, 2.8575663398148468, 2.857451518387341, 2.8573723954356014, 2.857361450737111, 2.8572609199310817, 2.857131637433056, 2.856989122826935, 2.8568589679950978, 2.8568754914240917, 2.8567683069822616, 2.8566111590704693, 2.8564665359366046, 2.856285726755176, 2.856227074659626, 2.8561753845915385, 2.8560182020468763, 2.855855903245317, 2.855666265298918, 2.855622013196241, 2.855522455206029, 2.855341928823194, 2.8552006945019395, 2.8549736975087168, 2.854869463335461, 2.8548000838188226, 2.854618799311759, 2.8544806578737987, 2.8542303546305936, 2.8540803695599486, 2.854076012380918, 2.854102748949213, 2.854026711382344, 2.8539517455321213, 2.853833184488036, 2.853653282658016, 2.8536202576175906, 2.853535400261687, 2.8535941581804813, 2.8535200510481946, 2.8535436368067257, 2.8534630190077936, 2.853431000446698, 2.8532788724860056, 2.8532783349676616, 2.8532488367519635, 2.85307168460027, 2.8529365294927653, 2.852760618754642, 2.852597358046256, 2.8524215202483583, 2.8522734869227193, 2.852088433975146, 2.8518910253868563, 2.851808019959542, 2.851750122043965, 2.851723969853867, 2.8515982487592693, 2.8514164484993487, 2.8512438622008642, 2.8510113227706584, 2.8508488148016204, 2.8506746701710104, 2.8505233297530577, 2.8503570293932015, 2.8502041461886094, 2.85005412108644, 2.8499409227787798, 2.849815663393714, 2.8496868836984586, 2.8496728960751367, 2.8496557256929287, 2.8495520842907243, 2.8494997883893656, 2.849446893646733, 2.8494038044358843, 2.8494165924361097, 2.849355826023082, 2.8492105389902345, 2.8492219996641377, 2.849199923833994, 2.8491365869946965, 2.849122322142632, 2.849057493784567, 2.8489682486531036, 2.8488921226962525, 2.848777450503539, 2.8487321595259, 2.8486158515851794, 2.848495473923039, 2.8483856938234053, 2.8482554963162054, 2.8481620952739086, 2.8479672142052497, 2.847846925171708, 2.8478347284724133, 2.847695707617908, 2.847591134268856, 2.847368774991969, 2.8473523605711657, 2.8472361238127193, 2.8471465652846164, 2.8470679711748708, 2.8471236166035814, 2.847044140642923, 2.8469383817200264, 2.846929442337695, 2.8469046226339803, 2.84696088707982, 2.8468676889839744, 2.8468074572739144, 2.846617980081005, 2.8465339594179238, 2.8463692534031653, 2.846296390606103, 2.846310830432566, 2.846176575144331, 2.846169443216336, 2.8461162489140803, 2.846144716128243, 2.8460120624125054, 2.8460042125618403, 2.845960539237357, 2.8458509839827486, 2.845805911586488, 2.8456668639542215, 2.845671814661717, 2.8456384016061413, 2.845644957966487, 2.845741791602292, 2.8457111503804695, 2.845655192801146, 2.845571644429154, 2.8454934386783077, 2.845526814717082, 2.8454873261895743, 2.8454416596884093, 2.8453196148887856, 2.8452979351202243, 2.8453420850512754, 2.8453818653609977, 2.8454149505621995, 2.8454547076546333, 2.845415092925968, 2.8453973815683438, 2.84536235025189, 2.8454135816463957, 2.845493843498523, 2.8455522930886, 2.8455877474827136, 2.8456441471871017, 2.8455891834278035, 2.8454275667822126, 2.8453241044087103, 2.845170146824479, 2.845166793649418, 2.8451256492851797, 2.845132403916506, 2.845157269514483, 2.8451523027364813, 2.8451227662589376, 2.84510099707423, 2.8450127274875183, 2.8448487720118276, 2.8446776832984972, 2.8446498927140724, 2.844560462187046, 2.844425026965935, 2.8444351391309426, 2.8444158055620377, 2.8443956978679235, 2.8442846003354014, 2.844240927793361, 2.8441346309598083, 2.8441001078379666, 2.8440397578970353, 2.8439736110674656, 2.844136643694368, 2.844253113159151, 2.8443413508203252, 2.8443168162254615, 2.844194074917806, 2.8440584851203505, 2.8440755363888193, 2.8441493381724188, 2.844171576833913, 2.844122486610565, 2.8441145066621636, 2.8441261287324564, 2.8442282119858286, 2.8441942593179856, 2.844252336068382, 2.844199889321011, 2.844217339694696, 2.844095801801095, 2.844000742509194, 2.843848827204976, 2.8439657659624404, 2.8440809014855573, 2.8441776257727307, 2.844258350334918, 2.8443800908215735, 2.844345514388892, 2.8443278810197086, 2.844270902795955, 2.844248470193288, 2.8442340679550684, 2.8442051031446334, 2.84426082307193, 2.84433553642134, 2.8443811043909664, 2.844364005656648, 2.8442694561598887, 2.8441303242683005, 2.843978757944338, 2.8439726708430637, 2.843919977174536, 2.843905182865855, 2.8438863261430902, 2.843926031154791, 2.843873317609644, 2.843852961440796, 2.8438161381133122, 2.8437985754444877, 2.8437010699671004, 2.8436913122232785, 2.8436424551588, 2.8436752819309823, 2.8435754160570506, 2.8435234859216325, 2.843407800791256, 2.8433784445838977, 2.843371759597618, 2.843267314785428, 2.8430332329347183, 2.8431343197798347, 2.8431655655398838, 2.843053623308992, 2.8429941981125073, 2.842960699637613, 2.8429240555881714, 2.8429077496383757, 2.8428729059617104, 2.8429121585748596, 2.84290475677188, 2.8428688146402052, 2.842853082309916, 2.8428663788453963, 2.8428636941735, 2.8428870464670477, 2.8428986394192526, 2.8429924896665235, 2.8428543373334603, 2.8428216938910778, 2.8428633768025033, 2.8428155076370256, 2.842851354391075, 2.842834418345958, 2.842752561823236, 2.8427122912488882, 2.8426712929053606, 2.8425727622832575, 2.842443484338251, 2.8423729310841863, 2.842346313500239, 2.8423171595489456, 2.8421908512500513, 2.842156538510741, 2.842094258761194, 2.8420965573207, 2.841970825144518, 2.8419454320106627, 2.841997586691152, 2.841766214196553, 2.8417106176048907, 2.8417347558692625, 2.8416635492328286, 2.841636488970373, 2.841600448696101, 2.841608200644769, 2.8415389039622863, 2.8415352885884246, 2.8414713886155476, 2.8414118439453513, 2.8413197847849463, 2.8412665626649356, 2.841198300791099, 2.8411375143617708, 2.8410596960823304, 2.840854399242192, 2.8407375427483514, 2.840583862317317, 2.840487677550317, 2.840412451395666, 2.8402777653101947, 2.840288873299969, 2.8401275653829763, 2.839945346597317, 2.8397923504821456, 2.8396297820851175, 2.8394687825968328, 2.8394394245257293, 2.8393587985332966, 2.8392963290490187, 2.8391660662183407, 2.8391429437136586, 2.8390887852898268, 2.8389957814650244, 2.8389267832958343, 2.838819831277657, 2.838659428103137, 2.8385132059525793, 2.8383632968985757, 2.8383122859493004, 2.838209928230964, 2.8382597442763715, 2.838160427042414, 2.8381803456918213, 2.8381592877105084, 2.8381338014620106, 2.838043424240997, 2.8380152973209847, 2.838030755456462, 2.838045442860329, 2.8379619286745283, 2.837942832479008, 2.837884224337676, 2.837709954996357, 2.837639019088456, 2.8376154319230684, 2.8376596287504765, 2.83766975719848, 2.837719675707662, 2.8377937794686603, 2.8377342839313426, 2.8376189659767337, 2.837582267207761, 2.8375198936856334, 2.8373352201702957, 2.8371324097021526, 2.837057566679177, 2.837023378996846, 2.8368341480912567, 2.8368029191073205, 2.83668715659463, 2.8366784102665332, 2.83659255736059, 2.836537176326332, 2.8365219579191083, 2.8364460328794223, 2.8363994759341837, 2.8363855515940486, 2.8363445416322666, 2.836287702552359, 2.8361825143103334, 2.836089678855115, 2.835943233886314, 2.8358908890806633, 2.835780510538347, 2.8357119166797498, 2.8356397719303463, 2.8355591055931293, 2.8353702602675517, 2.835206354548371, 2.835081722020216, 2.834841112053748, 2.834769154212982, 2.8346929376162575, 2.8346084053090403, 2.8345422284285977, 2.834480891632672, 2.8344298036725335, 2.834230700313091, 2.834035638843523, 2.8339810991985117, 2.8338946860515852, 2.8337568783370957, 2.8337115615474633, 2.833609304495961, 2.8335647692129644, 2.8334468750650754, 2.8334026600145257, 2.8332601785207774, 2.833167455540785, 2.8331472999189766, 2.8330524967517534, 2.832981257254535, 2.8328581098140213, 2.8328084291232085, 2.8326833222794883, 2.8325284535900317, 2.8324667574731035, 2.8322802678685135, 2.832166754285369, 2.832036706244093, 2.8318408622927453, 2.831806684823533, 2.8317088697178043, 2.831582175728323, 2.831529972299623, 2.8314032730683545, 2.8313272759602914, 2.831253218948519, 2.8310732581476, 2.831000096469584, 2.830912106072323, 2.830786274572504, 2.8307351953881925, 2.830656730889326, 2.83061325044937, 2.830568483301234, 2.830545010598318, 2.8304275855765884, 2.8302940063216284, 2.8301350790438478, 2.8300133516956, 2.829989716539731, 2.829848739363322, 2.829693148384604, 2.829532273785545, 2.8293707147933533, 2.8291902893636807, 2.8290196886434824, 2.8289051384264488, 2.828786434166065, 2.8286911949133455, 2.8286160068761674, 2.828458296507754, 2.8283318489725637, 2.82824776364808, 2.828187844442745, 2.8280713618950912, 2.828022083234262, 2.827882218253776, 2.8278077870713387, 2.8277454790686987, 2.827688979769982, 2.827618830349318, 2.8275931689155147, 2.8274780098055206, 2.82733589842441, 2.8272330443224476, 2.8270891159971194, 2.827052462335413, 2.8268731504009588, 2.8268603863669557, 2.8268170908101444, 2.8268421141972593, 2.826756896635082, 2.8267013180161444, 2.8266154298625255, 2.8266897616705684, 2.826628965238534, 2.8266239446999943, 2.826564167722087, 2.8265189981192136, 2.8264347713591644, 2.826319183313022, 2.8262362257240885, 2.8261923174270565, 2.8260781088370863, 2.825976315109015, 2.8259585440486372, 2.8258528512833916, 2.8258145833522543, 2.8258256740995433, 2.825894706499787, 2.8257429778689507, 2.8256153078101436, 2.825528969122922, 2.8253891142954464, 2.8252546733314454, 2.825298064714463, 2.825245969805195, 2.8251921488771967, 2.8250668519243747, 2.8249543960312375, 2.8250258175303067, 2.825037098273712, 2.8250836065556686, 2.8252151045556753, 2.8252291185828566, 2.8252705301653775, 2.825192497424572, 2.825206305620547, 2.825258791420936, 2.825162772732114, 2.825064890669739, 2.8249042374047453, 2.8249192313363407, 2.8248298072142144, 2.824686886127984, 2.8246371648121014, 2.8245418931710042, 2.824468151629552, 2.82439580006149, 2.824417134898451, 2.824404884344574, 2.824384004820137, 2.824371068447904, 2.8243711248514214, 2.8242545138535444, 2.8241630596093557, 2.824111178279783, 2.8240709063470892, 2.824116967612902, 2.8241394198203422, 2.824195666408104, 2.8241830326802484, 2.824228493756656, 2.824201315735062, 2.8241504229638923, 2.8241007772165236, 2.8240895062590083, 2.824209210184831, 2.8242657544744407, 2.8243042211151335, 2.8243291663518804, 2.824282186169615, 2.8242318403374536, 2.8241262732617307, 2.8241027967876025, 2.824112531658591, 2.824166394540234, 2.8242566314617155, 2.824354942342189, 2.8244469726833907, 2.8244281549318866, 2.8243756453159445, 2.824403810514553, 2.8242761686501003, 2.8242617403775676, 2.8242002561611703, 2.8242657454966404, 2.8241897464934707, 2.824220844306324, 2.8242472216367687, 2.824145744937163, 2.824132869558106, 2.8242309162396393, 2.824210584528536, 2.8241941243523843, 2.824122991670308, 2.8241301877842835, 2.824153858399175, 2.8241823678549207, 2.8241495586386045, 2.824140500362275, 2.8241473816763722, 2.824171870456368, 2.824203976284324, 2.8242030025519673, 2.8242781900767087, 2.8242962053325003, 2.8242661675474343, 2.8242056994281604, 2.8242031992718544, 2.8241439587254793, 2.824101835789146, 2.8240220381160683, 2.824034475623614, 2.824039461631845, 2.824037005981664, 2.823981391326743, 2.82398364151395, 2.8239644371415595, 2.823953067109047, 2.823888390746597, 2.8237914117580485, 2.8237665598977517, 2.823743919831748, 2.823755032840087, 2.8236795284587477, 2.8236323006922195, 2.823675293417415, 2.8237379995328538, 2.823740886640298, 2.8237563484514254, 2.8236615729698977, 2.82361524704544, 2.8236157148036143, 2.8236264592064155, 2.823594767492985, 2.8235158156454463, 2.82346452312604, 2.823400163015522, 2.8234355287423414, 2.823493542762346, 2.8235176582669084, 2.82358715244855, 2.823554402582304, 2.823519209935003, 2.8235031214669624, 2.823442605333661, 2.8234157725658147, 2.8233297249124685, 2.823194695879861, 2.8231407848341528, 2.823130278000479, 2.823162460272539, 2.8232525342424597, 2.82322196092496, 2.823258963350546, 2.8232919418282187, 2.8232467431059156, 2.8232015350131445, 2.8231931603562823, 2.823195999184359, 2.8231346909636947, 2.8231168275342253, 2.8231278700435656, 2.8230596511548978, 2.823006128934585, 2.823040950627497, 2.823132776724205, 2.8231217859304256, 2.8231178219485487, 2.823093526491161, 2.823156305164396, 2.823117106482769, 2.823064739240983, 2.8230312171982437, 2.822980724032477, 2.822985887848191, 2.8229948431432312, 2.8228994632128352, 2.8228260053056107, 2.8228790612547625, 2.822891299102356, 2.8228497389151928, 2.822857085415831, 2.822852580174607, 2.822796961682141, 2.8228622103264045, 2.822892524018453, 2.8229193372373045, 2.8228706034092683, 2.822815178402104, 2.822780867369929, 2.8226191900102213, 2.8225427546871686, 2.822521380106196, 2.8223405074262615, 2.822271509102732, 2.82217259712762, 2.8221069952397344, 2.822054240261091, 2.8219881587032183, 2.8219610512599793, 2.821985480127748, 2.82190501708335, 2.821978114715995, 2.821967389517284, 2.8220368904784365, 2.8220332102559955, 2.8219393844403995, 2.8218166246667105, 2.8217180344387103, 2.8217195264560853, 2.821628892200493, 2.821773390835231, 2.8217954580572515, 2.821763686413334, 2.8217672398162796, 2.8217057401448624, 2.8217261699175, 2.821764772044355, 2.821840292497323, 2.821791292568986, 2.8219061674531045, 2.822017924212639, 2.821921976593926, 2.8219443593240325, 2.821953799556193, 2.8219637805158153, 2.8219282709084084, 2.8219242776480744, 2.8218354355995685, 2.8217821050053433, 2.8217111942088335, 2.821647954837755, 2.8216337682220605, 2.8216165281360253, 2.8215297130736263, 2.821494180236804, 2.8216569649133745, 2.8215517798937984, 2.8214571252016927, 2.821335520586914, 2.8212176063683865, 2.8210939768574286, 2.8210320805896343, 2.820943987819265, 2.820787830673541, 2.8206942838182676, 2.8205635278161796, 2.820438592709094, 2.820350937312438, 2.8202629550686007, 2.8201330165222833, 2.8200470904124013, 2.8199907214819615, 2.819886181039287, 2.8197650143311614, 2.81975335782801, 2.8197841960307715, 2.819723220165371, 2.8197184748542754, 2.819585649393021, 2.819418297183445, 2.819287694966164, 2.8193855122264377, 2.8194573766416973, 2.8193851516083024, 2.819340996350268, 2.8192473161374116, 2.819195044849837, 2.819063727252894, 2.819065281626289, 2.819028078359744, 2.8190100838426906, 2.8189378568476147, 2.8188267754347125, 2.8188121215124076, 2.8188249964382055, 2.818692181213992, 2.818695079898578, 2.818571368138316, 2.818545483863967, 2.8185252878045985, 2.818540883711914, 2.8184346550639816, 2.818347379548772, 2.8182951620550183, 2.8182852558234646, 2.818225579415463, 2.8181439260311625, 2.8180806522016715, 2.8180119943271436, 2.817910223965984, 2.817804124767169, 2.8177804705988287, 2.8176263435942377, 2.8175164770416496, 2.817398605699286, 2.817337700839149, 2.81730843102609, 2.8173037473868905, 2.817310270835121, 2.8173109001843364, 2.8172801428405796, 2.8172021918878145, 2.8170901856833304, 2.8170824134889343, 2.8170217374567974, 2.8169901463857476, 2.816965673294109, 2.81698572758379, 2.816986835338858, 2.8169140503064845, 2.8168990346159353, 2.816797333043602, 2.8166968867646753, 2.8166733660853156, 2.8166539061401217, 2.816596523961036, 2.816534752281866, 2.8165166006624336, 2.8163947916425482, 2.8163378054589217, 2.8161848003860186, 2.816202696539046, 2.816194472107321, 2.8160981396624907, 2.8161275286498504, 2.8160835855073776, 2.815965370776785, 2.8159206762445415, 2.815823154107018, 2.815725657493059, 2.8156905183848067, 2.815547709718088, 2.815398325506345, 2.815331790256739, 2.815248668336576, 2.8151389174950188, 2.8151172754445457, 2.8150267355057217, 2.81488741938342, 2.8147795552998356, 2.8147518252518435, 2.814647697568781, 2.814640258014162, 2.8145386615553107, 2.8144801151150434, 2.8143192921388933, 2.8142109402539415, 2.8141529526313285, 2.813983044510485, 2.813857848224346, 2.8137673551046265, 2.8135883387120684, 2.813461511662261, 2.8133614457325367, 2.813172886736292, 2.813016514334659, 2.812917254823314, 2.8127313933157474, 2.8125712848735698, 2.8124375427975217, 2.8122561318165977, 2.812095130985821, 2.8120803275151953, 2.8119574868871045, 2.811763428540236, 2.8115846645147045, 2.8115066417746615, 2.811313265937651, 2.811208490034116, 2.811231270170186, 2.81120795409628, 2.811292166417506, 2.811381383063615, 2.811487899770562, 2.811544618209568, 2.8116341839615853, 2.8117068831436423, 2.811740326548026, 2.811765890043717, 2.8117675295044187, 2.8118260692641486, 2.8118166170223517, 2.811855326399184, 2.8118109879842894, 2.8118721069799304, 2.8119173689057315, 2.811854839094519, 2.8117966038212123, 2.8117116260012858, 2.8116222530356203, 2.811704567965849, 2.8116543859683514, 2.811677004988103, 2.811689268473512, 2.811703985637559, 2.8118114849017957, 2.8117648106441715, 2.8117044119651267, 2.8116752504657163, 2.8115641577951895, 2.8115153887565003, 2.8114284808580643, 2.811401529302699, 2.8114296016285745, 2.811351128523776, 2.8113449943437367, 2.811389683653544, 2.8113921475281063, 2.8113940603748593, 2.8113327035957, 2.8113425788969497, 2.8113183824593877, 2.8112002822701334, 2.811071767323691, 2.8109876389192827, 2.810910842383693, 2.810857470331527, 2.8107443092203943, 2.8106602558036777, 2.810494468059518, 2.81041848825227, 2.8103990960190726, 2.810384885069758, 2.8102914768772935, 2.81025548078559, 2.810184568778405, 2.810120559005422, 2.8100088127760974, 2.8099277415353976, 2.809803901712454, 2.8097403663958893, 2.809664896599375, 2.8095286714693137, 2.8094470402958915, 2.809409286036676, 2.809498742625434, 2.8093901101679255, 2.8092742753221325, 2.8092391487326553, 2.809135339196615, 2.809050175415961, 2.809002304957106, 2.8088350642907236, 2.8089341575831024, 2.808865386951276, 2.8088674363714796, 2.8087742123360804, 2.8087667830491787, 2.8088118528532067, 2.8087097110525145, 2.808641280167768, 2.8086598713857502, 2.8087793844683695, 2.8086961714417447, 2.8086794774994357, 2.8087404992409977, 2.8087057973774145, 2.808788379445182, 2.808758096004704, 2.8087219591270873, 2.808791509472554, 2.808761297850628, 2.8087588997321675, 2.808656876408303, 2.808631117329848, 2.8086510843702945, 2.808591920374915, 2.8085830438040946, 2.808535300420465, 2.8083933821423286, 2.8083125589380713, 2.8083061899892883, 2.8082260887735067, 2.808128934679154, 2.8080585273402425, 2.8080492073246814, 2.808041641114379, 2.8081515215206387, 2.808264309772541, 2.808330562628309, 2.8083336387570057, 2.808336882375553, 2.8083910814468362, 2.8082504526862, 2.8081161243176753, 2.8080356915615936, 2.807947218777661, 2.807945430621222, 2.8079699321099585, 2.8080071677970313, 2.8080541175477673, 2.808056030689988, 2.8080644060795463, 2.8080973536877045, 2.8081235945997842, 2.8081938014885677, 2.808299696898562, 2.808438706716107, 2.808543417724158, 2.808609510750594, 2.8086827416764364, 2.8087583562882674, 2.8087867792639662, 2.8088193245556283, 2.8089117784858026, 2.8089963206782813, 2.8090001044103565, 2.8089682556146593, 2.808882826565768, 2.808885754386144, 2.808757171720396, 2.8087143110614505, 2.8087004776541904, 2.808697024860444, 2.808678850141839, 2.808702476734231, 2.808659718768034, 2.8086127781188113, 2.808693589257049, 2.808695607491472, 2.808669976316262, 2.8086578586233863, 2.8085885821347216, 2.808607666160134, 2.8085515381982122, 2.8084527283490845, 2.808424466409286, 2.8084647332606605, 2.808417186028865, 2.808448739499528, 2.8083839902877537, 2.8083458447468184, 2.8083077633539815, 2.8083081267324794, 2.8083054687490243, 2.8082725090022387, 2.80818665922652, 2.8080538360016947, 2.8079648412998446, 2.8078639606008764, 2.8078906709023927, 2.807855810749524, 2.8077797762958028, 2.807768458000952, 2.8077473519682044, 2.807622659450987, 2.807546443911462, 2.807405316318344, 2.807305910454718, 2.8072657846973725, 2.807080427935626, 2.8069880125727558, 2.806985680769127, 2.806908028207315, 2.806830671119748, 2.806821771000371, 2.806831526839326, 2.806732297635425, 2.806743840799395, 2.806726901856564, 2.8066036242607457, 2.806564647045344, 2.80639472270828, 2.8063893589748994, 2.8064175949634462, 2.806397029820109, 2.8063478268987447, 2.806267267482097, 2.8062424295836963, 2.806292935779445, 2.806327524823021, 2.8063889163317786, 2.8063950276765186, 2.8064811394489606, 2.8064750235428235, 2.806515276998375, 2.8065232589612865, 2.8064720347453758, 2.8063852182163025, 2.8063324826519818, 2.8063229547619604, 2.806298431647708, 2.8062702891801323, 2.806231895683284, 2.806224492905492, 2.8062915482784665, 2.8062673031300096, 2.8061877361873853, 2.8061779203370114, 2.806145247338183, 2.8059977959278433, 2.8058912529273035, 2.8057949572710448, 2.805753478307813, 2.8056321401094895, 2.8055473419987313, 2.8054402413188892, 2.8053959252357408, 2.8052319185394667, 2.8051830500043486, 2.8051506756992266, 2.805002066938537, 2.804883254630673, 2.8047647006893053, 2.804669696749342, 2.804562040570977, 2.804711840549032, 2.8046430279892074, 2.8045118529194464, 2.8045790426902886, 2.8045424378011337, 2.8046845039975947, 2.804723212339913, 2.8045856081482547, 2.8046563718816944, 2.8047154743036193, 2.8046948504914027, 2.804606432830432, 2.8046096271828813, 2.8045586434104894, 2.804603837156122, 2.804584082801995, 2.8047037373758132, 2.8047180116586987, 2.8047217433045692, 2.8047504005567805, 2.804746287998981, 2.8047553426626575, 2.8047636564858434, 2.8047054153556066, 2.8047140260641736, 2.8046865112613113, 2.804607351639232, 2.8045960196593076, 2.8045412171373876, 2.8045830477159965, 2.804558479341221, 2.8044669859286246, 2.804462859525075, 2.8043943804667903, 2.8044431053484553, 2.8044717949457265, 2.804442835663816, 2.8044162989276993, 2.8043675829090913, 2.804356046190815, 2.804360059655101, 2.8043327938479377, 2.804327132350717, 2.8042328467203395, 2.80417869695048, 2.8041951127448783, 2.8041598170459987, 2.8040849234828085, 2.8040170252928363, 2.8039899675914475, 2.804039285824039, 2.80401351120309, 2.804015566027277, 2.803967987649353, 2.8039226700967244, 2.8038536500907454, 2.8038477253484344, 2.803772738071453, 2.8038112012090775, 2.8038118520289865, 2.8037709513138576, 2.8037430366245086, 2.803692383545772, 2.8036925189048754, 2.8036966629468054, 2.803721155104229, 2.8038248061006614, 2.803775973571477, 2.8037350436062134, 2.8037508723868716, 2.8036951685850013, 2.803608640374591, 2.8035321658544152, 2.8034960342225914, 2.8034405072658743, 2.8034322876368374, 2.803460453998667, 2.80348705252023, 2.8034303578048974, 2.80355456584207, 2.803612028744788, 2.803613536997771, 2.8036042705802355, 2.803614502365284, 2.803579049528396, 2.803642454972613, 2.8036330300729864, 2.8036267864126234, 2.803604384400507, 2.80359890474778, 2.803622423703012, 2.803576427844118, 2.803677476810307, 2.8036250979101522, 2.803655940048514, 2.803622502076322, 2.8036117502745594, 2.8035587271305427, 2.8035233807727997, 2.8034854682818646, 2.803466791117055, 2.803529244850867, 2.8035833391750233, 2.8035592277667107, 2.803464400087283, 2.803538198383782, 2.803636171496069, 2.8036982385563443, 2.8036489937572715, 2.803673902656374, 2.8036461527782017, 2.803634168082868, 2.8037079486302323, 2.8037040130315805, 2.8036633294229456, 2.803706350257953, 2.8036664766887753, 2.80359752508346, 2.8036041865684216, 2.803520930916809, 2.803500889392364, 2.8034477588009405, 2.803401381791654, 2.803444272552898, 2.8034607083302445, 2.803409240071679, 2.803503745323698, 2.803466918961165, 2.803473275712094, 2.803459361047806, 2.8033867501753345, 2.8033449972461058, 2.803291005977957, 2.803302954390119, 2.803280279942463, 2.803236599589593, 2.8031947602459533, 2.8031606536466924, 2.803255374046201, 2.8033205279668145, 2.803262501025813, 2.803207576886757, 2.803141192310044, 2.8030419920907352, 2.8030149323940132, 2.8030591895930175, 2.802986437467649, 2.802945169833107, 2.8029047829223046, 2.803034396909861, 2.803093507395359, 2.8031198333633935, 2.8030354763195877, 2.8029586785021245, 2.8029131809112497, 2.802880103655937, 2.802838609488575, 2.802797164465971, 2.80274901808415, 2.802695018132872, 2.8026651037558588, 2.8026179729434753, 2.8026015516685523, 2.802572358305128, 2.802498403427797, 2.8024801794974654, 2.802405487709106, 2.802357733466857, 2.802367320067315, 2.802328055983948, 2.802316374050078, 2.802333840138464, 2.8023534381279567, 2.802323274987537, 2.8023591841868205, 2.8023473101122343, 2.8022702949784093, 2.8022500939444424, 2.8022215888726687, 2.8021912224894088, 2.8020830603466376, 2.801992533180379, 2.802019978639945, 2.802046026223494, 2.8020739029537074, 2.801990798790917, 2.8018801677542573, 2.8018437105008935, 2.8017723771376057, 2.8017746500744902, 2.8017465048672925, 2.8017025407038694, 2.801661651618824, 2.8016414285622764, 2.801567019258414, 2.801474766547414, 2.8014578875237777, 2.8014156920636775, 2.801442055369881, 2.801354167550026, 2.8012820594465127, 2.8013300278932456, 2.801271653091749, 2.801316323312521, 2.8013427617260787, 2.801230960702084, 2.801164676691464, 2.801073348355008, 2.8010368145165887, 2.8010944052928743, 2.801122218650722, 2.801045197250243, 2.8010575117869925, 2.801036251786332, 2.8009936330729017, 2.8009412554540765, 2.8009154480997607, 2.80084236014598, 2.8007635969282614, 2.8006935744767523, 2.8005905460167333, 2.800542620511399, 2.8005386342949503, 2.800443739230387, 2.8003522601550848, 2.800278957854024, 2.8002062725600307, 2.8000785764676364, 2.799984386797954, 2.799882883730812, 2.799856255308155, 2.7998289277303408, 2.7997153931920824, 2.7996063578909545, 2.799534644977544, 2.7995209676009765, 2.7994145596215247, 2.7993868890295603, 2.799382157284159, 2.799409008242067, 2.7992936415296086, 2.7992368865568906, 2.7991900588808845, 2.7991605402904156, 2.799047670905318, 2.7989380182882093, 2.7988240831925486, 2.7987585337298535, 2.798724261477337, 2.7987197722672237, 2.798676011490045, 2.7985814506387796, 2.798581877764727, 2.79843065398244, 2.7983752380430644, 2.7983401586265755, 2.7982958833781733, 2.7982653567085913, 2.7982418435092447, 2.7982088487168952, 2.7982088874973545, 2.798153926946639, 2.7981660616404, 2.7981445042051925, 2.798102837389394, 2.7981043273367154, 2.7980850782301108, 2.7980279700933166, 2.797925279903777, 2.797806323185536, 2.797757317347515, 2.7976931629990536, 2.7976463587131626, 2.797641132703309, 2.797519802245526, 2.797460724081691, 2.797492314389737, 2.7974874492600876, 2.7974216615915513, 2.7973274467082696, 2.79731163210589, 2.797221749809017, 2.797207267447801, 2.7971505887142496, 2.797067850183435, 2.797019363209182, 2.79697873546076, 2.796949458556787, 2.79690058800879, 2.7968128724215844, 2.796737487140586, 2.7966913204938555, 2.79669636653267, 2.7967097856266947, 2.7967247714515997, 2.7965941346726675, 2.796570463892439, 2.796621321439548, 2.796611703498007, 2.7965573956479566, 2.796462323578465, 2.7964300617994198, 2.796405350192603, 2.79632341221509, 2.7963846989444554, 2.7963687987060912, 2.796321965170977, 2.7962952020888956, 2.79628005469023, 2.796194132743844, 2.7961674306925084, 2.7961964918226747, 2.79623895953937, 2.7962238708164335, 2.79619095454681, 2.796120604194667, 2.7959677871777187, 2.7959115543245407, 2.795876857076181, 2.7957937854114703, 2.79574231094018, 2.7957734745031497, 2.795667492149371, 2.7956693517070024, 2.795664580280069, 2.7956159881273703, 2.795597741222922, 2.795461926586716, 2.795425126077866, 2.795365365085242, 2.795347732237652, 2.795362360444443, 2.7953339253187446, 2.7952465433317673, 2.795257670292298, 2.7951972206363074, 2.795148634417764, 2.7951475443859, 2.795144363184531, 2.795125663807892, 2.7950932360350227, 2.795057793252291, 2.795160352606674, 2.7951088770377113, 2.7951266150657585, 2.795097568107374, 2.795061171203381, 2.795053442391169, 2.7950492644955935, 2.794961499541448, 2.7948664816469764, 2.7948307784237967, 2.7947605532053656, 2.794691699094483, 2.7946596159647172, 2.794526593433192, 2.7944205575684946, 2.794291603366713, 2.7943294925456144, 2.7943704955925455, 2.794265541395827, 2.794221789277225, 2.7941215726764, 2.79403910575683, 2.793956149487809, 2.7938669735035333, 2.7937732116044467, 2.793685931329552, 2.7936044287305677, 2.7935971519398843, 2.793612228572594, 2.7936684630067856, 2.793628105246824, 2.7935678723383908, 2.7935100962866133, 2.793446796840568, 2.7933540849834, 2.7932820131893483, 2.7932577336016786, 2.7932167220205435, 2.7931799808242954, 2.7931632426482245, 2.7931883513173568, 2.7931500885351035, 2.793054724909248, 2.7929806754574154, 2.792922045881283, 2.792861891776742, 2.7928781349644334, 2.7928162299039636, 2.792756860102331, 2.7926674702492953, 2.7926236748018782, 2.7926268289925233, 2.7926323632617556, 2.792634194813884, 2.792554950140835, 2.7925324275735144, 2.7924792056718193, 2.792423170788074, 2.7922570594337337, 2.792176566361549, 2.7920876643421386, 2.792050034941574, 2.7920618214953734, 2.791958228546177, 2.7919717054238387, 2.7918413149340147, 2.7917853792128042, 2.791673701493036, 2.791700033788086, 2.791722740434845, 2.7916041033654713, 2.7915516689731024, 2.7914123533022384, 2.7913286076214425, 2.791311543272789, 2.7912584749558267, 2.7911173836555703, 2.791051965616266, 2.7909853807923977, 2.790864392389282, 2.7907862030985338, 2.790782556630436, 2.7906584991277423, 2.790662434101039, 2.790583775128597, 2.790476581562614, 2.790354369643239, 2.79034990539928, 2.79025685777382, 2.7901359345895482, 2.7901218217034094, 2.7900596539926585, 2.790000243133847, 2.7899920091193975, 2.7899143774759665, 2.789804615821247, 2.7897138435300457, 2.789673665624386, 2.7896711609995513, 2.789650530460398, 2.7895180118239873, 2.7895279484679323, 2.7894631505032788, 2.789394774837813, 2.7892651344003867, 2.7891341500658386, 2.789006954030381, 2.788890718585907, 2.7888053239673924, 2.788664608707014, 2.7886490040947574, 2.7886318293722816, 2.788604996368415, 2.7885315345902697, 2.788570954592824, 2.788577960110739, 2.788544647480852, 2.7885272910845234, 2.788437745064088, 2.78842317451197, 2.788344033444679, 2.7882934968544726, 2.7882471299511273, 2.788260963378643, 2.7882319184208666, 2.7881909487617267, 2.7881912031871283, 2.788085329505432, 2.78798546158839, 2.7879581835888785, 2.7878855018695607, 2.7879223286915193, 2.787947143934525, 2.787956693943086, 2.7879005965894716, 2.7878303165035905, 2.7877609447518665, 2.7877299330934915, 2.787625379034569, 2.7875032722696558, 2.787459284272159, 2.7874188141857092, 2.787357534276684, 2.7873424411375165, 2.787338556674609, 2.787332185611975, 2.7872997905318235, 2.787294871976211, 2.7872783147221156, 2.7872544666191006, 2.787241482706634, 2.7872637179164714, 2.787246367456316, 2.7871885930837124, 2.7871253321352443, 2.787073009603678, 2.78706848612583, 2.7869689768460666, 2.786931129889241, 2.786908647013768, 2.786818020573396, 2.7867563670717295, 2.7867876031414713, 2.7867020469329473, 2.7866516575863978, 2.7865970597364376, 2.7865550246567294, 2.7864713069587714, 2.786443115874571, 2.7865096854088263, 2.786533816337456, 2.786476729043358, 2.7864217070628583, 2.7863344650949418, 2.786294974986355, 2.7862206712879836, 2.786168027654459, 2.786145911200681, 2.786132950796581, 2.7860460059645438, 2.7859387893161145, 2.7858313273908326, 2.7857718752828666, 2.785776748574481, 2.785780631542782, 2.7856842410661207, 2.785580153813231, 2.785511261916609, 2.7854502318528076, 2.785377907640457, 2.785366179234268, 2.785276679580216, 2.785188232902117, 2.785068388148505, 2.7850388193928355, 2.784995385889715, 2.784933178902987, 2.7848273049951935, 2.784718993062991, 2.784673539840059, 2.784637043499882, 2.78453318912517, 2.7844919572268982, 2.7844192933495093, 2.7843546980106204, 2.784229020836636, 2.784169614166147, 2.7841398300625886, 2.784103659998193, 2.7840127647874415, 2.7838612857121423, 2.78373936867474, 2.7836408775950474, 2.7835920229462094, 2.7835008535936256, 2.783405761992388, 2.783298988536769, 2.783172770349991, 2.783101250594991, 2.783016988947745, 2.7829499531687465, 2.7828091937275468, 2.7828225276626526, 2.782822097073155, 2.782713481927349, 2.782578831312418, 2.7825459956034053, 2.782437382629398, 2.782419173646351, 2.7824217498962147, 2.782408210782416, 2.782377653414214, 2.7822957956078898, 2.7823013358603044, 2.782219436581493, 2.782234404308856, 2.7822728653864295, 2.782128115934798, 2.782069205633454, 2.781955101716588, 2.781850953657535, 2.781757724822729, 2.781719049378073, 2.7816231648759304, 2.7815845763002347, 2.781512617941264, 2.7814567211672023, 2.7814035740298277, 2.7814005473448487, 2.7814591513393125, 2.781451090468013, 2.7813661622667696, 2.781272830671996, 2.7812672282012336, 2.7812290175888057, 2.781145716043475, 2.781072404021894, 2.7809614378415737, 2.78088620007371, 2.780825302716035, 2.7807349828486747, 2.780670224781019, 2.7805529160388804, 2.780491971456338, 2.780407384381842, 2.780351364053866, 2.7804346231805543, 2.7804120116802995, 2.7803011387901204, 2.7802334960277033, 2.7802035433614485, 2.780120253472696, 2.7801082329635887, 2.7801487193359504, 2.780042574976634, 2.780042196579027, 2.7799972616831536, 2.7799504110264155, 2.7799205391314876, 2.779923127791702, 2.7798429332461443, 2.7797389730016158, 2.7796532715898086, 2.7796443266321114, 2.7797114490515322, 2.7796952405738375, 2.779728630449738, 2.7797763123238273, 2.779672334480717, 2.7796037493852244, 2.7794852873805764, 2.7794915070431534, 2.7794371466671617, 2.7794535579371726, 2.779434972352567, 2.7794029653959043, 2.779375929110004, 2.779329768988984, 2.779318976778333, 2.779367165610242, 2.7792790923105013, 2.7793372239201912, 2.7793073912741755, 2.779306592038344, 2.7793218302175937, 2.779269560832933, 2.779163632706291, 2.7792019422468166, 2.7792103391080767, 2.779205538545264, 2.7792446252086087, 2.779284503437375, 2.7792410193031305, 2.7792470047455997, 2.7792245753499696, 2.7792204714136424, 2.779194018181301, 2.7792045049469523, 2.7790862559242773, 2.779018885544075, 2.7789977113788717, 2.7789270953936565, 2.778880003467001, 2.7787710475087146, 2.7787538174587474, 2.7787099820556103, 2.7786727566722327, 2.7786430035248877, 2.778578126709153, 2.778584336253073, 2.778604950464019, 2.778533449984969, 2.77845620690619, 2.778405160207579, 2.778372884102355, 2.778390765386342, 2.7783095359643677, 2.7782873409082964, 2.7782537425627885, 2.778295251723731, 2.778242504128052, 2.778181086904321, 2.7781114266072993, 2.7781495578810596, 2.778118305711905, 2.7780885048562887, 2.778003855981662, 2.7779927623572234, 2.7780010807453888, 2.7779504338995067, 2.7778909263210867, 2.7778551658902515, 2.7778538363014036, 2.777772358673955, 2.777691140565176, 2.7776982725849404, 2.777702269492673, 2.777655016806026, 2.777658486461663, 2.7776106376568066, 2.777582197046168, 2.7774979967775857, 2.7774360692155016, 2.7773894706878104, 2.7773999971886303, 2.7773794333822117, 2.77736043836285, 2.777365196107408, 2.7773622669351745, 2.7773215611544564, 2.777273600443941, 2.7772651332928633, 2.7772944371537247, 2.7772831451544557, 2.777313030628025, 2.7772609517153346, 2.7772408714832255, 2.777227895457364, 2.777244110824771, 2.777139284556951, 2.777081724680236, 2.7770415108873143, 2.7769940222617566, 2.776954148991658, 2.7769573833432575, 2.776887302167694, 2.776871803512446, 2.776810008412543, 2.776783244801496, 2.7767406060166193, 2.776716458719017, 2.7767200036144595, 2.7767165330082517, 2.7766198339052113, 2.7765628058199474, 2.7765732010205886, 2.776502453016325, 2.776429718170662, 2.77636740205193, 2.776383125884557, 2.7763628572704864, 2.7763021624463016, 2.776255640082404, 2.77614932129869, 2.7761256195402457, 2.776105993809335, 2.776045849677503, 2.775984915899039, 2.7759511672075377, 2.7758928273216075, 2.7758152486635166, 2.7757756734439423, 2.775756824400362, 2.775680457353354, 2.7755934020043997, 2.775742884495215, 2.775702312834689, 2.7756239696258826, 2.775569381617792, 2.775561929674075, 2.775456622433625, 2.775515964466592, 2.7754649066010373, 2.7754794357637698, 2.775501584314547, 2.7754690933144524, 2.77546945616324, 2.7754665826105085, 2.7753736609938993, 2.7753095824940304, 2.7752944851620223, 2.7753401456198357, 2.775290064745413, 2.775294962589776, 2.7752615164578964, 2.775205645038309, 2.7751591300284275, 2.7751408784998004, 2.7751544121605054, 2.7750905787613998, 2.775046468370601, 2.775006923042186, 2.774881421676178, 2.7748725703626773, 2.7748335979813405, 2.7747609691309334, 2.7746939791176817, 2.774624266533253, 2.774567158940094, 2.7744994257847377, 2.7744435631206623, 2.774406338757024, 2.7743519232033687, 2.7743921333552066, 2.77438358980271, 2.7743309621378787, 2.774287888235608, 2.7742162827698413, 2.774154531557616, 2.774163193312391, 2.7741032514432744, 2.774054732225389, 2.7740256245376194, 2.773975878558894, 2.7739073436429544, 2.773848284102786, 2.77384427102149, 2.773847367470967, 2.7737959094423164, 2.773806261919749, 2.7737985527079267, 2.773692630240511, 2.773664032916295, 2.7735603574334378, 2.7734622842857743, 2.7733127348451085, 2.7732230495616856, 2.7731276060201058, 2.7730199729267864, 2.7730170234307647, 2.773090125536851, 2.773101576119315, 2.7730770940897704, 2.773031369351278, 2.7730176452317314, 2.772911982032219, 2.7727607523745164, 2.772736220302444, 2.772642233649628, 2.772565330066225, 2.7724269854496484, 2.7724385515888867, 2.7724415319924725, 2.7724112992099954, 2.7723198926118475, 2.7722569312818637, 2.7721421424786725, 2.772071743181213, 2.772029828860346, 2.771997722974109, 2.7719023864561905, 2.7718050811164963, 2.7717057317782294, 2.771599542630031, 2.7715229073584924, 2.7714869369525763, 2.7714119412692324, 2.7713380840632076, 2.7711946965540646, 2.771123264505519, 2.771033741443449, 2.770919006421559, 2.770926045283268, 2.7710155841787047, 2.771055895119023, 2.7710286926155763, 2.7710303602091244, 2.771024987078826, 2.7710200122804456, 2.770980248046134, 2.7709751339339475, 2.7709262785314785, 2.770867428514059, 2.7708587359137073, 2.770848202154305, 2.77076833747304, 2.7706425118919875, 2.770588064723049, 2.770492010727995, 2.770446224047532, 2.770401453369136, 2.7703548439081436, 2.7702856567300653, 2.7701450069671454, 2.7700586692736273, 2.769945744059351, 2.7698900225678833, 2.769763489121479, 2.76968129750339, 2.7695870358839305, 2.76946314522218, 2.769393363089163, 2.769334611204546, 2.769230669658877, 2.7691409227818893, 2.7690657499875977, 2.7689606857505873, 2.768943624076557, 2.7689084799782995, 2.768865543947924, 2.768872219519738, 2.7688259945433997, 2.7687538307367356, 2.768694199939854, 2.7686537404003193, 2.768593490715174, 2.7685668262461247, 2.7685382130427896, 2.768540664480241, 2.7684488961386284, 2.768404152042666, 2.768340400592518, 2.7682719940394405, 2.768195698719172, 2.768139806819836, 2.7680830016481703, 2.7681002356798627, 2.7679859212662126, 2.7679702646963693, 2.7679144490016756, 2.7679066118856372, 2.767872971930972, 2.7678578802716807, 2.76779840770614, 2.7677614667124684, 2.7676684042209723, 2.767580058352493, 2.7675154074715245, 2.7675543643907465, 2.7674721153470414, 2.7674359176667633, 2.767440935091571, 2.7674466312708503, 2.767372463679265, 2.767318826154555, 2.7673024954396497, 2.7671936156194423, 2.767094522506512, 2.7671158644155454, 2.767069984932975, 2.767011349081221, 2.7670058709746463, 2.7670229846816947, 2.7670365937207566, 2.766996028146068, 2.7669524277710718, 2.7670479922750606, 2.7671049520131192, 2.767032355407302, 2.7669839862998367, 2.766993497614863, 2.766930506031461, 2.766892639844094, 2.7668012854251236, 2.766716807998118, 2.7666746240910585, 2.7666462857324525, 2.7666236619665976, 2.766555450090103, 2.7664824951170104, 2.7664585705172438, 2.7663555844212167, 2.7662802951655245, 2.7662376446861967, 2.7662451513646955, 2.7662358452600126, 2.7662823031314074, 2.7662701327752406, 2.766247215361455, 2.766222201945415, 2.7661947611862097, 2.7661607509068635, 2.766065595722296, 2.766026799267289, 2.7660235037357284, 2.765967147035469, 2.7659710452053146, 2.765972535293603, 2.7659714435377447, 2.7659808567555024, 2.7659516308568524, 2.7659268090710714, 2.7658855138306264, 2.7658146705790596, 2.765757606965021, 2.765673250482623, 2.765650641496502, 2.76577573453698, 2.765714701458735, 2.765671902241739, 2.7655843924889254, 2.7655768418531435, 2.7655212927945434, 2.7654747464608445, 2.7654497040534203, 2.7653544332633295, 2.765245307999133, 2.765126533720546, 2.7650657499644975, 2.7649902451378754, 2.7649123209889903, 2.7648191332713634, 2.764738116735217, 2.764652038495311, 2.764552514314016, 2.7644560543304157, 2.764385824914129, 2.764283374340834, 2.764176306172754, 2.7641220341424937, 2.76412455021972, 2.764096495248515, 2.76407894235703, 2.76400029226193, 2.763910507842898, 2.7638485932922334, 2.7638384286362814, 2.7638228485087755, 2.763815518797055, 2.763735040941552, 2.763645729767228, 2.7636034262454343, 2.7636005952082408, 2.763498486049491, 2.76338221176614, 2.763334567631756, 2.76324592326733, 2.763209904954468, 2.763191755263232, 2.763065699949955, 2.762995818180613, 2.762975802260694, 2.7628485973031145, 2.762830475396902, 2.7627340172791537, 2.762642606494562, 2.762538330805368, 2.7624686398863756, 2.762495628217636, 2.7624818870487706, 2.7624212480893426, 2.7623438063375403, 2.762272771205054, 2.7622249014719356, 2.7621814994672023, 2.762210625756233, 2.7621496854585783, 2.762068387853021, 2.7620052883860264, 2.7620008415561097, 2.7619714186130437, 2.7619455994861655, 2.7618538268674477, 2.7618462334950418, 2.761726962669112, 2.76169553990486, 2.7615923666974296, 2.7615830469231404, 2.7616092283621962, 2.7615823359131912, 2.7615691086780463, 2.7615204680630105, 2.7613975510370925, 2.7614644104732893, 2.7614975116339733, 2.7615475383819508, 2.761577067945428, 2.7616380000443796, 2.7616643300301162, 2.7616330068370054, 2.7615887549546594, 2.7615895875337766, 2.761681184793194, 2.7617247293454277, 2.761711857181458, 2.761748621796875, 2.761772325418262, 2.7618525165034753, 2.7619151306540672, 2.7619500862491533, 2.7620109803195336, 2.761945361118339, 2.761925240316986, 2.76194492389382, 2.7619656301433753, 2.7619354129030924, 2.7619551303425323, 2.76193121693626, 2.7619294091759565, 2.76195698753582, 2.7620031534860705, 2.761962890628618, 2.7619189261008072, 2.7619962469484354, 2.76203342419014, 2.7621062631343696, 2.762190272527535, 2.762222230453561, 2.7621555367602655, 2.7621535330397267, 2.76216045734095, 2.7622032275318094, 2.7622187342626896, 2.762233846478885, 2.7622175037430847, 2.76224680817692, 2.7622368516832005, 2.762188685305276, 2.7621386086995448, 2.762089953260291, 2.76204342917238, 2.762122536840887, 2.7620639002484095, 2.762032905641035, 2.762031065077654, 2.761959212892191, 2.761840115352854, 2.761775823574465, 2.7617804036783213, 2.7617497313823014, 2.7617061543029884, 2.761678278883037, 2.761702879911233, 2.761734967937759, 2.7617508565542637, 2.761780283997316, 2.7617492399087227, 2.761780662692886, 2.7617421072192627, 2.7616731683454194, 2.7616331207100235, 2.7616320351675023, 2.7616041660594206, 2.7615688480783667, 2.7615575908404604, 2.7615601589697487, 2.761607976093208, 2.7615721390859935, 2.7615542179383747, 2.761533365662141, 2.7614919812681595, 2.7615361732621544, 2.761574642245591, 2.761587233668984, 2.761623810092128, 2.7616835986496566, 2.761637795643918, 2.761670082417382, 2.761711729736859, 2.7616432212878648, 2.761641790649812, 2.761671689529674, 2.7616320976332296, 2.7616418987210833, 2.761545100475144, 2.761557137144132, 2.7615621029854216, 2.7615380479366247, 2.7615200014774643, 2.761437775152839, 2.761388154993963, 2.7613310622515184, 2.7613099943082693, 2.7613389687354726, 2.761246105278577, 2.7611923249437, 2.7611570966480965, 2.76108114599329, 2.7610499669823336, 2.7610057152575656, 2.76092501809053, 2.7609020912967885, 2.7608645870955617, 2.7608616284596694, 2.760837434474315, 2.7608465676143004, 2.7607649779077494, 2.7607733290660015, 2.7607255422438097, 2.7607032014496715, 2.760692604697393, 2.7606128915001125, 2.760612205194324, 2.7605842481704226, 2.7605420681630664, 2.7604628311004724, 2.760508886064981, 2.7605186170835956, 2.7604503068222837, 2.76041351486765, 2.7603747654105613, 2.760350095247879, 2.760368057284275, 2.760343884528127, 2.760296241715731, 2.7602141959905677, 2.7602057552092387, 2.7601741628809258, 2.7602250834120707, 2.7602419591222254, 2.7602369188715645, 2.760251477729721, 2.7602370486150125, 2.760212135297045, 2.7601685540955017, 2.760144879885178, 2.7601504308053393, 2.760132325223125, 2.7600689157202294, 2.760010794694492, 2.759971232664442, 2.759941722218343, 2.759895073557261, 2.7598463429830375, 2.7598115412545514, 2.7597697342213707, 2.7597807175692064, 2.75971971374637, 2.7596534552832552, 2.759571350587415, 2.759597817276276, 2.7595901164184347, 2.7595830531205645, 2.759486436438363, 2.7594283402224016, 2.759316891625842, 2.7592237888289883, 2.7591630740117545, 2.759128963528547, 2.7590915556049493, 2.7590423602792633, 2.7589582231328698, 2.7588966468891063, 2.7588304250234232, 2.758740412640193, 2.7587836845325104, 2.7588427774405315, 2.758817687574271, 2.7587503840194696, 2.7587029292173906, 2.7586191305744494, 2.758532041764262, 2.7585362089696233, 2.7585263015281885, 2.7584317599845765, 2.7583911694025325, 2.7584006779336008, 2.758301515062383, 2.7581935918406444, 2.758127929499258, 2.7580270252810872, 2.7579520398001804, 2.7578480853761147, 2.7577759701671973, 2.7576840342631908, 2.7575405132623345, 2.757488447891446, 2.757455238053341, 2.757377107417421, 2.7572836637302762, 2.757168662842002, 2.757093778996754, 2.7570116764282266, 2.7570080780667805, 2.7569400659922336, 2.756896902127821, 2.7568092371991457, 2.7567958442122418, 2.7567118731529776, 2.7566349889014172, 2.756511970951352, 2.7564482988236447, 2.75647043402318, 2.7564776931262016, 2.756413436964336, 2.756353155643335, 2.756323566703203, 2.756242659470613, 2.756159229863873, 2.7561848837088494, 2.756212528236932, 2.75615662375078, 2.7561064125221666, 2.7561084994715115, 2.7561212173218816, 2.7560813595096287, 2.7560387469328607, 2.7560332415954285, 2.756038221978388, 2.7560372169795797, 2.7560433547764673, 2.756045919353407, 2.7560116302036612, 2.756005805168016, 2.7559907873646097, 2.7559663170241193, 2.7559025139835382, 2.75582575466366, 2.7557962215835063, 2.755701778564611, 2.7556890901154865, 2.75559190860383, 2.7555543796346305, 2.7555162477909487, 2.7554951197914637, 2.7553939353732493, 2.7553742124576117, 2.7553005024052935, 2.755263316587068, 2.755196811250057, 2.7551573535905507, 2.7550729337399975, 2.7550664746768714, 2.755051183722276, 2.755027386966179, 2.7549986632011643, 2.754892434169304, 2.754840140020697, 2.7547829588324304, 2.7547640883608953, 2.7547200341586224, 2.7546700435450195, 2.754560708717947, 2.7545400396275777, 2.754525014260275, 2.754494414606174, 2.7544739656635513, 2.7544444675238866, 2.754414983350398, 2.754418791140565, 2.7543807848845923, 2.754339777430654, 2.75434397181796, 2.754280289685636, 2.7542796171449764, 2.754234005331353, 2.7541694812820507, 2.754128451699449, 2.7541774904103162, 2.754167718648045, 2.7541679153029794, 2.7541524869923877, 2.75411837522573, 2.7540719265554787, 2.7540821193690466, 2.754104983392461, 2.754082925324449, 2.753997070651482, 2.753887320117963, 2.7538205760357264, 2.7537389083485526, 2.7536738031843306, 2.7536333964314896, 2.753685364745666, 2.7537152675298535, 2.7537003775510436, 2.7536840526253954, 2.7537867621673646, 2.753727046540797, 2.753677830442662, 2.753533374473222, 2.7534729042592807, 2.7533964173857632, 2.7533404643176707, 2.753287669920067, 2.7532603227360717, 2.753235592306508, 2.753207440178303, 2.7531827191740934, 2.7531699381416015, 2.7531611060646335, 2.753176288161449, 2.7531132612505096, 2.7531209539472647, 2.753080282993553, 2.7530274718426453, 2.7529501863295898, 2.7529732879026856, 2.752910608220699, 2.752800212369045, 2.7528032452205617, 2.752816224902222, 2.752739451306911, 2.752693704304965, 2.7526265152182163, 2.7525788198439534, 2.7525167878908774, 2.7524928598410323, 2.752404939951572, 2.7523832345227475, 2.752366183727462, 2.7522876100283225, 2.752231694468067, 2.7521752554433467, 2.7520921361565986, 2.7520321387773534, 2.751978578887433, 2.7519770333521465, 2.7519455553607495, 2.751903540126476, 2.751926593630211, 2.7518549553979805, 2.751801095251323, 2.751789786692875, 2.751746050138703, 2.751677328676517, 2.751619057207913, 2.7515559731130086, 2.7514576099969172, 2.751398510039584, 2.7513468655407336, 2.7512783955251634, 2.7511930181220943, 2.7510892241918077, 2.7510141545109463, 2.7509971253689205, 2.7510183290296917, 2.7509920102597096, 2.751023013268861, 2.751042318196606, 2.7510009751213103, 2.7509713025340496, 2.751000550271211, 2.750987020992824, 2.7509052849579376, 2.750903066063885, 2.750929693766307, 2.7509463762627444, 2.750955239917862, 2.75096798843659, 2.750998198439677, 2.7509103599079734, 2.75085025829258, 2.750761345500862, 2.750812875628309, 2.750721711576985, 2.750623208159097, 2.7505926509867153, 2.7505601094918695, 2.750445018984333, 2.7504508728210326, 2.750454104279914, 2.750404628746204, 2.7503439668867173, 2.750344193942473, 2.750233440396242, 2.7501516656594176, 2.750210622702191, 2.750251348444723, 2.7502458901844293, 2.750248223995912, 2.750350885854043, 2.7503342055026168, 2.7503134906874136, 2.7502906880176585, 2.750254735060937, 2.7502598673087593, 2.7502351082925736, 2.750171679569119, 2.7501562891555618, 2.7501563273331615, 2.750159362087619, 2.750153655867531, 2.750056626839002, 2.7500024341020644, 2.750010689697221, 2.750023921749036, 2.7499584756738864, 2.7499100701079673, 2.7499268079523995, 2.749914108385444, 2.74988601247382, 2.749820083992677, 2.749806488322836, 2.749797896223733, 2.74972307021744, 2.749703632732208, 2.7495971349733557, 2.749555614708147, 2.749520072504281, 2.7495130730360446, 2.7494441613953455, 2.7493523545307426, 2.749350024441801, 2.7493007306416914, 2.7493011208363285, 2.7492769769172853, 2.7492449064909223, 2.7492021702936666, 2.7491427695885124, 2.7490791746018393, 2.7491373885648707, 2.7490838828801896, 2.749038220334538, 2.7489816538292393, 2.7488962916530637, 2.748878699602458, 2.74882181058375, 2.7487405978480672, 2.748763364293231, 2.748687817117935, 2.7486761507470736, 2.748648356729597, 2.7485374938834144, 2.7485018827947587, 2.7484604522223792, 2.7484446758960477, 2.748424490071436, 2.7483849478224327, 2.748394827727675, 2.748351813871908, 2.74834480729678, 2.7482891412907158, 2.7482371713046216, 2.7482801117023303, 2.748238732998546, 2.7482075958931973, 2.7481615500206105, 2.7481177750875183, 2.7480170175396212, 2.7480167952130308, 2.7479491235296427, 2.7478880366227942, 2.747818154767131, 2.7477320617000887, 2.747759639017548, 2.7477372752699702, 2.7476867871298825, 2.7476283854047665, 2.747587066828263, 2.747596145269221, 2.7475539468493024, 2.747535679021223, 2.7474534281961835, 2.7473885475880038, 2.747374647696618, 2.7473935615162635, 2.7473855614023486, 2.7473389454129356, 2.747361080741761, 2.7474446161185777, 2.7474810334664572, 2.7474016177595066, 2.7472996839292376, 2.7473444241803193, 2.747306679326774, 2.747231233503309, 2.747240539937827, 2.7472515149811625, 2.747271722062487, 2.7473503358669795, 2.747349716147415, 2.7474175426398104, 2.747430900204006, 2.7473944676110484, 2.7474082565020916, 2.747442932676499, 2.747487672377649, 2.7474696010564856, 2.747492948070944, 2.747553986273113, 2.747524497106439, 2.747478395697266, 2.74752421115197, 2.747509209891644, 2.747462591379744, 2.747432538250244, 2.747500231821754, 2.747505646155886, 2.747531819041178, 2.7474914090701947, 2.747414714915426, 2.7473802570646213, 2.7474050606834246, 2.7475211974864187, 2.7475240472480564, 2.7475713292295767, 2.747549385892102, 2.747470963291286, 2.7474117084137943, 2.7473318935070763, 2.74734908694161, 2.7473899076079094, 2.7473824104719755, 2.7473135715689767, 2.747261167126329, 2.747237847547004, 2.747287499120145, 2.7471867122553966, 2.7471916658270663, 2.747126749449002, 2.747013970814333, 2.7469228478799734, 2.74686600842254, 2.746849801286392, 2.746814487427553, 2.7467983808496954, 2.7467312156706867, 2.7466964684905806, 2.7467180894038687, 2.746740417827092, 2.746755054206893, 2.7467316736058214, 2.7467092378459266, 2.7467237433195146, 2.74674910069796, 2.746686869911709, 2.7466943974946063, 2.7466605616840716, 2.7466519441948147, 2.746649646532888, 2.7465911475954794, 2.7465877449820506, 2.7466432095929174, 2.7467065582159202, 2.7466691798364837, 2.746620108407, 2.7466503247159584, 2.746676038933515, 2.7467135775660827, 2.746729045367913, 2.7467208043693048, 2.7467264887045144, 2.746699496940909, 2.7467527225806396, 2.7467799627169915, 2.74675573308319, 2.7467100121035766, 2.7466206297752302, 2.7465405607903306, 2.7465592600137465, 2.746555450413804, 2.746665185432707, 2.746708857311236, 2.7467402225212507, 2.7468062425755764, 2.746730495307779, 2.7467082735616777, 2.7468474645204277, 2.7469505954836486, 2.7471066878854926, 2.7472082251629586, 2.747361956740964, 2.7474891882727928, 2.747607447910719, 2.747713474315315, 2.7478421478683583, 2.747926605747209, 2.747921645415017, 2.747983888158146, 2.7480416403116297, 2.7481200254149862, 2.7482203853859053, 2.748298093184732, 2.748347163222213, 2.7483758627523516, 2.7483618451133043, 2.7483879276851026, 2.748414808851933, 2.748421738259051, 2.7483456317765493, 2.748339575981729, 2.748383041523644, 2.748414569757839, 2.7483820431817723, 2.748294809813926, 2.7482162902472105, 2.748216811492873, 2.748223077090671, 2.7481978866759644, 2.748091746839139, 2.7480233646384327, 2.748005221789693, 2.7480178236163373, 2.7479394174643135, 2.747870409537857, 2.7478369191519687, 2.747819842144504, 2.747796710531852, 2.7478249855820125, 2.7478008127920988, 2.7477504637304944, 2.7477812537444524, 2.747787816426357, 2.7477918135576727, 2.747787316398086, 2.7477360597511, 2.747711362417493, 2.7477637640467463, 2.7477840936083906, 2.7477935892378103, 2.747751094976496, 2.7477721190187863, 2.747739168565839, 2.7477130730563863, 2.7476953573312204, 2.747631343096183, 2.747593157063011, 2.747518291968591, 2.7475371863974023, 2.7474711712230175, 2.747438203786007, 2.747474426509405, 2.747429805616358, 2.747399497046348, 2.7473515831311293, 2.7473899219256963, 2.7473586358884132, 2.7473004791191493, 2.747213891151203, 2.747098158591874, 2.74704666689097, 2.747004774028139, 2.7470140907447784, 2.7469832722498126, 2.7469750528109054, 2.7469610766794403, 2.7469083373179957, 2.7468870701507964, 2.746902723930231, 2.7469288273063865, 2.7468950302255446, 2.746901634788915, 2.7468156774133785, 2.7467124426750344, 2.7467730268171624, 2.7468928913942907, 2.747021925201975, 2.7470201634102347, 2.7469358842038436, 2.746842406737522, 2.7469310284865536, 2.7469942055659504, 2.746966865537349, 2.746853594725485, 2.7467336723798086, 2.7466603004224934, 2.7465753800110684, 2.7465886975807656, 2.746593044323579, 2.746675794600346, 2.7467348312300306, 2.74666536703766, 2.746579663962317, 2.746579201815282, 2.7466351583927118, 2.746606096083675, 2.746489926084184, 2.74638841842668, 2.746445906934623, 2.746476291909891, 2.7464991986016707, 2.746501603959307, 2.7464937311171473, 2.746372099555912, 2.746313839203557, 2.746370194683726, 2.7463892003512878, 2.746424792845335, 2.746443252487652, 2.7463757957121486, 2.746241230919513, 2.746222782952879, 2.7462968362415645, 2.74623173296064, 2.7462249040660693, 2.7461563728970693, 2.7461137882629614, 2.746015131295077, 2.746058916848778, 2.745947238203223, 2.7458739563306964, 2.7458482940549707, 2.74587939576123, 2.7459329534499557, 2.745917858015153, 2.745861081042426, 2.745927316354969, 2.7459011413314585, 2.745879290269013, 2.7459423061808406, 2.7459504734614977, 2.7459272639312338, 2.745850695628883, 2.7458809260606367, 2.7458305841201183, 2.7457103903537856, 2.7456526083540354, 2.745585316125099, 2.7454941019950634, 2.7454060214919087, 2.745331318029436, 2.745262758287732, 2.7451410431326977, 2.7450963894231055, 2.7449960096889057, 2.744878216606332, 2.7447951625133404, 2.7447343010436063, 2.7447243731811297, 2.7446987496898463, 2.7447148377718626, 2.744883258238252, 2.744957429716583, 2.745015478634532, 2.7449482163887136, 2.7448455359187034, 2.744849000633775, 2.7449042654456393, 2.7450128710536346, 2.7449950787498825, 2.744905699836606, 2.7448666855800603, 2.744859647839331, 2.744862708560211, 2.7448686682315637, 2.744913059092346, 2.744830730545787, 2.7447239910737977, 2.744697035057196, 2.744666270275073, 2.7446199426082925, 2.7445422036686202, 2.7444630747360304, 2.7443426962290665, 2.744254639816469, 2.744218326502554, 2.7441707979274463, 2.7441350072873107, 2.74410494090045, 2.7441082357399624, 2.744090885123225, 2.7441275000939966, 2.744107423614643, 2.744072240058879, 2.744030724217059, 2.7439912486159472, 2.7439960568715223, 2.7439699647648426, 2.743987576019936, 2.7439583158089924, 2.7439053047202004, 2.743811634430061, 2.743707427849472, 2.7436517961237645, 2.743605495128775, 2.7434817964570652, 2.7434525860478014, 2.743302106418256, 2.7433342094156443, 2.7432390366874526, 2.743110906808047, 2.7430579838050853, 2.7430616451521646, 2.743097076885006, 2.7430962130810883, 2.743060795152413, 2.743016510951466, 2.743038248392792, 2.743041178537815, 2.742966120297656, 2.7428909923613154, 2.742974811870792, 2.7429727070227825, 2.74299029335223, 2.742949605147199, 2.742915670532296, 2.7429031065743934, 2.7429311281975397, 2.742869919426798, 2.7428392341327523, 2.7428485997282372, 2.742846610242031, 2.7428051324269083, 2.7428031002585778, 2.74270056129942, 2.742631353003838, 2.742517104311348, 2.7424913768781507, 2.742396674450162, 2.7422611048666137, 2.7421660143138564, 2.742127944079842, 2.7420967597485943, 2.74210033403961, 2.7420257260729697, 2.7419813414176235, 2.7419664056384674, 2.7419267665492275, 2.741874553035333, 2.74184616697021, 2.741810582639327, 2.7418120187542727, 2.741761293155771, 2.7417570636558284, 2.7417659966124215, 2.741742773422965, 2.7417287789194806, 2.741671200841929, 2.741659952882896, 2.7416304026929224, 2.7415917387535993, 2.7415312374354897, 2.7414744357846894, 2.7413701414233955, 2.74133649336399, 2.741295653536608, 2.741229938088014, 2.7411543879445146, 2.741151806963394, 2.7411405812141876, 2.7412510774665995, 2.741228037734391, 2.7411950690618996, 2.7411763826842828, 2.7411355791844048, 2.7410895851691808, 2.7410297373875827, 2.7410544339111382, 2.741078167006811, 2.741045201758507, 2.7410125599990014, 2.7409680278054753, 2.7409347876431958, 2.7409517409607145, 2.740907979756656, 2.7408733200121915, 2.740861875075653, 2.740810179548385, 2.740762453104667, 2.7407300149984466, 2.7406606621600575, 2.740652374536307, 2.740660968904066, 2.7406012400745428, 2.7405461607776758, 2.740528024253953, 2.74049696944139, 2.7404718499030003, 2.740432268261689, 2.740347590661227, 2.7403297879106265, 2.740274850580822, 2.7402872310885296, 2.7402098952794303, 2.7401232719991615, 2.7401154635495275, 2.740081054170536, 2.7401520750712907, 2.7400882243755573, 2.7400928600724828, 2.7400983011631235, 2.7401087298215074, 2.740149050433024, 2.7401732279710584, 2.740217577450218, 2.7402522117885915, 2.7402373552049157, 2.740184203468835, 2.740146087905877, 2.7402122803318787, 2.7402887167239913, 2.740387004088789, 2.740394064610839, 2.7403996712048877, 2.740431938258284, 2.7403769597771883, 2.7403315371264916, 2.7403404909879945, 2.740293240897198, 2.7402784462867893, 2.7402954807810356, 2.7402750810540386, 2.7402179192448646, 2.740215609300953, 2.7401948098486155, 2.7401416293191065, 2.740097605114945, 2.740119233539812, 2.74015169424987, 2.740096745920355, 2.7401012898528814, 2.740146216910882, 2.740161999907392, 2.740268031718349, 2.740283275955848, 2.740276241041742, 2.7402338012784906, 2.7402871956004824, 2.7402386921589357, 2.740291700810671, 2.740258769844148, 2.7402331385015524, 2.740226810403533, 2.7401809484856927, 2.7401149536192553, 2.7400223405036686, 2.739911342592138, 2.739854009216539, 2.739850102619183, 2.7398202470803987, 2.7397678044762555, 2.7396953952042615, 2.739640815274563, 2.7396016929550018, 2.739555554765971, 2.739539039682519, 2.7394830085344695, 2.7394549900811715, 2.739459903506917, 2.7393956845126235, 2.7393369325439676, 2.739318200415784, 2.7393200952317214, 2.739274800286737, 2.7392299983278483, 2.739223901391228, 2.7392002755164797, 2.7391911092797048, 2.7391265292441562, 2.7390996561086673, 2.7391283329665126, 2.739145594039129, 2.7390477486653166, 2.738984462345877, 2.738878273549375, 2.7388016354503533, 2.7387872291671918, 2.738743401680453, 2.7387505243585277, 2.738767330640632, 2.7388057459766073, 2.738747608409099, 2.738666413630286, 2.7386228696758756, 2.738597833084875, 2.7386268893721155, 2.738672705136414, 2.7386987540408803, 2.7387200785045405, 2.738737530631112, 2.7387735117196668, 2.738778968796354, 2.7387906062697143, 2.7387980112635057, 2.738792727468699, 2.738814851181912, 2.7388526558999016, 2.7388630605787387, 2.7387794014877587, 2.738749204164855, 2.738725955738064, 2.73875268991227, 2.7387612058199737, 2.738683787248776, 2.7386671767069655, 2.7386124453263485, 2.73864195478767, 2.7386795115172364, 2.738684348406783, 2.738654054778123, 2.7386441097190635, 2.738670608968729, 2.738671499475114, 2.738664583745818, 2.738756308043211, 2.738754398778479, 2.738762235227524, 2.7388023559493555, 2.738770071797149, 2.7387901350537454, 2.738805189724312, 2.7388168843133522, 2.7388315557714455, 2.7388658755142368, 2.738887748073648, 2.7388923777654584, 2.7388877741218134, 2.7389146333700753, 2.7389168592505384, 2.73894179694219, 2.739013800665715, 2.739011734990125, 2.7390384930526297, 2.738948372119528, 2.7389852728282134, 2.7390049504699276, 2.7389480086442406, 2.738967471822804, 2.73888123024956, 2.7389387720718017, 2.7389490682394086, 2.7389708123805994, 2.7389905612789107, 2.7390072315182175, 2.7389681312689858, 2.7390199723082493, 2.7390106246961956, 2.7390002168694174, 2.738987205822803, 2.739009245027607, 2.739046165378194, 2.739114146802683, 2.7391357450704565, 2.739145110309452, 2.739152244318207, 2.7392107193323447, 2.73924209179172, 2.739216134282127, 2.7392452856138223, 2.739254744519992, 2.7393165295138306, 2.739376555490599, 2.7394955444911115, 2.7395587241283073, 2.7397265723996416, 2.739773854693947, 2.739690112148381, 2.7396525912356093, 2.739599883614191, 2.7395493819926795, 2.73955955695069, 2.7395783199726575, 2.739544259192077, 2.7394775702270957, 2.739386568884402, 2.7393435122663043, 2.739276262455818, 2.7392574941120325, 2.73928240521209, 2.7393324118314775, 2.7392956477639605, 2.739303207126873, 2.739278227615931, 2.7392320354408404, 2.7393111668747094, 2.7392608551278075, 2.7392663071754257, 2.7392579299753312, 2.7392868808760373, 2.739276043806164, 2.7392523419512624, 2.7392209391888223, 2.739205786627719, 2.7391912543787997, 2.7391668272588348, 2.739226127283736, 2.7392014216253946, 2.739201043768914, 2.739187588353984, 2.7391275992589788, 2.739108402012766, 2.7390787419585307, 2.7390527547106864, 2.739046932745297, 2.7390332571640257, 2.7390414810109713, 2.739096741657979, 2.739107193366225, 2.739077477049737, 2.739081165675016, 2.739072135334839, 2.739082435830691, 2.739097291973387, 2.7390707844662225, 2.7391021863690175, 2.7391164618254185, 2.739137236959467, 2.7391409329845184, 2.7391237807043822, 2.739053488195746, 2.739086860963157, 2.7391289531407823, 2.7391106868818964, 2.7390462712322603, 2.739018864163707, 2.7389195578052896, 2.738988220769827, 2.7389666708628475, 2.738930379014004, 2.7389368518420456, 2.7388803620777105, 2.738853278906224, 2.7388051135350557, 2.7387578302728, 2.7387558232641114, 2.7387161251343826, 2.7387294345163724, 2.7387452752707238, 2.7387334868594224, 2.738719820249766, 2.738690981041182, 2.7386560823075112, 2.7386313027894156, 2.738643829320237, 2.738627607414327, 2.7385951726468774, 2.738554129086333, 2.7385450024338396, 2.7385317696255496, 2.7384672535809673, 2.7384378571449735, 2.738463754381081, 2.7384252402378473, 2.7384055808166137, 2.738366208225407, 2.7384076768022405, 2.7384612930818113, 2.7384082582461104, 2.7383957093124325, 2.7384196139086083, 2.738441544933343, 2.738397450210858, 2.73839388247529, 2.738470187599212, 2.7384612873580108, 2.7384731622572493, 2.738493357985834, 2.7385192263254035, 2.738473729474937, 2.738440098216581, 2.738492313789149, 2.7384993477097708, 2.7385237913832507, 2.7384935661761394, 2.7385414187191417, 2.7385136321862276, 2.7384828304433158, 2.7385348866328925, 2.7385138126035913, 2.738525051654272, 2.7385294791915884, 2.73856573790146, 2.7385212248878448, 2.738512932750082, 2.738510891709805, 2.7385606442224777, 2.738542072212188, 2.7385833625840124, 2.7385704168869505, 2.73856581644555, 2.738539165012928, 2.738543480246185, 2.7385657104436514, 2.7385937700621086, 2.738577700289426, 2.7385660531180576, 2.738524591045163, 2.7385317564143534, 2.738482055896321, 2.738444068267706, 2.7385142199086823, 2.738475487650858, 2.7384753224701175, 2.738503703520701, 2.7385517701012563, 2.7385429796276344, 2.738545111258297, 2.738551366142954, 2.7385297178341736, 2.738575656669291, 2.7385763164896075, 2.738576065374259, 2.738567991384662, 2.7385390531849882, 2.7385632397087654, 2.7385958140085616, 2.73858412953358, 2.7385970052775703, 2.738585975141293, 2.7385950665294203, 2.738654876266662, 2.7386055671389227, 2.7386159526472373, 2.738685142469706, 2.7386714152493976, 2.738653709461115, 2.738611680542369, 2.7385991963639196, 2.738544619891399, 2.7385186834052893, 2.738529022769726, 2.7385370945998813, 2.7385656745155327, 2.7385629846601756, 2.7385574018404997, 2.7385067583069933, 2.7384826928420205, 2.738448551720613, 2.7384130017970625, 2.738356541643739, 2.7383469504214366, 2.7383173575467556, 2.738301967564943, 2.7382920822758057, 2.7382362328664835, 2.7382143572968434, 2.7382147405725887, 2.7381405402728602, 2.7380920977425807, 2.738031028633138, 2.7379628268887415, 2.7378994390265134, 2.737849914490294, 2.737777960627514, 2.737741991516305, 2.737687893101586, 2.737650837805453, 2.737598709452812, 2.737595159476003, 2.73750992855244, 2.7374670900150533, 2.737483336311175, 2.7375143945190623, 2.7374667960755006, 2.7374409193468834, 2.737403184565389, 2.737431569010093, 2.7374459905149835, 2.737459421062499, 2.737444854615521, 2.7374269684819095, 2.7373691351929934, 2.7372990589201187, 2.737205910798782, 2.7371421506839297, 2.737129729141799, 2.7370694725489724, 2.7370129149531506, 2.737019838948234, 2.7370268186252216, 2.73704924668904, 2.737029270183459, 2.7369929586784183, 2.7369214033785156, 2.7368950130036107, 2.7368844345459893, 2.736921439380157, 2.7369045705905783, 2.7368986919223723, 2.7368480094613, 2.7367813612495944, 2.7367843208234577, 2.7367882543510342, 2.736787528207516, 2.736727057482635, 2.736683336812484, 2.736689377034218, 2.736635365469155, 2.7365915820181015, 2.7365262087465467, 2.736513681868569, 2.736533379669996, 2.7364630056268724, 2.736446975694062, 2.7364379816841193, 2.7364632451719393, 2.7364147414800652, 2.736413283162385, 2.7364015385886944, 2.7364324061328418, 2.7363545745210414, 2.7362963549530486, 2.736266311024321, 2.7362755057019346, 2.7363150356140737, 2.736354569281154, 2.736346800994869, 2.7363164104491813, 2.736327406154839, 2.7362322018939373, 2.736177675658819, 2.736139047204818, 2.736079476462396, 2.7360454056263745, 2.7359462512525803, 2.735901765527036, 2.7358606296357286, 2.735845846155023, 2.73584344758176, 2.7358560685604756, 2.735841618944279, 2.7358370256300613, 2.73579438289125, 2.735824464851552, 2.7358227843628957, 2.7358361187398352, 2.7358147277215843, 2.7357609123135367, 2.7357011715423205, 2.735641123476752, 2.7356028687599867, 2.735532110499852, 2.7354907544951885, 2.7354623933813893, 2.7354563124029254, 2.7354577285588535, 2.7354826646137145, 2.735464197299775, 2.735455247706594, 2.735440425074292, 2.7355082677495126, 2.7355333026478497, 2.7355691820235783, 2.73555768943924, 2.735457016093277, 2.735436623866275, 2.7354184322713397, 2.735418439259602, 2.7354687875488826, 2.735420136436108, 2.7354099597022463, 2.7354545070982326, 2.735470860144722, 2.735456332306944, 2.735419976631566, 2.7354094812364753, 2.7353709061144884, 2.7353111553951996, 2.735301603034607, 2.7352605081389902, 2.7352718414929718, 2.7352589146708675, 2.7352426398607066, 2.7352111241059722, 2.735144556562212, 2.735191997471343, 2.7351729936621223, 2.7351563216591597, 2.7351303840753713, 2.7351000366191736, 2.7350977682024245, 2.7350770298859644, 2.735075077410213, 2.7350782595133416, 2.735093955893262, 2.73508935948995, 2.7350391966287764, 2.7350648148143137, 2.7350268286727624, 2.735025936978296, 2.735048812641204, 2.735015182695907, 2.735004608088679, 2.7349966767526483, 2.7349233039884053, 2.73486372038862, 2.7348555698696173, 2.7348675704291576, 2.7348882921726174, 2.734917659192074, 2.734881527487389, 2.7348594593951594, 2.734893735654928, 2.734902617070696, 2.73487410873604, 2.7348645719448843, 2.7348359148034764, 2.734761996711254, 2.734786187602882, 2.7347484939953977, 2.7347571819701986, 2.7347457174437424, 2.7347395743826937, 2.734733210494133, 2.734767502084404, 2.7348169192578013, 2.734815200339698, 2.734798152901134, 2.7348032842835868, 2.7347666991590307, 2.734744812507407, 2.7346954206190817, 2.7347057216310766, 2.734705180710834, 2.7347367176986683, 2.7346541632991563, 2.7346051337198802, 2.734595813171196, 2.7345444421617464, 2.734504703800241, 2.7344975599428967, 2.7345074190544154, 2.7345343674803826, 2.734550049725573, 2.7345068279301277, 2.7345282068883314, 2.7345589045523697, 2.734509501876621, 2.734482250057665, 2.7344670329814256, 2.734444729334249, 2.734423144627878, 2.7344262896130056, 2.7344245712917843, 2.7344710325824666, 2.734498139743383, 2.734517511975368, 2.734501184574005, 2.7344538418856517, 2.734478802559557, 2.7344822704923044, 2.7345094377718024, 2.734470485182064, 2.734484433171737, 2.734493793699241, 2.7344608388866543, 2.7344032766385893, 2.734388006845733, 2.7343722272800073, 2.7343627017883048, 2.7344003799538887, 2.7343747125202444, 2.734341398049207, 2.734298346687091, 2.734273691275909, 2.7342452236653596, 2.7342021953735807, 2.7342360194968514, 2.734211776347314, 2.734215107617414, 2.7342474745655707, 2.734217250669509, 2.7341660915245094, 2.734172105722168, 2.7341308807276916, 2.7341403810903895, 2.7341526979104653, 2.7341340125277656, 2.73408397878164, 2.7340318617003394, 2.7339623909080903, 2.733990673459898, 2.7339626506563532, 2.7339356267107062, 2.733913140546395, 2.733918333773722, 2.7339045532893507, 2.733914288874987, 2.733927030473469, 2.733919007129387, 2.7339443427306644, 2.7339643372739126, 2.733978471959603, 2.7339738887876166, 2.733994373395824, 2.73397024595942, 2.7339828744456716, 2.7339621495354116, 2.7339203516927566, 2.7339542078068892, 2.733907097951005, 2.733865738201639, 2.7337982426281644, 2.733775689506075, 2.7337548187850085, 2.7337227500539334, 2.7337526603106483, 2.733743588088643, 2.733748148547266, 2.7337697395460343, 2.7337696654750037, 2.7337054007783097, 2.733762860717233, 2.7337825746618623, 2.733741009807229, 2.7337428547604006]"
   ]
  },
  {
   "cell_type": "code",
   "execution_count": 20,
   "metadata": {},
   "outputs": [
    {
     "data": {
      "image/png": "[encoded data removed]",
      "text/plain": [
       "<Figure size 1000x600 with 1 Axes>"
      ]
     },
     "metadata": {},
     "output_type": "display_data"
    }
   ],
   "source": [
    "import matplotlib.pyplot as plt\n",
    "from matplotlib.ticker import FuncFormatter\n",
    "\n",
    "# Example entropy list\n",
    "batch_size = 128\n",
    "input_sizes = [i * batch_size for i in range(1, len(entropy_list) + 1)]\n",
    "\n",
    "def millions(x, pos):\n",
    "    'The two args are the value and tick position'\n",
    "    return '%1.1fM' % (x * 1e-6)\n",
    "\n",
    "formatter = FuncFormatter(millions)\n",
    "\n",
    "plt.figure(figsize=(10, 6))\n",
    "plt.plot(input_sizes, entropy_list, marker='o', linestyle='-', color='b', markersize=2)  # Adjusted markersize\n",
    "plt.axhline(y=4.41, color='r', linestyle='--', label='entropy original file')\n",
    "plt.xlabel('Input Size (in millions)')\n",
    "plt.ylabel('Entropy')\n",
    "plt.title('Entropy as a Function of Input Size')\n",
    "plt.grid(True)\n",
    "plt.legend()\n",
    "plt.gca().xaxis.set_major_formatter(formatter)\n",
    "plt.show()"
   ]
  },
  {
   "cell_type": "code",
   "execution_count": 89,
   "metadata": {},
   "outputs": [],
   "source": [
    "from src.encoders.huffman import HuffmanCoding as Huff\n",
    "from src.encoders.Encoder import Encoder\n",
    "from collections import Counter\n",
    "\n",
    "def inp(frequenties):\n",
    "  output_list = []\n",
    "  for i,count in enumerate(frequenties):\n",
    "    output_list.extend([i]*count)\n",
    "  return output_list\n",
    "  \n",
    "input1 = [51, 26, 25, 25] # 32 | 31\n",
    "input2 = [25, 25, 25, 25] # 25 | 26\n",
    "input3 = [99, 26, 25, 25] # 38 | 37\n",
    "input4 = [99, 51, 25, 1] # 35 | 32\n",
    "input5 = [40, 21, 20, 19] # 25 | 25\n",
    "input6 = [50, 21, 20, 9] # 23 | 22\n",
    "input7 = [60, 21, 10, 9] # 20 | 20\n",
    "\n",
    "\n",
    "input8 = [40_000, 21_000, 20_000, 19_000] # 24875 | 24016\n",
    "input9 = [25_000, 25_000, 25_000, 25_000] # 25000 | 25001\n",
    "input10 = [39_000, 20_000, 20_000, 21_000] # 25000 | 24143\n",
    "\n",
    "input11 = [394591, 245554, 191805, 168049]\n",
    "input12 = [40_000, 25_000, 20_000, 15_000] # 24875 | 24016\n",
    "input13 = [308440, 272668, 249420, 169471]\n"
   ]
  },
  {
   "cell_type": "code",
   "execution_count": 90,
   "metadata": {},
   "outputs": [
    {
     "name": "stdout",
     "output_type": "stream",
     "text": [
      "250000\n"
     ]
    }
   ],
   "source": [
    "huffmanEncoder = Encoder(method=\"huffman\")\n",
    "test_for = input13\n",
    "\n",
    "\n",
    "out = huffmanEncoder._encode(inp(test_for), test_for)\n",
    "print(len(out))"
   ]
  },
  {
   "cell_type": "code",
   "execution_count": 91,
   "metadata": {},
   "outputs": [
    {
     "name": "stdout",
     "output_type": "stream",
     "text": [
      "246034\n"
     ]
    }
   ],
   "source": [
    "arithmeticEncoder = Encoder(method=\"arithmetic\")\n",
    "test_for = input13\n",
    "\n",
    "out = arithmeticEncoder._encode(inp(test_for), test_for)\n",
    "print(len(out))"
   ]
  },
  {
   "cell_type": "code",
   "execution_count": 75,
   "metadata": {},
   "outputs": [
    {
     "name": "stdout",
     "output_type": "stream",
     "text": [
      "[39, 20, 20, 21]\n"
     ]
    }
   ],
   "source": [
    "frequencies = [49, 26, 25, 25] \n",
    "total = sum(frequencies)\n",
    "scale_factor = 100 / total\n",
    "scaled_frequencies = [int(f * scale_factor) for f in frequencies]\n",
    "\n",
    "# Adjust the last element to ensure the sum is exactly 100\n",
    "scaled_frequencies[-1] += 100 - sum(scaled_frequencies)\n",
    "print(scaled_frequencies)"
   ]
  },
  {
   "cell_type": "code",
   "execution_count": null,
   "metadata": {},
   "outputs": [],
   "source": []
  }
 ],
 "metadata": {
  "kernelspec": {
   "display_name": "ml-exercises",
   "language": "python",
   "name": "python3"
  },
  "language_info": {
   "codemirror_mode": {
    "name": "ipython",
    "version": 3
   },
   "file_extension": ".py",
   "mimetype": "text/x-python",
   "name": "python",
   "nbconvert_exporter": "python",
   "pygments_lexer": "ipython3",
   "version": "3.12.6"
  }
 },
 "nbformat": 4,
 "nbformat_minor": 2
}
