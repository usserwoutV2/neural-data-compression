def transform(input_array):
    arr = np.array([i for i in range(128)], dtype=np.uint8)
    output_array = np.array([])
    for item in input_array:
        idx = np.where(arr == item)[0][0]
        
        arr = np.roll(arr, -idx)
    return output_array

transformed_array = transform(array)

    
